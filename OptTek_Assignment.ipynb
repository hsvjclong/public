{
  "nbformat": 4,
  "nbformat_minor": 0,
  "metadata": {
    "colab": {
      "name": "OptTek Assignment.ipynb",
      "provenance": [],
      "collapsed_sections": [],
      "authorship_tag": "ABX9TyPgLjftpHG9/u8K1j+XpQRN"
    },
    "kernelspec": {
      "name": "python3",
      "display_name": "Python 3"
    },
    "accelerator": "GPU"
  },
  "cells": [
    {
      "cell_type": "code",
      "metadata": {
        "id": "DpKthQXHUWWv"
      },
      "source": [
        "from google.colab import drive\n",
        "drive.mount('/content/drive')"
      ],
      "execution_count": null,
      "outputs": []
    },
    {
      "cell_type": "code",
      "metadata": {
        "id": "W-lvw32JWIYa"
      },
      "source": [
        "# perform imports\n",
        "import numpy as np\n",
        "import pandas as pd"
      ],
      "execution_count": null,
      "outputs": []
    },
    {
      "cell_type": "code",
      "metadata": {
        "id": "5daLkJeUE5_i"
      },
      "source": [
        "# read data into DataFrame\n",
        "df = pd.read_csv('/content/drive/My Drive/OptTek/spotify2010s.csv')"
      ],
      "execution_count": null,
      "outputs": []
    },
    {
      "cell_type": "code",
      "metadata": {
        "id": "rmPezR3dFIrP",
        "outputId": "25692a20-68a8-4a56-aac7-86be7198bbec",
        "colab": {
          "base_uri": "https://localhost:8080/",
          "height": 442
        }
      },
      "source": [
        "# inspect DataFrame columns, data types, and non-null entries\n",
        "df.info()"
      ],
      "execution_count": null,
      "outputs": [
        {
          "output_type": "stream",
          "text": [
            "<class 'pandas.core.frame.DataFrame'>\n",
            "RangeIndex: 21606 entries, 0 to 21605\n",
            "Data columns (total 18 columns):\n",
            " #   Column            Non-Null Count  Dtype  \n",
            "---  ------            --------------  -----  \n",
            " 0   id                21606 non-null  object \n",
            " 1   name              21606 non-null  object \n",
            " 2   artists           21606 non-null  object \n",
            " 3   year              21606 non-null  int64  \n",
            " 4   popularity        21606 non-null  int64  \n",
            " 5   key               21606 non-null  int64  \n",
            " 6   tempo             21499 non-null  float64\n",
            " 7   acousticness      21606 non-null  float64\n",
            " 8   duration_ms       21563 non-null  float64\n",
            " 9   danceability      21606 non-null  float64\n",
            " 10  energy            21175 non-null  float64\n",
            " 11  explicit          21606 non-null  int64  \n",
            " 12  instrumentalness  21606 non-null  float64\n",
            " 13  liveness          21606 non-null  float64\n",
            " 14  loudness          21391 non-null  float64\n",
            " 15  mode              21606 non-null  int64  \n",
            " 16  speechiness       21606 non-null  float64\n",
            " 17  valence           21606 non-null  float64\n",
            "dtypes: float64(10), int64(5), object(3)\n",
            "memory usage: 3.0+ MB\n"
          ],
          "name": "stdout"
        }
      ]
    },
    {
      "cell_type": "markdown",
      "metadata": {
        "id": "3LFs03bG2J0X"
      },
      "source": [
        "It is observed that there some, though not many as a percentage, observations that have null entries for certain columns.  Based on the columns in which the null entries appear and the descriptive questions to be answered, imputation of information into null entries is not necessary until Descriptive Question 4."
      ]
    },
    {
      "cell_type": "code",
      "metadata": {
        "id": "6L9ZkBXJFPek",
        "outputId": "2c07db38-b83c-4f47-9d42-5ec4b5568ab4",
        "colab": {
          "base_uri": "https://localhost:8080/",
          "height": 68
        }
      },
      "source": [
        "# check columns with \"object\" data type to see specific data types contained\n",
        "for col_name in ['id', 'name', 'artists']:\n",
        "  print(col_name + ':  ' + str(df[col_name].apply(type).unique()[0]))"
      ],
      "execution_count": null,
      "outputs": [
        {
          "output_type": "stream",
          "text": [
            "id:  <class 'str'>\n",
            "name:  <class 'str'>\n",
            "artists:  <class 'str'>\n"
          ],
          "name": "stdout"
        }
      ]
    },
    {
      "cell_type": "code",
      "metadata": {
        "id": "N1zenAM8OnbF",
        "outputId": "08f03791-1968-4e8f-c4c5-52ee375038c9",
        "colab": {
          "base_uri": "https://localhost:8080/",
          "height": 394
        }
      },
      "source": [
        "# visual inspection of DataFrame schema and entry format\n",
        "df.head()"
      ],
      "execution_count": null,
      "outputs": [
        {
          "output_type": "execute_result",
          "data": {
            "text/html": [
              "<div>\n",
              "<style scoped>\n",
              "    .dataframe tbody tr th:only-of-type {\n",
              "        vertical-align: middle;\n",
              "    }\n",
              "\n",
              "    .dataframe tbody tr th {\n",
              "        vertical-align: top;\n",
              "    }\n",
              "\n",
              "    .dataframe thead th {\n",
              "        text-align: right;\n",
              "    }\n",
              "</style>\n",
              "<table border=\"1\" class=\"dataframe\">\n",
              "  <thead>\n",
              "    <tr style=\"text-align: right;\">\n",
              "      <th></th>\n",
              "      <th>id</th>\n",
              "      <th>name</th>\n",
              "      <th>artists</th>\n",
              "      <th>year</th>\n",
              "      <th>popularity</th>\n",
              "      <th>key</th>\n",
              "      <th>tempo</th>\n",
              "      <th>acousticness</th>\n",
              "      <th>duration_ms</th>\n",
              "      <th>danceability</th>\n",
              "      <th>energy</th>\n",
              "      <th>explicit</th>\n",
              "      <th>instrumentalness</th>\n",
              "      <th>liveness</th>\n",
              "      <th>loudness</th>\n",
              "      <th>mode</th>\n",
              "      <th>speechiness</th>\n",
              "      <th>valence</th>\n",
              "    </tr>\n",
              "  </thead>\n",
              "  <tbody>\n",
              "    <tr>\n",
              "      <th>0</th>\n",
              "      <td>6UGYIgkzeLp4BQy30B9svV</td>\n",
              "      <td>Anhelo</td>\n",
              "      <td>[\"Adolescent's Orquesta\"]</td>\n",
              "      <td>2012</td>\n",
              "      <td>58</td>\n",
              "      <td>8</td>\n",
              "      <td>91.148</td>\n",
              "      <td>0.500</td>\n",
              "      <td>248947.0</td>\n",
              "      <td>0.740</td>\n",
              "      <td>0.525</td>\n",
              "      <td>0</td>\n",
              "      <td>0.000004</td>\n",
              "      <td>0.106</td>\n",
              "      <td>-13.082</td>\n",
              "      <td>1</td>\n",
              "      <td>0.0458</td>\n",
              "      <td>0.8040</td>\n",
              "    </tr>\n",
              "    <tr>\n",
              "      <th>1</th>\n",
              "      <td>5SIoLK4aqXc2UzNrhVHwtp</td>\n",
              "      <td>Virgen</td>\n",
              "      <td>[\"Adolescent's Orquesta\"]</td>\n",
              "      <td>2012</td>\n",
              "      <td>65</td>\n",
              "      <td>8</td>\n",
              "      <td>90.963</td>\n",
              "      <td>0.725</td>\n",
              "      <td>271727.0</td>\n",
              "      <td>0.660</td>\n",
              "      <td>0.748</td>\n",
              "      <td>0</td>\n",
              "      <td>0.000650</td>\n",
              "      <td>0.127</td>\n",
              "      <td>-4.855</td>\n",
              "      <td>1</td>\n",
              "      <td>0.0440</td>\n",
              "      <td>0.7500</td>\n",
              "    </tr>\n",
              "    <tr>\n",
              "      <th>2</th>\n",
              "      <td>2wCRJwiL1WSrW0Dwfco7Nj</td>\n",
              "      <td>Know Who You Are</td>\n",
              "      <td>[\"Auli'i Cravalho\", 'Vai Mahina', \"Olivia Foa'...</td>\n",
              "      <td>2016</td>\n",
              "      <td>63</td>\n",
              "      <td>11</td>\n",
              "      <td>NaN</td>\n",
              "      <td>0.941</td>\n",
              "      <td>72627.0</td>\n",
              "      <td>0.160</td>\n",
              "      <td>0.145</td>\n",
              "      <td>0</td>\n",
              "      <td>0.091900</td>\n",
              "      <td>0.103</td>\n",
              "      <td>-20.495</td>\n",
              "      <td>0</td>\n",
              "      <td>0.0359</td>\n",
              "      <td>0.0946</td>\n",
              "    </tr>\n",
              "    <tr>\n",
              "      <th>3</th>\n",
              "      <td>6mb6lVLNrcUgLnEN8QnDJd</td>\n",
              "      <td>How Far I'll Go</td>\n",
              "      <td>[\"Auli'i Cravalho\"]</td>\n",
              "      <td>2016</td>\n",
              "      <td>74</td>\n",
              "      <td>1</td>\n",
              "      <td>83.720</td>\n",
              "      <td>0.649</td>\n",
              "      <td>163387.0</td>\n",
              "      <td>0.571</td>\n",
              "      <td>0.307</td>\n",
              "      <td>0</td>\n",
              "      <td>0.000000</td>\n",
              "      <td>0.178</td>\n",
              "      <td>-10.958</td>\n",
              "      <td>0</td>\n",
              "      <td>0.0499</td>\n",
              "      <td>0.1080</td>\n",
              "    </tr>\n",
              "    <tr>\n",
              "      <th>4</th>\n",
              "      <td>32pqqCrnIC5O5iE9c218PJ</td>\n",
              "      <td>How Far I'll Go - Reprise</td>\n",
              "      <td>[\"Auli'i Cravalho\"]</td>\n",
              "      <td>2016</td>\n",
              "      <td>63</td>\n",
              "      <td>4</td>\n",
              "      <td>83.197</td>\n",
              "      <td>0.827</td>\n",
              "      <td>87347.0</td>\n",
              "      <td>0.427</td>\n",
              "      <td>0.449</td>\n",
              "      <td>0</td>\n",
              "      <td>0.000000</td>\n",
              "      <td>0.134</td>\n",
              "      <td>-8.370</td>\n",
              "      <td>1</td>\n",
              "      <td>0.0337</td>\n",
              "      <td>0.2310</td>\n",
              "    </tr>\n",
              "  </tbody>\n",
              "</table>\n",
              "</div>"
            ],
            "text/plain": [
              "                       id                       name  ... speechiness  valence\n",
              "0  6UGYIgkzeLp4BQy30B9svV                     Anhelo  ...      0.0458   0.8040\n",
              "1  5SIoLK4aqXc2UzNrhVHwtp                     Virgen  ...      0.0440   0.7500\n",
              "2  2wCRJwiL1WSrW0Dwfco7Nj           Know Who You Are  ...      0.0359   0.0946\n",
              "3  6mb6lVLNrcUgLnEN8QnDJd            How Far I'll Go  ...      0.0499   0.1080\n",
              "4  32pqqCrnIC5O5iE9c218PJ  How Far I'll Go - Reprise  ...      0.0337   0.2310\n",
              "\n",
              "[5 rows x 18 columns]"
            ]
          },
          "metadata": {
            "tags": []
          },
          "execution_count": 6
        }
      ]
    },
    {
      "cell_type": "code",
      "metadata": {
        "id": "YHn2raRUKAUD",
        "outputId": "6aeaa74f-f9f7-4ffe-dede-7aee2143c3b5",
        "colab": {
          "base_uri": "https://localhost:8080/",
          "height": 34
        }
      },
      "source": [
        "# number of unique entries in 'id' column (primary key according to assignment)\n",
        "df['id'].unique().shape"
      ],
      "execution_count": null,
      "outputs": [
        {
          "output_type": "execute_result",
          "data": {
            "text/plain": [
              "(21556,)"
            ]
          },
          "metadata": {
            "tags": []
          },
          "execution_count": 7
        }
      ]
    },
    {
      "cell_type": "code",
      "metadata": {
        "id": "ThDy4EXGNDf5",
        "outputId": "735880cc-bc3d-47b1-8134-be2386f7a329",
        "colab": {
          "base_uri": "https://localhost:8080/",
          "height": 34
        }
      },
      "source": [
        "# reduce duplicate rows to one per unique row\n",
        "df2 = df.drop_duplicates()\n",
        "# inspect number of unique rows--matches number of unique ids\n",
        "df2.shape"
      ],
      "execution_count": null,
      "outputs": [
        {
          "output_type": "execute_result",
          "data": {
            "text/plain": [
              "(21556, 18)"
            ]
          },
          "metadata": {
            "tags": []
          },
          "execution_count": 8
        }
      ]
    },
    {
      "cell_type": "code",
      "metadata": {
        "id": "VLg7vIQK3KwN",
        "outputId": "2c1a3957-d694-4846-8f89-ebb5e83c953f",
        "colab": {
          "base_uri": "https://localhost:8080/",
          "height": 34
        }
      },
      "source": [
        "# check for duplicated song name, artist, and year combos with entries that are not identical--see paragraph below cell\n",
        "(df2['name'] + ' ' + df2['artists'] + ' ' + df2['year'].apply(str)).unique().shape"
      ],
      "execution_count": null,
      "outputs": [
        {
          "output_type": "execute_result",
          "data": {
            "text/plain": [
              "(20734,)"
            ]
          },
          "metadata": {
            "tags": []
          },
          "execution_count": 9
        }
      ]
    },
    {
      "cell_type": "markdown",
      "metadata": {
        "id": "2uc9bsHT47ly"
      },
      "source": [
        "Even though the above cell demonstrates that there are unique entries for songs that have the same name, artists, and year, these are identified as being unique by their primary key ('id') by Spotify, and there is no basis for singling one entry out as the true entry.  Therefore, all entries are kept."
      ]
    },
    {
      "cell_type": "code",
      "metadata": {
        "id": "yWyL7z0AdUbp",
        "outputId": "210c9724-70ca-42ac-c3b8-d764ee4f6088",
        "colab": {
          "base_uri": "https://localhost:8080/",
          "height": 394
        }
      },
      "source": [
        "# function to manipulate entries in 'artists' column to a more manageable form for later manipulation\n",
        "def fix_artists_text(text):\n",
        "  text = text.strip('[]').split(',')\n",
        "  new_text = []\n",
        "  for item in text:\n",
        "    new_item = item.strip().strip('\"').strip(\"'\")\n",
        "    new_text.append(new_item)\n",
        "  return ','.join(new_text)\n",
        "\n",
        "# apply function to DataFrame and visualize\n",
        "df3 = df2.copy()\n",
        "df3['artists_mod'] = df3['artists'].apply(fix_artists_text)\n",
        "df3.head()"
      ],
      "execution_count": null,
      "outputs": [
        {
          "output_type": "execute_result",
          "data": {
            "text/html": [
              "<div>\n",
              "<style scoped>\n",
              "    .dataframe tbody tr th:only-of-type {\n",
              "        vertical-align: middle;\n",
              "    }\n",
              "\n",
              "    .dataframe tbody tr th {\n",
              "        vertical-align: top;\n",
              "    }\n",
              "\n",
              "    .dataframe thead th {\n",
              "        text-align: right;\n",
              "    }\n",
              "</style>\n",
              "<table border=\"1\" class=\"dataframe\">\n",
              "  <thead>\n",
              "    <tr style=\"text-align: right;\">\n",
              "      <th></th>\n",
              "      <th>id</th>\n",
              "      <th>name</th>\n",
              "      <th>artists</th>\n",
              "      <th>year</th>\n",
              "      <th>popularity</th>\n",
              "      <th>key</th>\n",
              "      <th>tempo</th>\n",
              "      <th>acousticness</th>\n",
              "      <th>duration_ms</th>\n",
              "      <th>danceability</th>\n",
              "      <th>energy</th>\n",
              "      <th>explicit</th>\n",
              "      <th>instrumentalness</th>\n",
              "      <th>liveness</th>\n",
              "      <th>loudness</th>\n",
              "      <th>mode</th>\n",
              "      <th>speechiness</th>\n",
              "      <th>valence</th>\n",
              "      <th>artists_mod</th>\n",
              "    </tr>\n",
              "  </thead>\n",
              "  <tbody>\n",
              "    <tr>\n",
              "      <th>0</th>\n",
              "      <td>6UGYIgkzeLp4BQy30B9svV</td>\n",
              "      <td>Anhelo</td>\n",
              "      <td>[\"Adolescent's Orquesta\"]</td>\n",
              "      <td>2012</td>\n",
              "      <td>58</td>\n",
              "      <td>8</td>\n",
              "      <td>91.148</td>\n",
              "      <td>0.500</td>\n",
              "      <td>248947.0</td>\n",
              "      <td>0.740</td>\n",
              "      <td>0.525</td>\n",
              "      <td>0</td>\n",
              "      <td>0.000004</td>\n",
              "      <td>0.106</td>\n",
              "      <td>-13.082</td>\n",
              "      <td>1</td>\n",
              "      <td>0.0458</td>\n",
              "      <td>0.8040</td>\n",
              "      <td>Adolescent's Orquesta</td>\n",
              "    </tr>\n",
              "    <tr>\n",
              "      <th>1</th>\n",
              "      <td>5SIoLK4aqXc2UzNrhVHwtp</td>\n",
              "      <td>Virgen</td>\n",
              "      <td>[\"Adolescent's Orquesta\"]</td>\n",
              "      <td>2012</td>\n",
              "      <td>65</td>\n",
              "      <td>8</td>\n",
              "      <td>90.963</td>\n",
              "      <td>0.725</td>\n",
              "      <td>271727.0</td>\n",
              "      <td>0.660</td>\n",
              "      <td>0.748</td>\n",
              "      <td>0</td>\n",
              "      <td>0.000650</td>\n",
              "      <td>0.127</td>\n",
              "      <td>-4.855</td>\n",
              "      <td>1</td>\n",
              "      <td>0.0440</td>\n",
              "      <td>0.7500</td>\n",
              "      <td>Adolescent's Orquesta</td>\n",
              "    </tr>\n",
              "    <tr>\n",
              "      <th>2</th>\n",
              "      <td>2wCRJwiL1WSrW0Dwfco7Nj</td>\n",
              "      <td>Know Who You Are</td>\n",
              "      <td>[\"Auli'i Cravalho\", 'Vai Mahina', \"Olivia Foa'...</td>\n",
              "      <td>2016</td>\n",
              "      <td>63</td>\n",
              "      <td>11</td>\n",
              "      <td>NaN</td>\n",
              "      <td>0.941</td>\n",
              "      <td>72627.0</td>\n",
              "      <td>0.160</td>\n",
              "      <td>0.145</td>\n",
              "      <td>0</td>\n",
              "      <td>0.091900</td>\n",
              "      <td>0.103</td>\n",
              "      <td>-20.495</td>\n",
              "      <td>0</td>\n",
              "      <td>0.0359</td>\n",
              "      <td>0.0946</td>\n",
              "      <td>Auli'i Cravalho,Vai Mahina,Olivia Foa'i,Opetai...</td>\n",
              "    </tr>\n",
              "    <tr>\n",
              "      <th>3</th>\n",
              "      <td>6mb6lVLNrcUgLnEN8QnDJd</td>\n",
              "      <td>How Far I'll Go</td>\n",
              "      <td>[\"Auli'i Cravalho\"]</td>\n",
              "      <td>2016</td>\n",
              "      <td>74</td>\n",
              "      <td>1</td>\n",
              "      <td>83.720</td>\n",
              "      <td>0.649</td>\n",
              "      <td>163387.0</td>\n",
              "      <td>0.571</td>\n",
              "      <td>0.307</td>\n",
              "      <td>0</td>\n",
              "      <td>0.000000</td>\n",
              "      <td>0.178</td>\n",
              "      <td>-10.958</td>\n",
              "      <td>0</td>\n",
              "      <td>0.0499</td>\n",
              "      <td>0.1080</td>\n",
              "      <td>Auli'i Cravalho</td>\n",
              "    </tr>\n",
              "    <tr>\n",
              "      <th>4</th>\n",
              "      <td>32pqqCrnIC5O5iE9c218PJ</td>\n",
              "      <td>How Far I'll Go - Reprise</td>\n",
              "      <td>[\"Auli'i Cravalho\"]</td>\n",
              "      <td>2016</td>\n",
              "      <td>63</td>\n",
              "      <td>4</td>\n",
              "      <td>83.197</td>\n",
              "      <td>0.827</td>\n",
              "      <td>87347.0</td>\n",
              "      <td>0.427</td>\n",
              "      <td>0.449</td>\n",
              "      <td>0</td>\n",
              "      <td>0.000000</td>\n",
              "      <td>0.134</td>\n",
              "      <td>-8.370</td>\n",
              "      <td>1</td>\n",
              "      <td>0.0337</td>\n",
              "      <td>0.2310</td>\n",
              "      <td>Auli'i Cravalho</td>\n",
              "    </tr>\n",
              "  </tbody>\n",
              "</table>\n",
              "</div>"
            ],
            "text/plain": [
              "                       id  ...                                        artists_mod\n",
              "0  6UGYIgkzeLp4BQy30B9svV  ...                              Adolescent's Orquesta\n",
              "1  5SIoLK4aqXc2UzNrhVHwtp  ...                              Adolescent's Orquesta\n",
              "2  2wCRJwiL1WSrW0Dwfco7Nj  ...  Auli'i Cravalho,Vai Mahina,Olivia Foa'i,Opetai...\n",
              "3  6mb6lVLNrcUgLnEN8QnDJd  ...                                    Auli'i Cravalho\n",
              "4  32pqqCrnIC5O5iE9c218PJ  ...                                    Auli'i Cravalho\n",
              "\n",
              "[5 rows x 19 columns]"
            ]
          },
          "metadata": {
            "tags": []
          },
          "execution_count": 10
        }
      ]
    },
    {
      "cell_type": "code",
      "metadata": {
        "id": "cGBmybF7kC4F",
        "outputId": "765e24e5-dec0-449c-bbd7-bda77c70e944",
        "colab": {
          "base_uri": "https://localhost:8080/",
          "height": 34
        }
      },
      "source": [
        "# determine maximum number of artists for an individual song\n",
        "max_num_artists = 1\n",
        "for i in range(df3.shape[0]):\n",
        "  num_artists = len(df3.iloc[i]['artists_mod'].split(','))\n",
        "  if num_artists > max_num_artists:\n",
        "    max_num_artists = num_artists\n",
        "print(max_num_artists)"
      ],
      "execution_count": null,
      "outputs": [
        {
          "output_type": "stream",
          "text": [
            "22\n"
          ],
          "name": "stdout"
        }
      ]
    },
    {
      "cell_type": "code",
      "metadata": {
        "id": "i-aVFmshoj_l",
        "outputId": "4ed83bc7-7801-4892-b9d5-867b7591c615",
        "colab": {
          "base_uri": "https://localhost:8080/",
          "height": 394
        }
      },
      "source": [
        "# allocating columns in DataFrame to hold one artist per column so that song with most number of artists can be accommodated\n",
        "blank_array = np.zeros(shape=(df3.shape[0], max_num_artists))\n",
        "artists_name_col_labels = [\"artist_{}\".format(i) for i in range(1, max_num_artists + 1)]\n",
        "artists_name_df = pd.DataFrame(data=blank_array, columns=artists_name_col_labels, dtype='str')\n",
        "df4 = pd.concat(objs=[df3, artists_name_df], axis=1, ignore_index=False)\n",
        "df4.head()"
      ],
      "execution_count": null,
      "outputs": [
        {
          "output_type": "execute_result",
          "data": {
            "text/html": [
              "<div>\n",
              "<style scoped>\n",
              "    .dataframe tbody tr th:only-of-type {\n",
              "        vertical-align: middle;\n",
              "    }\n",
              "\n",
              "    .dataframe tbody tr th {\n",
              "        vertical-align: top;\n",
              "    }\n",
              "\n",
              "    .dataframe thead th {\n",
              "        text-align: right;\n",
              "    }\n",
              "</style>\n",
              "<table border=\"1\" class=\"dataframe\">\n",
              "  <thead>\n",
              "    <tr style=\"text-align: right;\">\n",
              "      <th></th>\n",
              "      <th>id</th>\n",
              "      <th>name</th>\n",
              "      <th>artists</th>\n",
              "      <th>year</th>\n",
              "      <th>popularity</th>\n",
              "      <th>key</th>\n",
              "      <th>tempo</th>\n",
              "      <th>acousticness</th>\n",
              "      <th>duration_ms</th>\n",
              "      <th>danceability</th>\n",
              "      <th>energy</th>\n",
              "      <th>explicit</th>\n",
              "      <th>instrumentalness</th>\n",
              "      <th>liveness</th>\n",
              "      <th>loudness</th>\n",
              "      <th>mode</th>\n",
              "      <th>speechiness</th>\n",
              "      <th>valence</th>\n",
              "      <th>artists_mod</th>\n",
              "      <th>artist_1</th>\n",
              "      <th>artist_2</th>\n",
              "      <th>artist_3</th>\n",
              "      <th>artist_4</th>\n",
              "      <th>artist_5</th>\n",
              "      <th>artist_6</th>\n",
              "      <th>artist_7</th>\n",
              "      <th>artist_8</th>\n",
              "      <th>artist_9</th>\n",
              "      <th>artist_10</th>\n",
              "      <th>artist_11</th>\n",
              "      <th>artist_12</th>\n",
              "      <th>artist_13</th>\n",
              "      <th>artist_14</th>\n",
              "      <th>artist_15</th>\n",
              "      <th>artist_16</th>\n",
              "      <th>artist_17</th>\n",
              "      <th>artist_18</th>\n",
              "      <th>artist_19</th>\n",
              "      <th>artist_20</th>\n",
              "      <th>artist_21</th>\n",
              "      <th>artist_22</th>\n",
              "    </tr>\n",
              "  </thead>\n",
              "  <tbody>\n",
              "    <tr>\n",
              "      <th>0</th>\n",
              "      <td>6UGYIgkzeLp4BQy30B9svV</td>\n",
              "      <td>Anhelo</td>\n",
              "      <td>[\"Adolescent's Orquesta\"]</td>\n",
              "      <td>2012</td>\n",
              "      <td>58</td>\n",
              "      <td>8</td>\n",
              "      <td>91.148</td>\n",
              "      <td>0.500</td>\n",
              "      <td>248947.0</td>\n",
              "      <td>0.740</td>\n",
              "      <td>0.525</td>\n",
              "      <td>0</td>\n",
              "      <td>0.000004</td>\n",
              "      <td>0.106</td>\n",
              "      <td>-13.082</td>\n",
              "      <td>1</td>\n",
              "      <td>0.0458</td>\n",
              "      <td>0.8040</td>\n",
              "      <td>Adolescent's Orquesta</td>\n",
              "      <td>0.0</td>\n",
              "      <td>0.0</td>\n",
              "      <td>0.0</td>\n",
              "      <td>0.0</td>\n",
              "      <td>0.0</td>\n",
              "      <td>0.0</td>\n",
              "      <td>0.0</td>\n",
              "      <td>0.0</td>\n",
              "      <td>0.0</td>\n",
              "      <td>0.0</td>\n",
              "      <td>0.0</td>\n",
              "      <td>0.0</td>\n",
              "      <td>0.0</td>\n",
              "      <td>0.0</td>\n",
              "      <td>0.0</td>\n",
              "      <td>0.0</td>\n",
              "      <td>0.0</td>\n",
              "      <td>0.0</td>\n",
              "      <td>0.0</td>\n",
              "      <td>0.0</td>\n",
              "      <td>0.0</td>\n",
              "      <td>0.0</td>\n",
              "    </tr>\n",
              "    <tr>\n",
              "      <th>1</th>\n",
              "      <td>5SIoLK4aqXc2UzNrhVHwtp</td>\n",
              "      <td>Virgen</td>\n",
              "      <td>[\"Adolescent's Orquesta\"]</td>\n",
              "      <td>2012</td>\n",
              "      <td>65</td>\n",
              "      <td>8</td>\n",
              "      <td>90.963</td>\n",
              "      <td>0.725</td>\n",
              "      <td>271727.0</td>\n",
              "      <td>0.660</td>\n",
              "      <td>0.748</td>\n",
              "      <td>0</td>\n",
              "      <td>0.000650</td>\n",
              "      <td>0.127</td>\n",
              "      <td>-4.855</td>\n",
              "      <td>1</td>\n",
              "      <td>0.0440</td>\n",
              "      <td>0.7500</td>\n",
              "      <td>Adolescent's Orquesta</td>\n",
              "      <td>0.0</td>\n",
              "      <td>0.0</td>\n",
              "      <td>0.0</td>\n",
              "      <td>0.0</td>\n",
              "      <td>0.0</td>\n",
              "      <td>0.0</td>\n",
              "      <td>0.0</td>\n",
              "      <td>0.0</td>\n",
              "      <td>0.0</td>\n",
              "      <td>0.0</td>\n",
              "      <td>0.0</td>\n",
              "      <td>0.0</td>\n",
              "      <td>0.0</td>\n",
              "      <td>0.0</td>\n",
              "      <td>0.0</td>\n",
              "      <td>0.0</td>\n",
              "      <td>0.0</td>\n",
              "      <td>0.0</td>\n",
              "      <td>0.0</td>\n",
              "      <td>0.0</td>\n",
              "      <td>0.0</td>\n",
              "      <td>0.0</td>\n",
              "    </tr>\n",
              "    <tr>\n",
              "      <th>2</th>\n",
              "      <td>2wCRJwiL1WSrW0Dwfco7Nj</td>\n",
              "      <td>Know Who You Are</td>\n",
              "      <td>[\"Auli'i Cravalho\", 'Vai Mahina', \"Olivia Foa'...</td>\n",
              "      <td>2016</td>\n",
              "      <td>63</td>\n",
              "      <td>11</td>\n",
              "      <td>NaN</td>\n",
              "      <td>0.941</td>\n",
              "      <td>72627.0</td>\n",
              "      <td>0.160</td>\n",
              "      <td>0.145</td>\n",
              "      <td>0</td>\n",
              "      <td>0.091900</td>\n",
              "      <td>0.103</td>\n",
              "      <td>-20.495</td>\n",
              "      <td>0</td>\n",
              "      <td>0.0359</td>\n",
              "      <td>0.0946</td>\n",
              "      <td>Auli'i Cravalho,Vai Mahina,Olivia Foa'i,Opetai...</td>\n",
              "      <td>0.0</td>\n",
              "      <td>0.0</td>\n",
              "      <td>0.0</td>\n",
              "      <td>0.0</td>\n",
              "      <td>0.0</td>\n",
              "      <td>0.0</td>\n",
              "      <td>0.0</td>\n",
              "      <td>0.0</td>\n",
              "      <td>0.0</td>\n",
              "      <td>0.0</td>\n",
              "      <td>0.0</td>\n",
              "      <td>0.0</td>\n",
              "      <td>0.0</td>\n",
              "      <td>0.0</td>\n",
              "      <td>0.0</td>\n",
              "      <td>0.0</td>\n",
              "      <td>0.0</td>\n",
              "      <td>0.0</td>\n",
              "      <td>0.0</td>\n",
              "      <td>0.0</td>\n",
              "      <td>0.0</td>\n",
              "      <td>0.0</td>\n",
              "    </tr>\n",
              "    <tr>\n",
              "      <th>3</th>\n",
              "      <td>6mb6lVLNrcUgLnEN8QnDJd</td>\n",
              "      <td>How Far I'll Go</td>\n",
              "      <td>[\"Auli'i Cravalho\"]</td>\n",
              "      <td>2016</td>\n",
              "      <td>74</td>\n",
              "      <td>1</td>\n",
              "      <td>83.720</td>\n",
              "      <td>0.649</td>\n",
              "      <td>163387.0</td>\n",
              "      <td>0.571</td>\n",
              "      <td>0.307</td>\n",
              "      <td>0</td>\n",
              "      <td>0.000000</td>\n",
              "      <td>0.178</td>\n",
              "      <td>-10.958</td>\n",
              "      <td>0</td>\n",
              "      <td>0.0499</td>\n",
              "      <td>0.1080</td>\n",
              "      <td>Auli'i Cravalho</td>\n",
              "      <td>0.0</td>\n",
              "      <td>0.0</td>\n",
              "      <td>0.0</td>\n",
              "      <td>0.0</td>\n",
              "      <td>0.0</td>\n",
              "      <td>0.0</td>\n",
              "      <td>0.0</td>\n",
              "      <td>0.0</td>\n",
              "      <td>0.0</td>\n",
              "      <td>0.0</td>\n",
              "      <td>0.0</td>\n",
              "      <td>0.0</td>\n",
              "      <td>0.0</td>\n",
              "      <td>0.0</td>\n",
              "      <td>0.0</td>\n",
              "      <td>0.0</td>\n",
              "      <td>0.0</td>\n",
              "      <td>0.0</td>\n",
              "      <td>0.0</td>\n",
              "      <td>0.0</td>\n",
              "      <td>0.0</td>\n",
              "      <td>0.0</td>\n",
              "    </tr>\n",
              "    <tr>\n",
              "      <th>4</th>\n",
              "      <td>32pqqCrnIC5O5iE9c218PJ</td>\n",
              "      <td>How Far I'll Go - Reprise</td>\n",
              "      <td>[\"Auli'i Cravalho\"]</td>\n",
              "      <td>2016</td>\n",
              "      <td>63</td>\n",
              "      <td>4</td>\n",
              "      <td>83.197</td>\n",
              "      <td>0.827</td>\n",
              "      <td>87347.0</td>\n",
              "      <td>0.427</td>\n",
              "      <td>0.449</td>\n",
              "      <td>0</td>\n",
              "      <td>0.000000</td>\n",
              "      <td>0.134</td>\n",
              "      <td>-8.370</td>\n",
              "      <td>1</td>\n",
              "      <td>0.0337</td>\n",
              "      <td>0.2310</td>\n",
              "      <td>Auli'i Cravalho</td>\n",
              "      <td>0.0</td>\n",
              "      <td>0.0</td>\n",
              "      <td>0.0</td>\n",
              "      <td>0.0</td>\n",
              "      <td>0.0</td>\n",
              "      <td>0.0</td>\n",
              "      <td>0.0</td>\n",
              "      <td>0.0</td>\n",
              "      <td>0.0</td>\n",
              "      <td>0.0</td>\n",
              "      <td>0.0</td>\n",
              "      <td>0.0</td>\n",
              "      <td>0.0</td>\n",
              "      <td>0.0</td>\n",
              "      <td>0.0</td>\n",
              "      <td>0.0</td>\n",
              "      <td>0.0</td>\n",
              "      <td>0.0</td>\n",
              "      <td>0.0</td>\n",
              "      <td>0.0</td>\n",
              "      <td>0.0</td>\n",
              "      <td>0.0</td>\n",
              "    </tr>\n",
              "  </tbody>\n",
              "</table>\n",
              "</div>"
            ],
            "text/plain": [
              "                       id                       name  ... artist_21  artist_22\n",
              "0  6UGYIgkzeLp4BQy30B9svV                     Anhelo  ...       0.0        0.0\n",
              "1  5SIoLK4aqXc2UzNrhVHwtp                     Virgen  ...       0.0        0.0\n",
              "2  2wCRJwiL1WSrW0Dwfco7Nj           Know Who You Are  ...       0.0        0.0\n",
              "3  6mb6lVLNrcUgLnEN8QnDJd            How Far I'll Go  ...       0.0        0.0\n",
              "4  32pqqCrnIC5O5iE9c218PJ  How Far I'll Go - Reprise  ...       0.0        0.0\n",
              "\n",
              "[5 rows x 41 columns]"
            ]
          },
          "metadata": {
            "tags": []
          },
          "execution_count": 12
        }
      ]
    },
    {
      "cell_type": "code",
      "metadata": {
        "id": "diZQ7dthqRkh"
      },
      "source": [
        "# populating artist name columns as appropriate for each song\n",
        "for i in range(df4.shape[0]):\n",
        "  artists = df4.iloc[i]['artists_mod'].split(',')\n",
        "  num_artists = len(artists)\n",
        "  artist_num = 1\n",
        "  while (artist_num <= num_artists):\n",
        "    df4.loc[i, 'artist_{}'.format(artist_num)] = artists[artist_num - 1]\n",
        "    artist_num += 1"
      ],
      "execution_count": null,
      "outputs": []
    },
    {
      "cell_type": "markdown",
      "metadata": {
        "id": "3F7Gam05u-wj"
      },
      "source": [
        "# Descriptive Question 1\n",
        "\n",
        "How many observations (songs) are from the year 2020?"
      ]
    },
    {
      "cell_type": "code",
      "metadata": {
        "id": "Le2Hutu5rUBj",
        "outputId": "3011ff01-c6ea-450c-8cd1-e8f9d46e0c0b",
        "colab": {
          "base_uri": "https://localhost:8080/",
          "height": 34
        }
      },
      "source": [
        "# selecting subset where year = 2020 and returning number of rows\n",
        "df4[df4['year'] == 2020].shape[0]"
      ],
      "execution_count": null,
      "outputs": [
        {
          "output_type": "execute_result",
          "data": {
            "text/plain": [
              "1656"
            ]
          },
          "metadata": {
            "tags": []
          },
          "execution_count": 14
        }
      ]
    },
    {
      "cell_type": "markdown",
      "metadata": {
        "id": "hWggjqvWvSHa"
      },
      "source": [
        "# Descriptive Question 2\n",
        "\n",
        "Which song in the data set had the longest duration? What do you notice about the songs with the longest durations?"
      ]
    },
    {
      "cell_type": "code",
      "metadata": {
        "id": "sG9YzBfcupRI",
        "outputId": "ea0b1202-fc17-4140-eab3-9b494b348e63",
        "colab": {
          "base_uri": "https://localhost:8080/",
          "height": 80
        }
      },
      "source": [
        "# sorting DataFrame by 'duration_ms' in descending order and returning top entry's name, artists, and year\n",
        "df4.sort_values(by=['duration_ms'], ascending=False).head(1)[['name', 'artists', 'year']]"
      ],
      "execution_count": null,
      "outputs": [
        {
          "output_type": "execute_result",
          "data": {
            "text/html": [
              "<div>\n",
              "<style scoped>\n",
              "    .dataframe tbody tr th:only-of-type {\n",
              "        vertical-align: middle;\n",
              "    }\n",
              "\n",
              "    .dataframe tbody tr th {\n",
              "        vertical-align: top;\n",
              "    }\n",
              "\n",
              "    .dataframe thead th {\n",
              "        text-align: right;\n",
              "    }\n",
              "</style>\n",
              "<table border=\"1\" class=\"dataframe\">\n",
              "  <thead>\n",
              "    <tr style=\"text-align: right;\">\n",
              "      <th></th>\n",
              "      <th>name</th>\n",
              "      <th>artists</th>\n",
              "      <th>year</th>\n",
              "    </tr>\n",
              "  </thead>\n",
              "  <tbody>\n",
              "    <tr>\n",
              "      <th>17781</th>\n",
              "      <td>Brown Noise - 90 Minutes</td>\n",
              "      <td>['Sound Dreamer']</td>\n",
              "      <td>2013</td>\n",
              "    </tr>\n",
              "  </tbody>\n",
              "</table>\n",
              "</div>"
            ],
            "text/plain": [
              "                           name            artists  year\n",
              "17781  Brown Noise - 90 Minutes  ['Sound Dreamer']  2013"
            ]
          },
          "metadata": {
            "tags": []
          },
          "execution_count": 15
        }
      ]
    },
    {
      "cell_type": "code",
      "metadata": {
        "id": "ibaNsn6Gvj20",
        "outputId": "0b773662-1cb1-4b93-a496-66cdf0616776",
        "colab": {
          "base_uri": "https://localhost:8080/",
          "height": 787
        }
      },
      "source": [
        "# sorting DataFrame by 'duration_ms' in descending order and returning top 10 entries for observation\n",
        "df4.sort_values(by=['duration_ms'], ascending=False).head(10)"
      ],
      "execution_count": null,
      "outputs": [
        {
          "output_type": "execute_result",
          "data": {
            "text/html": [
              "<div>\n",
              "<style scoped>\n",
              "    .dataframe tbody tr th:only-of-type {\n",
              "        vertical-align: middle;\n",
              "    }\n",
              "\n",
              "    .dataframe tbody tr th {\n",
              "        vertical-align: top;\n",
              "    }\n",
              "\n",
              "    .dataframe thead th {\n",
              "        text-align: right;\n",
              "    }\n",
              "</style>\n",
              "<table border=\"1\" class=\"dataframe\">\n",
              "  <thead>\n",
              "    <tr style=\"text-align: right;\">\n",
              "      <th></th>\n",
              "      <th>id</th>\n",
              "      <th>name</th>\n",
              "      <th>artists</th>\n",
              "      <th>year</th>\n",
              "      <th>popularity</th>\n",
              "      <th>key</th>\n",
              "      <th>tempo</th>\n",
              "      <th>acousticness</th>\n",
              "      <th>duration_ms</th>\n",
              "      <th>danceability</th>\n",
              "      <th>energy</th>\n",
              "      <th>explicit</th>\n",
              "      <th>instrumentalness</th>\n",
              "      <th>liveness</th>\n",
              "      <th>loudness</th>\n",
              "      <th>mode</th>\n",
              "      <th>speechiness</th>\n",
              "      <th>valence</th>\n",
              "      <th>artists_mod</th>\n",
              "      <th>artist_1</th>\n",
              "      <th>artist_2</th>\n",
              "      <th>artist_3</th>\n",
              "      <th>artist_4</th>\n",
              "      <th>artist_5</th>\n",
              "      <th>artist_6</th>\n",
              "      <th>artist_7</th>\n",
              "      <th>artist_8</th>\n",
              "      <th>artist_9</th>\n",
              "      <th>artist_10</th>\n",
              "      <th>artist_11</th>\n",
              "      <th>artist_12</th>\n",
              "      <th>artist_13</th>\n",
              "      <th>artist_14</th>\n",
              "      <th>artist_15</th>\n",
              "      <th>artist_16</th>\n",
              "      <th>artist_17</th>\n",
              "      <th>artist_18</th>\n",
              "      <th>artist_19</th>\n",
              "      <th>artist_20</th>\n",
              "      <th>artist_21</th>\n",
              "      <th>artist_22</th>\n",
              "    </tr>\n",
              "  </thead>\n",
              "  <tbody>\n",
              "    <tr>\n",
              "      <th>17781</th>\n",
              "      <td>7foc25ig7dibxvULPU2kBG</td>\n",
              "      <td>Brown Noise - 90 Minutes</td>\n",
              "      <td>['Sound Dreamer']</td>\n",
              "      <td>2013</td>\n",
              "      <td>50</td>\n",
              "      <td>2</td>\n",
              "      <td>0.000</td>\n",
              "      <td>0.11100</td>\n",
              "      <td>5403500.0</td>\n",
              "      <td>0.0000</td>\n",
              "      <td>0.000099</td>\n",
              "      <td>0</td>\n",
              "      <td>0.392</td>\n",
              "      <td>0.1370</td>\n",
              "      <td>-21.669</td>\n",
              "      <td>1</td>\n",
              "      <td>0.0000</td>\n",
              "      <td>0.00000</td>\n",
              "      <td>Sound Dreamer</td>\n",
              "      <td>Sound Dreamer</td>\n",
              "      <td>0.0</td>\n",
              "      <td>0.0</td>\n",
              "      <td>0.0</td>\n",
              "      <td>0.0</td>\n",
              "      <td>0.0</td>\n",
              "      <td>0.0</td>\n",
              "      <td>0.0</td>\n",
              "      <td>0.0</td>\n",
              "      <td>0.0</td>\n",
              "      <td>0.0</td>\n",
              "      <td>0.0</td>\n",
              "      <td>0.0</td>\n",
              "      <td>0.0</td>\n",
              "      <td>0.0</td>\n",
              "      <td>0.0</td>\n",
              "      <td>0.0</td>\n",
              "      <td>0.0</td>\n",
              "      <td>0.0</td>\n",
              "      <td>0.0</td>\n",
              "      <td>0.0</td>\n",
              "      <td>0.0</td>\n",
              "    </tr>\n",
              "    <tr>\n",
              "      <th>14800</th>\n",
              "      <td>2QfFLpSGF1T1pY6tq4kD7Z</td>\n",
              "      <td>Ocean Waves Sounds</td>\n",
              "      <td>['Ocean Sounds']</td>\n",
              "      <td>2010</td>\n",
              "      <td>44</td>\n",
              "      <td>1</td>\n",
              "      <td>84.788</td>\n",
              "      <td>0.93200</td>\n",
              "      <td>4120258.0</td>\n",
              "      <td>0.0797</td>\n",
              "      <td>0.995000</td>\n",
              "      <td>0</td>\n",
              "      <td>0.562</td>\n",
              "      <td>0.3100</td>\n",
              "      <td>-17.379</td>\n",
              "      <td>1</td>\n",
              "      <td>0.0612</td>\n",
              "      <td>0.00001</td>\n",
              "      <td>Ocean Sounds</td>\n",
              "      <td>Ocean Sounds</td>\n",
              "      <td>0.0</td>\n",
              "      <td>0.0</td>\n",
              "      <td>0.0</td>\n",
              "      <td>0.0</td>\n",
              "      <td>0.0</td>\n",
              "      <td>0.0</td>\n",
              "      <td>0.0</td>\n",
              "      <td>0.0</td>\n",
              "      <td>0.0</td>\n",
              "      <td>0.0</td>\n",
              "      <td>0.0</td>\n",
              "      <td>0.0</td>\n",
              "      <td>0.0</td>\n",
              "      <td>0.0</td>\n",
              "      <td>0.0</td>\n",
              "      <td>0.0</td>\n",
              "      <td>0.0</td>\n",
              "      <td>0.0</td>\n",
              "      <td>0.0</td>\n",
              "      <td>0.0</td>\n",
              "      <td>0.0</td>\n",
              "    </tr>\n",
              "    <tr>\n",
              "      <th>14802</th>\n",
              "      <td>1saXdvEAafdRzUphXBzSHg</td>\n",
              "      <td>Ocean Waves for Sleep</td>\n",
              "      <td>['Ocean Waves For Sleep']</td>\n",
              "      <td>2010</td>\n",
              "      <td>55</td>\n",
              "      <td>1</td>\n",
              "      <td>84.788</td>\n",
              "      <td>0.93200</td>\n",
              "      <td>4120258.0</td>\n",
              "      <td>0.0797</td>\n",
              "      <td>0.995000</td>\n",
              "      <td>0</td>\n",
              "      <td>0.562</td>\n",
              "      <td>0.3100</td>\n",
              "      <td>-17.379</td>\n",
              "      <td>1</td>\n",
              "      <td>0.0612</td>\n",
              "      <td>0.00001</td>\n",
              "      <td>Ocean Waves For Sleep</td>\n",
              "      <td>Ocean Waves For Sleep</td>\n",
              "      <td>0.0</td>\n",
              "      <td>0.0</td>\n",
              "      <td>0.0</td>\n",
              "      <td>0.0</td>\n",
              "      <td>0.0</td>\n",
              "      <td>0.0</td>\n",
              "      <td>0.0</td>\n",
              "      <td>0.0</td>\n",
              "      <td>0.0</td>\n",
              "      <td>0.0</td>\n",
              "      <td>0.0</td>\n",
              "      <td>0.0</td>\n",
              "      <td>0.0</td>\n",
              "      <td>0.0</td>\n",
              "      <td>0.0</td>\n",
              "      <td>0.0</td>\n",
              "      <td>0.0</td>\n",
              "      <td>0.0</td>\n",
              "      <td>0.0</td>\n",
              "      <td>0.0</td>\n",
              "      <td>0.0</td>\n",
              "    </tr>\n",
              "    <tr>\n",
              "      <th>9163</th>\n",
              "      <td>4uiYbSb9a0jbNctHif2j4w</td>\n",
              "      <td>Skyrim Atmospheres</td>\n",
              "      <td>['Jeremy Soule']</td>\n",
              "      <td>2013</td>\n",
              "      <td>52</td>\n",
              "      <td>4</td>\n",
              "      <td>75.267</td>\n",
              "      <td>0.80900</td>\n",
              "      <td>2558287.0</td>\n",
              "      <td>0.0676</td>\n",
              "      <td>0.210000</td>\n",
              "      <td>0</td>\n",
              "      <td>0.897</td>\n",
              "      <td>0.0872</td>\n",
              "      <td>-29.314</td>\n",
              "      <td>0</td>\n",
              "      <td>0.0886</td>\n",
              "      <td>0.03900</td>\n",
              "      <td>Jeremy Soule</td>\n",
              "      <td>Jeremy Soule</td>\n",
              "      <td>0.0</td>\n",
              "      <td>0.0</td>\n",
              "      <td>0.0</td>\n",
              "      <td>0.0</td>\n",
              "      <td>0.0</td>\n",
              "      <td>0.0</td>\n",
              "      <td>0.0</td>\n",
              "      <td>0.0</td>\n",
              "      <td>0.0</td>\n",
              "      <td>0.0</td>\n",
              "      <td>0.0</td>\n",
              "      <td>0.0</td>\n",
              "      <td>0.0</td>\n",
              "      <td>0.0</td>\n",
              "      <td>0.0</td>\n",
              "      <td>0.0</td>\n",
              "      <td>0.0</td>\n",
              "      <td>0.0</td>\n",
              "      <td>0.0</td>\n",
              "      <td>0.0</td>\n",
              "      <td>0.0</td>\n",
              "    </tr>\n",
              "    <tr>\n",
              "      <th>14282</th>\n",
              "      <td>7qd8HUQEoRTLbV4wd1CXRD</td>\n",
              "      <td>Rain With Distant Thunderstorm</td>\n",
              "      <td>['Nature Sounds']</td>\n",
              "      <td>2012</td>\n",
              "      <td>48</td>\n",
              "      <td>8</td>\n",
              "      <td>110.004</td>\n",
              "      <td>0.00583</td>\n",
              "      <td>1943484.0</td>\n",
              "      <td>0.1580</td>\n",
              "      <td>0.574000</td>\n",
              "      <td>0</td>\n",
              "      <td>0.579</td>\n",
              "      <td>0.3470</td>\n",
              "      <td>-25.155</td>\n",
              "      <td>1</td>\n",
              "      <td>0.1790</td>\n",
              "      <td>0.02990</td>\n",
              "      <td>Nature Sounds</td>\n",
              "      <td>Nature Sounds</td>\n",
              "      <td>0.0</td>\n",
              "      <td>0.0</td>\n",
              "      <td>0.0</td>\n",
              "      <td>0.0</td>\n",
              "      <td>0.0</td>\n",
              "      <td>0.0</td>\n",
              "      <td>0.0</td>\n",
              "      <td>0.0</td>\n",
              "      <td>0.0</td>\n",
              "      <td>0.0</td>\n",
              "      <td>0.0</td>\n",
              "      <td>0.0</td>\n",
              "      <td>0.0</td>\n",
              "      <td>0.0</td>\n",
              "      <td>0.0</td>\n",
              "      <td>0.0</td>\n",
              "      <td>0.0</td>\n",
              "      <td>0.0</td>\n",
              "      <td>0.0</td>\n",
              "      <td>0.0</td>\n",
              "      <td>0.0</td>\n",
              "    </tr>\n",
              "    <tr>\n",
              "      <th>14283</th>\n",
              "      <td>0mbGHKzGjJx1omRaqNgwmB</td>\n",
              "      <td>Rain With Light Thunderstorm</td>\n",
              "      <td>['Nature Sounds']</td>\n",
              "      <td>2012</td>\n",
              "      <td>48</td>\n",
              "      <td>8</td>\n",
              "      <td>110.004</td>\n",
              "      <td>0.00583</td>\n",
              "      <td>1943484.0</td>\n",
              "      <td>0.1580</td>\n",
              "      <td>0.574000</td>\n",
              "      <td>0</td>\n",
              "      <td>0.579</td>\n",
              "      <td>0.3470</td>\n",
              "      <td>-25.155</td>\n",
              "      <td>1</td>\n",
              "      <td>0.1790</td>\n",
              "      <td>0.02990</td>\n",
              "      <td>Nature Sounds</td>\n",
              "      <td>Nature Sounds</td>\n",
              "      <td>0.0</td>\n",
              "      <td>0.0</td>\n",
              "      <td>0.0</td>\n",
              "      <td>0.0</td>\n",
              "      <td>0.0</td>\n",
              "      <td>0.0</td>\n",
              "      <td>0.0</td>\n",
              "      <td>0.0</td>\n",
              "      <td>0.0</td>\n",
              "      <td>0.0</td>\n",
              "      <td>0.0</td>\n",
              "      <td>0.0</td>\n",
              "      <td>0.0</td>\n",
              "      <td>0.0</td>\n",
              "      <td>0.0</td>\n",
              "      <td>0.0</td>\n",
              "      <td>0.0</td>\n",
              "      <td>0.0</td>\n",
              "      <td>0.0</td>\n",
              "      <td>0.0</td>\n",
              "      <td>0.0</td>\n",
              "    </tr>\n",
              "    <tr>\n",
              "      <th>14288</th>\n",
              "      <td>7sf5OBXs8RudV2XQLBOX5d</td>\n",
              "      <td>Relaxing Rain and Thunderstorm</td>\n",
              "      <td>['Nature Sounds']</td>\n",
              "      <td>2011</td>\n",
              "      <td>46</td>\n",
              "      <td>8</td>\n",
              "      <td>76.001</td>\n",
              "      <td>0.00580</td>\n",
              "      <td>1943459.0</td>\n",
              "      <td>0.0645</td>\n",
              "      <td>0.596000</td>\n",
              "      <td>0</td>\n",
              "      <td>0.553</td>\n",
              "      <td>0.3480</td>\n",
              "      <td>-25.146</td>\n",
              "      <td>1</td>\n",
              "      <td>0.2150</td>\n",
              "      <td>0.02930</td>\n",
              "      <td>Nature Sounds</td>\n",
              "      <td>Nature Sounds</td>\n",
              "      <td>0.0</td>\n",
              "      <td>0.0</td>\n",
              "      <td>0.0</td>\n",
              "      <td>0.0</td>\n",
              "      <td>0.0</td>\n",
              "      <td>0.0</td>\n",
              "      <td>0.0</td>\n",
              "      <td>0.0</td>\n",
              "      <td>0.0</td>\n",
              "      <td>0.0</td>\n",
              "      <td>0.0</td>\n",
              "      <td>0.0</td>\n",
              "      <td>0.0</td>\n",
              "      <td>0.0</td>\n",
              "      <td>0.0</td>\n",
              "      <td>0.0</td>\n",
              "      <td>0.0</td>\n",
              "      <td>0.0</td>\n",
              "      <td>0.0</td>\n",
              "      <td>0.0</td>\n",
              "      <td>0.0</td>\n",
              "    </tr>\n",
              "    <tr>\n",
              "      <th>2379</th>\n",
              "      <td>3YMOXCsCYZTSdGMOZz8SzI</td>\n",
              "      <td>Delta Waves for Deep Healing Sleep</td>\n",
              "      <td>['Binaural Beats Brain Waves Isochronic Tones ...</td>\n",
              "      <td>2011</td>\n",
              "      <td>45</td>\n",
              "      <td>0</td>\n",
              "      <td>109.374</td>\n",
              "      <td>0.73500</td>\n",
              "      <td>1440027.0</td>\n",
              "      <td>0.1590</td>\n",
              "      <td>0.479000</td>\n",
              "      <td>0</td>\n",
              "      <td>0.980</td>\n",
              "      <td>0.2120</td>\n",
              "      <td>-28.307</td>\n",
              "      <td>0</td>\n",
              "      <td>0.0770</td>\n",
              "      <td>0.02530</td>\n",
              "      <td>Binaural Beats Brain Waves Isochronic Tones Br...</td>\n",
              "      <td>Binaural Beats Brain Waves Isochronic Tones Br...</td>\n",
              "      <td>0.0</td>\n",
              "      <td>0.0</td>\n",
              "      <td>0.0</td>\n",
              "      <td>0.0</td>\n",
              "      <td>0.0</td>\n",
              "      <td>0.0</td>\n",
              "      <td>0.0</td>\n",
              "      <td>0.0</td>\n",
              "      <td>0.0</td>\n",
              "      <td>0.0</td>\n",
              "      <td>0.0</td>\n",
              "      <td>0.0</td>\n",
              "      <td>0.0</td>\n",
              "      <td>0.0</td>\n",
              "      <td>0.0</td>\n",
              "      <td>0.0</td>\n",
              "      <td>0.0</td>\n",
              "      <td>0.0</td>\n",
              "      <td>0.0</td>\n",
              "      <td>0.0</td>\n",
              "      <td>0.0</td>\n",
              "    </tr>\n",
              "    <tr>\n",
              "      <th>19379</th>\n",
              "      <td>0xY2BLCZhmxgnNXldJ9FwM</td>\n",
              "      <td>White Noise Fan for Babies</td>\n",
              "      <td>['The White Noise']</td>\n",
              "      <td>2011</td>\n",
              "      <td>54</td>\n",
              "      <td>8</td>\n",
              "      <td>67.083</td>\n",
              "      <td>0.13000</td>\n",
              "      <td>1393220.0</td>\n",
              "      <td>0.0559</td>\n",
              "      <td>0.000652</td>\n",
              "      <td>0</td>\n",
              "      <td>0.650</td>\n",
              "      <td>0.1100</td>\n",
              "      <td>-29.031</td>\n",
              "      <td>1</td>\n",
              "      <td>0.0733</td>\n",
              "      <td>0.02440</td>\n",
              "      <td>The White Noise</td>\n",
              "      <td>The White Noise</td>\n",
              "      <td>0.0</td>\n",
              "      <td>0.0</td>\n",
              "      <td>0.0</td>\n",
              "      <td>0.0</td>\n",
              "      <td>0.0</td>\n",
              "      <td>0.0</td>\n",
              "      <td>0.0</td>\n",
              "      <td>0.0</td>\n",
              "      <td>0.0</td>\n",
              "      <td>0.0</td>\n",
              "      <td>0.0</td>\n",
              "      <td>0.0</td>\n",
              "      <td>0.0</td>\n",
              "      <td>0.0</td>\n",
              "      <td>0.0</td>\n",
              "      <td>0.0</td>\n",
              "      <td>0.0</td>\n",
              "      <td>0.0</td>\n",
              "      <td>0.0</td>\n",
              "      <td>0.0</td>\n",
              "      <td>0.0</td>\n",
              "    </tr>\n",
              "    <tr>\n",
              "      <th>16066</th>\n",
              "      <td>2kAgCRZPG3YQR2VMqRvLmb</td>\n",
              "      <td>The Lark Ascending</td>\n",
              "      <td>['Ralph Vaughan Williams', 'Tasmin Little', 'B...</td>\n",
              "      <td>2013</td>\n",
              "      <td>63</td>\n",
              "      <td>4</td>\n",
              "      <td>74.554</td>\n",
              "      <td>0.90200</td>\n",
              "      <td>935360.0</td>\n",
              "      <td>0.0811</td>\n",
              "      <td>0.012200</td>\n",
              "      <td>0</td>\n",
              "      <td>0.308</td>\n",
              "      <td>0.0648</td>\n",
              "      <td>-32.654</td>\n",
              "      <td>0</td>\n",
              "      <td>0.0511</td>\n",
              "      <td>0.03840</td>\n",
              "      <td>Ralph Vaughan Williams,Tasmin Little,BBC Philh...</td>\n",
              "      <td>Ralph Vaughan Williams</td>\n",
              "      <td>Tasmin Little</td>\n",
              "      <td>BBC Philharmonic</td>\n",
              "      <td>Andrew Davis</td>\n",
              "      <td>0.0</td>\n",
              "      <td>0.0</td>\n",
              "      <td>0.0</td>\n",
              "      <td>0.0</td>\n",
              "      <td>0.0</td>\n",
              "      <td>0.0</td>\n",
              "      <td>0.0</td>\n",
              "      <td>0.0</td>\n",
              "      <td>0.0</td>\n",
              "      <td>0.0</td>\n",
              "      <td>0.0</td>\n",
              "      <td>0.0</td>\n",
              "      <td>0.0</td>\n",
              "      <td>0.0</td>\n",
              "      <td>0.0</td>\n",
              "      <td>0.0</td>\n",
              "      <td>0.0</td>\n",
              "      <td>0.0</td>\n",
              "    </tr>\n",
              "  </tbody>\n",
              "</table>\n",
              "</div>"
            ],
            "text/plain": [
              "                           id  ... artist_22\n",
              "17781  7foc25ig7dibxvULPU2kBG  ...       0.0\n",
              "14800  2QfFLpSGF1T1pY6tq4kD7Z  ...       0.0\n",
              "14802  1saXdvEAafdRzUphXBzSHg  ...       0.0\n",
              "9163   4uiYbSb9a0jbNctHif2j4w  ...       0.0\n",
              "14282  7qd8HUQEoRTLbV4wd1CXRD  ...       0.0\n",
              "14283  0mbGHKzGjJx1omRaqNgwmB  ...       0.0\n",
              "14288  7sf5OBXs8RudV2XQLBOX5d  ...       0.0\n",
              "2379   3YMOXCsCYZTSdGMOZz8SzI  ...       0.0\n",
              "19379  0xY2BLCZhmxgnNXldJ9FwM  ...       0.0\n",
              "16066  2kAgCRZPG3YQR2VMqRvLmb  ...       0.0\n",
              "\n",
              "[10 rows x 41 columns]"
            ]
          },
          "metadata": {
            "tags": []
          },
          "execution_count": 16
        }
      ]
    },
    {
      "cell_type": "markdown",
      "metadata": {
        "id": "3MbYPnRQyztf"
      },
      "source": [
        "The songs with the longest durations are tracks that are background noises for relaxation/sleep."
      ]
    },
    {
      "cell_type": "markdown",
      "metadata": {
        "id": "ZEE1MmTcwkeV"
      },
      "source": [
        "# Descriptive Question 3\n",
        "\n",
        "We will define a song as \"popular\" if its Popularity is greater than 75, and \"not popular\" otherwise; how many songs are defined as \"popular\" in each year?"
      ]
    },
    {
      "cell_type": "code",
      "metadata": {
        "id": "nxPJ_njQwn69",
        "outputId": "f90dec64-f467-44a9-b528-cdc24a421aa4",
        "colab": {
          "base_uri": "https://localhost:8080/",
          "height": 238
        }
      },
      "source": [
        "# selecting subset where popularity is greater than 75, grouping by year, and then returning count of songs with >75 popularity in each year\n",
        "popular_song_counts = df4[df4['popularity'] > 75].groupby(['year'])['id'].count().rename('Popular Song Count')\n",
        "print(popular_song_counts)"
      ],
      "execution_count": null,
      "outputs": [
        {
          "output_type": "stream",
          "text": [
            "year\n",
            "2010     12\n",
            "2011     13\n",
            "2012     19\n",
            "2013     23\n",
            "2014     30\n",
            "2015     45\n",
            "2016     58\n",
            "2017    128\n",
            "2018    206\n",
            "2019    367\n",
            "2020    279\n",
            "Name: Popular Song Count, dtype: int64\n"
          ],
          "name": "stdout"
        }
      ]
    },
    {
      "cell_type": "markdown",
      "metadata": {
        "id": "x8wwODbzySDH"
      },
      "source": [
        "# Descriptive Question 4\n",
        "\n",
        "Which variables share a strong correlation? Interpret these correlations."
      ]
    },
    {
      "cell_type": "code",
      "metadata": {
        "id": "t5oAPDIm655b",
        "outputId": "e6ad666a-4d44-4d3f-d28e-eac69469b6ab",
        "colab": {
          "base_uri": "https://localhost:8080/",
          "height": 833
        }
      },
      "source": [
        "# inspecting DataFrame to observe columns appropriate to include in correlation calculation and extent of non-null values\n",
        "df4.info()"
      ],
      "execution_count": null,
      "outputs": [
        {
          "output_type": "stream",
          "text": [
            "<class 'pandas.core.frame.DataFrame'>\n",
            "Int64Index: 21556 entries, 0 to 21555\n",
            "Data columns (total 41 columns):\n",
            " #   Column            Non-Null Count  Dtype  \n",
            "---  ------            --------------  -----  \n",
            " 0   id                21556 non-null  object \n",
            " 1   name              21556 non-null  object \n",
            " 2   artists           21556 non-null  object \n",
            " 3   year              21556 non-null  int64  \n",
            " 4   popularity        21556 non-null  int64  \n",
            " 5   key               21556 non-null  int64  \n",
            " 6   tempo             21449 non-null  float64\n",
            " 7   acousticness      21556 non-null  float64\n",
            " 8   duration_ms       21513 non-null  float64\n",
            " 9   danceability      21556 non-null  float64\n",
            " 10  energy            21125 non-null  float64\n",
            " 11  explicit          21556 non-null  int64  \n",
            " 12  instrumentalness  21556 non-null  float64\n",
            " 13  liveness          21556 non-null  float64\n",
            " 14  loudness          21341 non-null  float64\n",
            " 15  mode              21556 non-null  int64  \n",
            " 16  speechiness       21556 non-null  float64\n",
            " 17  valence           21556 non-null  float64\n",
            " 18  artists_mod       21556 non-null  object \n",
            " 19  artist_1          21556 non-null  object \n",
            " 20  artist_2          21556 non-null  object \n",
            " 21  artist_3          21556 non-null  object \n",
            " 22  artist_4          21556 non-null  object \n",
            " 23  artist_5          21556 non-null  object \n",
            " 24  artist_6          21556 non-null  object \n",
            " 25  artist_7          21556 non-null  object \n",
            " 26  artist_8          21556 non-null  object \n",
            " 27  artist_9          21556 non-null  object \n",
            " 28  artist_10         21556 non-null  object \n",
            " 29  artist_11         21556 non-null  object \n",
            " 30  artist_12         21556 non-null  object \n",
            " 31  artist_13         21556 non-null  object \n",
            " 32  artist_14         21556 non-null  object \n",
            " 33  artist_15         21556 non-null  object \n",
            " 34  artist_16         21556 non-null  object \n",
            " 35  artist_17         21556 non-null  object \n",
            " 36  artist_18         21556 non-null  object \n",
            " 37  artist_19         21556 non-null  object \n",
            " 38  artist_20         21556 non-null  object \n",
            " 39  artist_21         21556 non-null  object \n",
            " 40  artist_22         21556 non-null  object \n",
            "dtypes: float64(10), int64(5), object(26)\n",
            "memory usage: 7.5+ MB\n"
          ],
          "name": "stdout"
        }
      ]
    },
    {
      "cell_type": "code",
      "metadata": {
        "id": "NTHM3PlN7Bi-"
      },
      "source": [
        "# selecting numerical variables and imputing mean to fill null values\n",
        "# imputing mean selected as means to fill nulls because the amount of nulls is relatively low\n",
        "df_imputed = df4.copy()\n",
        "numerical_vars_list = ['year', 'popularity', 'tempo', 'acousticness', 'duration_ms', 'danceability', 'energy', 'instrumentalness', 'liveness', \\\n",
        "                       'loudness', 'speechiness', 'valence']\n",
        "for col in numerical_vars_list:\n",
        "  df_imputed[col] = df_imputed[col].fillna(df_imputed[col].mean())"
      ],
      "execution_count": null,
      "outputs": []
    },
    {
      "cell_type": "code",
      "metadata": {
        "id": "eZPL82c1zyFD",
        "outputId": "10286000-31eb-450e-9bee-463221309746",
        "colab": {
          "base_uri": "https://localhost:8080/",
          "height": 833
        }
      },
      "source": [
        "# inspecting DataFrame with imputed values\n",
        "df_imputed.info()"
      ],
      "execution_count": null,
      "outputs": [
        {
          "output_type": "stream",
          "text": [
            "<class 'pandas.core.frame.DataFrame'>\n",
            "Int64Index: 21556 entries, 0 to 21555\n",
            "Data columns (total 41 columns):\n",
            " #   Column            Non-Null Count  Dtype  \n",
            "---  ------            --------------  -----  \n",
            " 0   id                21556 non-null  object \n",
            " 1   name              21556 non-null  object \n",
            " 2   artists           21556 non-null  object \n",
            " 3   year              21556 non-null  int64  \n",
            " 4   popularity        21556 non-null  int64  \n",
            " 5   key               21556 non-null  int64  \n",
            " 6   tempo             21556 non-null  float64\n",
            " 7   acousticness      21556 non-null  float64\n",
            " 8   duration_ms       21556 non-null  float64\n",
            " 9   danceability      21556 non-null  float64\n",
            " 10  energy            21556 non-null  float64\n",
            " 11  explicit          21556 non-null  int64  \n",
            " 12  instrumentalness  21556 non-null  float64\n",
            " 13  liveness          21556 non-null  float64\n",
            " 14  loudness          21556 non-null  float64\n",
            " 15  mode              21556 non-null  int64  \n",
            " 16  speechiness       21556 non-null  float64\n",
            " 17  valence           21556 non-null  float64\n",
            " 18  artists_mod       21556 non-null  object \n",
            " 19  artist_1          21556 non-null  object \n",
            " 20  artist_2          21556 non-null  object \n",
            " 21  artist_3          21556 non-null  object \n",
            " 22  artist_4          21556 non-null  object \n",
            " 23  artist_5          21556 non-null  object \n",
            " 24  artist_6          21556 non-null  object \n",
            " 25  artist_7          21556 non-null  object \n",
            " 26  artist_8          21556 non-null  object \n",
            " 27  artist_9          21556 non-null  object \n",
            " 28  artist_10         21556 non-null  object \n",
            " 29  artist_11         21556 non-null  object \n",
            " 30  artist_12         21556 non-null  object \n",
            " 31  artist_13         21556 non-null  object \n",
            " 32  artist_14         21556 non-null  object \n",
            " 33  artist_15         21556 non-null  object \n",
            " 34  artist_16         21556 non-null  object \n",
            " 35  artist_17         21556 non-null  object \n",
            " 36  artist_18         21556 non-null  object \n",
            " 37  artist_19         21556 non-null  object \n",
            " 38  artist_20         21556 non-null  object \n",
            " 39  artist_21         21556 non-null  object \n",
            " 40  artist_22         21556 non-null  object \n",
            "dtypes: float64(10), int64(5), object(26)\n",
            "memory usage: 7.5+ MB\n"
          ],
          "name": "stdout"
        }
      ]
    },
    {
      "cell_type": "code",
      "metadata": {
        "id": "DVZG5gLvz5f6",
        "outputId": "c54187a8-beef-42e7-b08b-cbafb9fd6812",
        "colab": {
          "base_uri": "https://localhost:8080/",
          "height": 359
        }
      },
      "source": [
        "# calculate correlation matrix using numerical variables\n",
        "corr_matrix = df_imputed[numerical_vars_list].corr()\n",
        "\n",
        "# create DataFrame holding correlation coefficients for each pair of numerical variables\n",
        "for i, col in enumerate(corr_matrix.columns):\n",
        "  if (i == 0):\n",
        "    data_array = np.array([corr_matrix.index, [corr_matrix.columns[i] for j in range(len(corr_matrix.index))], corr_matrix.iloc[:, i]]).T\n",
        "  else:\n",
        "    new_data = np.array([corr_matrix.index, [corr_matrix.columns[i] for j in range(len(corr_matrix.index))], corr_matrix.iloc[:, i]]).T\n",
        "    data_array = np.append(data_array, new_data, axis=0)\n",
        "corr_df = pd.DataFrame(data=data_array)\n",
        "\n",
        "# display strongest positive correlation coefficients\n",
        "corr_df[corr_df[0] != corr_df[1]].sort_values(by=[2], ascending=False).head(10)"
      ],
      "execution_count": null,
      "outputs": [
        {
          "output_type": "execute_result",
          "data": {
            "text/html": [
              "<div>\n",
              "<style scoped>\n",
              "    .dataframe tbody tr th:only-of-type {\n",
              "        vertical-align: middle;\n",
              "    }\n",
              "\n",
              "    .dataframe tbody tr th {\n",
              "        vertical-align: top;\n",
              "    }\n",
              "\n",
              "    .dataframe thead th {\n",
              "        text-align: right;\n",
              "    }\n",
              "</style>\n",
              "<table border=\"1\" class=\"dataframe\">\n",
              "  <thead>\n",
              "    <tr style=\"text-align: right;\">\n",
              "      <th></th>\n",
              "      <th>0</th>\n",
              "      <th>1</th>\n",
              "      <th>2</th>\n",
              "    </tr>\n",
              "  </thead>\n",
              "  <tbody>\n",
              "    <tr>\n",
              "      <th>81</th>\n",
              "      <td>loudness</td>\n",
              "      <td>energy</td>\n",
              "      <td>0.699578</td>\n",
              "    </tr>\n",
              "    <tr>\n",
              "      <th>114</th>\n",
              "      <td>energy</td>\n",
              "      <td>loudness</td>\n",
              "      <td>0.699578</td>\n",
              "    </tr>\n",
              "    <tr>\n",
              "      <th>1</th>\n",
              "      <td>popularity</td>\n",
              "      <td>year</td>\n",
              "      <td>0.496045</td>\n",
              "    </tr>\n",
              "    <tr>\n",
              "      <th>12</th>\n",
              "      <td>year</td>\n",
              "      <td>popularity</td>\n",
              "      <td>0.496045</td>\n",
              "    </tr>\n",
              "    <tr>\n",
              "      <th>71</th>\n",
              "      <td>valence</td>\n",
              "      <td>danceability</td>\n",
              "      <td>0.442021</td>\n",
              "    </tr>\n",
              "    <tr>\n",
              "      <th>137</th>\n",
              "      <td>danceability</td>\n",
              "      <td>valence</td>\n",
              "      <td>0.442021</td>\n",
              "    </tr>\n",
              "    <tr>\n",
              "      <th>141</th>\n",
              "      <td>loudness</td>\n",
              "      <td>valence</td>\n",
              "      <td>0.378303</td>\n",
              "    </tr>\n",
              "    <tr>\n",
              "      <th>119</th>\n",
              "      <td>valence</td>\n",
              "      <td>loudness</td>\n",
              "      <td>0.378303</td>\n",
              "    </tr>\n",
              "    <tr>\n",
              "      <th>138</th>\n",
              "      <td>energy</td>\n",
              "      <td>valence</td>\n",
              "      <td>0.371655</td>\n",
              "    </tr>\n",
              "    <tr>\n",
              "      <th>83</th>\n",
              "      <td>valence</td>\n",
              "      <td>energy</td>\n",
              "      <td>0.371655</td>\n",
              "    </tr>\n",
              "  </tbody>\n",
              "</table>\n",
              "</div>"
            ],
            "text/plain": [
              "                0             1         2\n",
              "81       loudness        energy  0.699578\n",
              "114        energy      loudness  0.699578\n",
              "1      popularity          year  0.496045\n",
              "12           year    popularity  0.496045\n",
              "71        valence  danceability  0.442021\n",
              "137  danceability       valence  0.442021\n",
              "141      loudness       valence  0.378303\n",
              "119       valence      loudness  0.378303\n",
              "138        energy       valence  0.371655\n",
              "83        valence        energy  0.371655"
            ]
          },
          "metadata": {
            "tags": []
          },
          "execution_count": 21
        }
      ]
    },
    {
      "cell_type": "markdown",
      "metadata": {
        "id": "1Tq60gctdxPI"
      },
      "source": [
        "In terms of positive correlation, loudness and energy share a relatively strong correlation.  This makes sense given that louder music is generally more energetic.  Even on a physical level, it takes more energy to produce louder sounds."
      ]
    },
    {
      "cell_type": "code",
      "metadata": {
        "id": "EgrKWbVw689U",
        "outputId": "f09f2554-5185-4029-a459-2de52c00a963",
        "colab": {
          "base_uri": "https://localhost:8080/",
          "height": 359
        }
      },
      "source": [
        "# display strongest negative correlation coefficients\n",
        "corr_df[corr_df[0] != corr_df[1]].sort_values(by=[2]).head(10)"
      ],
      "execution_count": null,
      "outputs": [
        {
          "output_type": "execute_result",
          "data": {
            "text/html": [
              "<div>\n",
              "<style scoped>\n",
              "    .dataframe tbody tr th:only-of-type {\n",
              "        vertical-align: middle;\n",
              "    }\n",
              "\n",
              "    .dataframe tbody tr th {\n",
              "        vertical-align: top;\n",
              "    }\n",
              "\n",
              "    .dataframe thead th {\n",
              "        text-align: right;\n",
              "    }\n",
              "</style>\n",
              "<table border=\"1\" class=\"dataframe\">\n",
              "  <thead>\n",
              "    <tr style=\"text-align: right;\">\n",
              "      <th></th>\n",
              "      <th>0</th>\n",
              "      <th>1</th>\n",
              "      <th>2</th>\n",
              "    </tr>\n",
              "  </thead>\n",
              "  <tbody>\n",
              "    <tr>\n",
              "      <th>75</th>\n",
              "      <td>acousticness</td>\n",
              "      <td>energy</td>\n",
              "      <td>-0.668504</td>\n",
              "    </tr>\n",
              "    <tr>\n",
              "      <th>42</th>\n",
              "      <td>energy</td>\n",
              "      <td>acousticness</td>\n",
              "      <td>-0.668504</td>\n",
              "    </tr>\n",
              "    <tr>\n",
              "      <th>115</th>\n",
              "      <td>instrumentalness</td>\n",
              "      <td>loudness</td>\n",
              "      <td>-0.621173</td>\n",
              "    </tr>\n",
              "    <tr>\n",
              "      <th>93</th>\n",
              "      <td>loudness</td>\n",
              "      <td>instrumentalness</td>\n",
              "      <td>-0.621173</td>\n",
              "    </tr>\n",
              "    <tr>\n",
              "      <th>111</th>\n",
              "      <td>acousticness</td>\n",
              "      <td>loudness</td>\n",
              "      <td>-0.555206</td>\n",
              "    </tr>\n",
              "    <tr>\n",
              "      <th>45</th>\n",
              "      <td>loudness</td>\n",
              "      <td>acousticness</td>\n",
              "      <td>-0.555206</td>\n",
              "    </tr>\n",
              "    <tr>\n",
              "      <th>89</th>\n",
              "      <td>danceability</td>\n",
              "      <td>instrumentalness</td>\n",
              "      <td>-0.357063</td>\n",
              "    </tr>\n",
              "    <tr>\n",
              "      <th>67</th>\n",
              "      <td>instrumentalness</td>\n",
              "      <td>danceability</td>\n",
              "      <td>-0.357063</td>\n",
              "    </tr>\n",
              "    <tr>\n",
              "      <th>79</th>\n",
              "      <td>instrumentalness</td>\n",
              "      <td>energy</td>\n",
              "      <td>-0.309507</td>\n",
              "    </tr>\n",
              "    <tr>\n",
              "      <th>90</th>\n",
              "      <td>energy</td>\n",
              "      <td>instrumentalness</td>\n",
              "      <td>-0.309507</td>\n",
              "    </tr>\n",
              "  </tbody>\n",
              "</table>\n",
              "</div>"
            ],
            "text/plain": [
              "                    0                 1         2\n",
              "75       acousticness            energy -0.668504\n",
              "42             energy      acousticness -0.668504\n",
              "115  instrumentalness          loudness -0.621173\n",
              "93           loudness  instrumentalness -0.621173\n",
              "111      acousticness          loudness -0.555206\n",
              "45           loudness      acousticness -0.555206\n",
              "89       danceability  instrumentalness -0.357063\n",
              "67   instrumentalness      danceability -0.357063\n",
              "79   instrumentalness            energy -0.309507\n",
              "90             energy  instrumentalness -0.309507"
            ]
          },
          "metadata": {
            "tags": []
          },
          "execution_count": 22
        }
      ]
    },
    {
      "cell_type": "markdown",
      "metadata": {
        "id": "DdhtCt3id_7o"
      },
      "source": [
        "In terms of a negative correlation, acousticness and energy share a relatively strong negative correlation.  This makes sense because music that is more acoustic is going to involve reduced used of amplication.  This is reflected to a lesser degree with the slightly less strong negative correlation between loudness and acousticness.  Instrumentalness and loudness also share a relatively strong negative correlation, which makes sense because a voice is not present to add additional loudness to the track.  Also, a lot of instruments are not intended to be played loudly."
      ]
    },
    {
      "cell_type": "markdown",
      "metadata": {
        "id": "PEs1HfYQe29g"
      },
      "source": [
        "# Descriptive Question 5\n",
        "\n",
        "Which artist(s) are most prolific? Which are most popular?\n",
        "\n"
      ]
    },
    {
      "cell_type": "markdown",
      "metadata": {
        "id": "e26u8A-Ajrc4"
      },
      "source": [
        "## Prolific"
      ]
    },
    {
      "cell_type": "code",
      "metadata": {
        "id": "IfYazu6Ue-oX",
        "outputId": "cddbab5d-2e3b-4632-acc4-316d45183634",
        "colab": {
          "base_uri": "https://localhost:8080/",
          "height": 204
        }
      },
      "source": [
        "# determine artists who appear in the 'artists' column for the most number of songs\n",
        "df5 = df4.copy()[artists_name_col_labels]\n",
        "prolific_artists = df5.apply(pd.Series.value_counts).fillna(0).apply(np.sum, axis=1).drop('0.0')\n",
        "prolific_artists.sort_values(ascending=False).head(10)"
      ],
      "execution_count": null,
      "outputs": [
        {
          "output_type": "execute_result",
          "data": {
            "text/plain": [
              "Drake             288.0\n",
              "Taylor Swift      151.0\n",
              "Future            149.0\n",
              "Mac Miller        140.0\n",
              "Kendrick Lamar    135.0\n",
              "Nicki Minaj       133.0\n",
              "The Weeknd        133.0\n",
              "Lil Wayne         133.0\n",
              "Lil Uzi Vert      130.0\n",
              "BTS               129.0\n",
              "dtype: float64"
            ]
          },
          "metadata": {
            "tags": []
          },
          "execution_count": 23
        }
      ]
    },
    {
      "cell_type": "markdown",
      "metadata": {
        "id": "oCTpTLM1xYoz"
      },
      "source": [
        "## Popular"
      ]
    },
    {
      "cell_type": "code",
      "metadata": {
        "id": "u1eMrAiQf3oM",
        "outputId": "db62a854-6eef-4ce7-ab23-074ed34a3eca",
        "colab": {
          "base_uri": "https://localhost:8080/",
          "height": 359
        }
      },
      "source": [
        "# create DataFrame showing every artist, the number of songs in which they are listed in the 'artists' column, and\n",
        "# the average popularity of those songs\n",
        "artist_name_list = []\n",
        "artist_song_count_list = []\n",
        "artist_song_avg_pop_list = []\n",
        "for artist in prolific_artists.index:\n",
        "  artist_song_df = df3.copy()\n",
        "  artist_song_df['Artist Present?'] = artist_song_df['artists_mod'].apply(lambda x:  artist in x.split(','))\n",
        "  artist_song_df = artist_song_df[artist_song_df['Artist Present?'] == True]\n",
        "  artist_name_list.append(artist)\n",
        "  artist_song_count_list.append(artist_song_df.shape[0])\n",
        "  artist_song_avg_pop_list.append(artist_song_df['popularity'].mean())\n",
        "\n",
        "popular_artists_df = pd.DataFrame(data={'Number of Songs': artist_song_count_list, 'Average Song Popularity': artist_song_avg_pop_list},\\\n",
        "                                  index=artist_name_list)\n",
        "popular_artists_df.sort_values(by=['Average Song Popularity'], ascending=[False]).head(10)"
      ],
      "execution_count": null,
      "outputs": [
        {
          "output_type": "execute_result",
          "data": {
            "text/html": [
              "<div>\n",
              "<style scoped>\n",
              "    .dataframe tbody tr th:only-of-type {\n",
              "        vertical-align: middle;\n",
              "    }\n",
              "\n",
              "    .dataframe tbody tr th {\n",
              "        vertical-align: top;\n",
              "    }\n",
              "\n",
              "    .dataframe thead th {\n",
              "        text-align: right;\n",
              "    }\n",
              "</style>\n",
              "<table border=\"1\" class=\"dataframe\">\n",
              "  <thead>\n",
              "    <tr style=\"text-align: right;\">\n",
              "      <th></th>\n",
              "      <th>Number of Songs</th>\n",
              "      <th>Average Song Popularity</th>\n",
              "    </tr>\n",
              "  </thead>\n",
              "  <tbody>\n",
              "    <tr>\n",
              "      <th>Emilee</th>\n",
              "      <td>1</td>\n",
              "      <td>95.0</td>\n",
              "    </tr>\n",
              "    <tr>\n",
              "      <th>StaySolidRocky</th>\n",
              "      <td>1</td>\n",
              "      <td>94.0</td>\n",
              "    </tr>\n",
              "    <tr>\n",
              "      <th>A7S</th>\n",
              "      <td>1</td>\n",
              "      <td>92.0</td>\n",
              "    </tr>\n",
              "    <tr>\n",
              "      <th>Topic</th>\n",
              "      <td>1</td>\n",
              "      <td>92.0</td>\n",
              "    </tr>\n",
              "    <tr>\n",
              "      <th>Regard</th>\n",
              "      <td>1</td>\n",
              "      <td>90.0</td>\n",
              "    </tr>\n",
              "    <tr>\n",
              "      <th>Juanka</th>\n",
              "      <td>1</td>\n",
              "      <td>87.0</td>\n",
              "    </tr>\n",
              "    <tr>\n",
              "      <th>Brray</th>\n",
              "      <td>1</td>\n",
              "      <td>87.0</td>\n",
              "    </tr>\n",
              "    <tr>\n",
              "      <th>Sam Fischer</th>\n",
              "      <td>1</td>\n",
              "      <td>86.0</td>\n",
              "    </tr>\n",
              "    <tr>\n",
              "      <th>Dímelo Flow</th>\n",
              "      <td>2</td>\n",
              "      <td>86.0</td>\n",
              "    </tr>\n",
              "    <tr>\n",
              "      <th>S1mba</th>\n",
              "      <td>1</td>\n",
              "      <td>86.0</td>\n",
              "    </tr>\n",
              "  </tbody>\n",
              "</table>\n",
              "</div>"
            ],
            "text/plain": [
              "                Number of Songs  Average Song Popularity\n",
              "Emilee                        1                     95.0\n",
              "StaySolidRocky                1                     94.0\n",
              "A7S                           1                     92.0\n",
              "Topic                         1                     92.0\n",
              "Regard                        1                     90.0\n",
              "Juanka                        1                     87.0\n",
              "Brray                         1                     87.0\n",
              "Sam Fischer                   1                     86.0\n",
              "Dímelo Flow                   2                     86.0\n",
              "S1mba                         1                     86.0"
            ]
          },
          "metadata": {
            "tags": []
          },
          "execution_count": 24
        }
      ]
    },
    {
      "cell_type": "markdown",
      "metadata": {
        "id": "3c5CdNrYzsfG"
      },
      "source": [
        "Since the artists with the greatest average song popularity have relatively few songs, the popularity is assessed at various levels based on the amount of songs in which the artist is involved."
      ]
    },
    {
      "cell_type": "code",
      "metadata": {
        "id": "21EG4TkVw4V7",
        "outputId": "6f14f0e2-9ea1-4e52-d0e6-7bc65ea739f9",
        "colab": {
          "base_uri": "https://localhost:8080/",
          "height": 85
        }
      },
      "source": [
        "# showing artists with highest average song popularity for a minimum of 0, 10, 50, and 100 songs\n",
        "for min_song_num in [0, 10, 50, 100]:\n",
        "  pop_df = popular_artists_df[popular_artists_df['Number of Songs'] > min_song_num].sort_values(by=['Average Song Popularity'], ascending=[False]).head(1)\n",
        "  print('For artists having greater than {} songs, the most popular artist is {} with an average popularity of {}.'.format\\\n",
        "        (min_song_num, pop_df.iloc[0].name, round(pop_df.iloc[0]['Average Song Popularity'], 1)))"
      ],
      "execution_count": null,
      "outputs": [
        {
          "output_type": "stream",
          "text": [
            "For artists having greater than 0 songs, the most popular artist is Emilee with an average popularity of 95.0.\n",
            "For artists having greater than 10 songs, the most popular artist is Dalex with an average popularity of 78.7.\n",
            "For artists having greater than 50 songs, the most popular artist is Anuel AA with an average popularity of 73.1.\n",
            "For artists having greater than 100 songs, the most popular artist is Travis Scott with an average popularity of 69.4.\n"
          ],
          "name": "stdout"
        }
      ]
    },
    {
      "cell_type": "markdown",
      "metadata": {
        "id": "3y3HMQZV-pbX"
      },
      "source": [
        "# Predictive Question 1"
      ]
    },
    {
      "cell_type": "code",
      "metadata": {
        "id": "D_0yYUou-n8g",
        "outputId": "4e9da645-217e-4a0d-a3b2-39f688295edf",
        "colab": {
          "base_uri": "https://localhost:8080/",
          "height": 68
        }
      },
      "source": [
        "# dropping 'id', 'name', and 'artists' columns from DataFrame due to lack of generalizable and useful predictive information\n",
        "df_model = df_imputed[df.columns].drop(columns=['id', 'name', 'artists'])\n",
        "# creating labeled data for popular and unpopular songs based on popular defined as having >75 popularity\n",
        "df_model['pop_label'] = df_model['popularity'].apply(lambda x: 1 if x > 75 else 0)\n",
        "# inspect number of popular and unpopular songs--data is heavily imbalanced\n",
        "data_balance = df_model['pop_label'].value_counts()\n",
        "print('# popular:  {}\\n# unpopular:  {}\\n% popular:  {}'.format(data_balance.loc[1], data_balance.loc[0],\\\n",
        "                                                                round(100*data_balance.loc[1]/(data_balance.loc[0] + data_balance.loc[1]), 2)))"
      ],
      "execution_count": null,
      "outputs": [
        {
          "output_type": "stream",
          "text": [
            "# popular:  1180\n",
            "# unpopular:  20376\n",
            "% popular:  5.47\n"
          ],
          "name": "stdout"
        }
      ]
    },
    {
      "cell_type": "code",
      "metadata": {
        "id": "RV0-nyfnCLzr"
      },
      "source": [
        "# drop popularity column since it has been replaced with a labeled column\n",
        "df_model.drop(columns=['popularity'], inplace=True)"
      ],
      "execution_count": null,
      "outputs": []
    },
    {
      "cell_type": "code",
      "metadata": {
        "id": "LtKqBtaNCp4V",
        "outputId": "9402b8b4-5aad-4bb3-e33b-eb538168bf21",
        "colab": {
          "base_uri": "https://localhost:8080/",
          "height": 391
        }
      },
      "source": [
        "# show that features available for selection and labels are fully populated\n",
        "df_model.info()"
      ],
      "execution_count": null,
      "outputs": [
        {
          "output_type": "stream",
          "text": [
            "<class 'pandas.core.frame.DataFrame'>\n",
            "Int64Index: 21556 entries, 0 to 21555\n",
            "Data columns (total 15 columns):\n",
            " #   Column            Non-Null Count  Dtype  \n",
            "---  ------            --------------  -----  \n",
            " 0   year              21556 non-null  int64  \n",
            " 1   key               21556 non-null  int64  \n",
            " 2   tempo             21556 non-null  float64\n",
            " 3   acousticness      21556 non-null  float64\n",
            " 4   duration_ms       21556 non-null  float64\n",
            " 5   danceability      21556 non-null  float64\n",
            " 6   energy            21556 non-null  float64\n",
            " 7   explicit          21556 non-null  int64  \n",
            " 8   instrumentalness  21556 non-null  float64\n",
            " 9   liveness          21556 non-null  float64\n",
            " 10  loudness          21556 non-null  float64\n",
            " 11  mode              21556 non-null  int64  \n",
            " 12  speechiness       21556 non-null  float64\n",
            " 13  valence           21556 non-null  float64\n",
            " 14  pop_label         21556 non-null  int64  \n",
            "dtypes: float64(10), int64(5)\n",
            "memory usage: 3.3 MB\n"
          ],
          "name": "stdout"
        }
      ]
    },
    {
      "cell_type": "code",
      "metadata": {
        "id": "gJvb5OSmqXNr",
        "outputId": "613cd597-bd50-4b20-fedc-ee5ffcddc627",
        "colab": {
          "base_uri": "https://localhost:8080/",
          "height": 317
        }
      },
      "source": [
        "# assess value ranges of data\n",
        "df_model.describe()"
      ],
      "execution_count": null,
      "outputs": [
        {
          "output_type": "execute_result",
          "data": {
            "text/html": [
              "<div>\n",
              "<style scoped>\n",
              "    .dataframe tbody tr th:only-of-type {\n",
              "        vertical-align: middle;\n",
              "    }\n",
              "\n",
              "    .dataframe tbody tr th {\n",
              "        vertical-align: top;\n",
              "    }\n",
              "\n",
              "    .dataframe thead th {\n",
              "        text-align: right;\n",
              "    }\n",
              "</style>\n",
              "<table border=\"1\" class=\"dataframe\">\n",
              "  <thead>\n",
              "    <tr style=\"text-align: right;\">\n",
              "      <th></th>\n",
              "      <th>year</th>\n",
              "      <th>key</th>\n",
              "      <th>tempo</th>\n",
              "      <th>acousticness</th>\n",
              "      <th>duration_ms</th>\n",
              "      <th>danceability</th>\n",
              "      <th>energy</th>\n",
              "      <th>explicit</th>\n",
              "      <th>instrumentalness</th>\n",
              "      <th>liveness</th>\n",
              "      <th>loudness</th>\n",
              "      <th>mode</th>\n",
              "      <th>speechiness</th>\n",
              "      <th>valence</th>\n",
              "      <th>pop_label</th>\n",
              "    </tr>\n",
              "  </thead>\n",
              "  <tbody>\n",
              "    <tr>\n",
              "      <th>count</th>\n",
              "      <td>21556.000000</td>\n",
              "      <td>21556.000000</td>\n",
              "      <td>21556.000000</td>\n",
              "      <td>21556.000000</td>\n",
              "      <td>2.155600e+04</td>\n",
              "      <td>21556.000000</td>\n",
              "      <td>21556.000000</td>\n",
              "      <td>21556.000000</td>\n",
              "      <td>21556.000000</td>\n",
              "      <td>21556.000000</td>\n",
              "      <td>21556.000000</td>\n",
              "      <td>21556.000000</td>\n",
              "      <td>21556.000000</td>\n",
              "      <td>21556.000000</td>\n",
              "      <td>21556.000000</td>\n",
              "    </tr>\n",
              "    <tr>\n",
              "      <th>mean</th>\n",
              "      <td>2014.918770</td>\n",
              "      <td>5.202125</td>\n",
              "      <td>120.813463</td>\n",
              "      <td>0.255381</td>\n",
              "      <td>2.225290e+05</td>\n",
              "      <td>0.604657</td>\n",
              "      <td>0.630687</td>\n",
              "      <td>0.302004</td>\n",
              "      <td>0.068373</td>\n",
              "      <td>0.188270</td>\n",
              "      <td>-7.368929</td>\n",
              "      <td>0.647059</td>\n",
              "      <td>0.104214</td>\n",
              "      <td>0.463163</td>\n",
              "      <td>0.054741</td>\n",
              "    </tr>\n",
              "    <tr>\n",
              "      <th>std</th>\n",
              "      <td>3.130405</td>\n",
              "      <td>3.596039</td>\n",
              "      <td>30.576272</td>\n",
              "      <td>0.287609</td>\n",
              "      <td>8.557095e+04</td>\n",
              "      <td>0.170468</td>\n",
              "      <td>0.215588</td>\n",
              "      <td>0.459138</td>\n",
              "      <td>0.217891</td>\n",
              "      <td>0.152347</td>\n",
              "      <td>4.680773</td>\n",
              "      <td>0.477896</td>\n",
              "      <td>0.110109</td>\n",
              "      <td>0.240131</td>\n",
              "      <td>0.227480</td>\n",
              "    </tr>\n",
              "    <tr>\n",
              "      <th>min</th>\n",
              "      <td>2010.000000</td>\n",
              "      <td>0.000000</td>\n",
              "      <td>0.000000</td>\n",
              "      <td>0.000000</td>\n",
              "      <td>3.030100e+04</td>\n",
              "      <td>0.000000</td>\n",
              "      <td>0.000020</td>\n",
              "      <td>0.000000</td>\n",
              "      <td>0.000000</td>\n",
              "      <td>0.000000</td>\n",
              "      <td>-54.376000</td>\n",
              "      <td>0.000000</td>\n",
              "      <td>0.000000</td>\n",
              "      <td>0.000000</td>\n",
              "      <td>0.000000</td>\n",
              "    </tr>\n",
              "    <tr>\n",
              "      <th>25%</th>\n",
              "      <td>2012.000000</td>\n",
              "      <td>2.000000</td>\n",
              "      <td>96.964000</td>\n",
              "      <td>0.026000</td>\n",
              "      <td>1.873330e+05</td>\n",
              "      <td>0.502000</td>\n",
              "      <td>0.504000</td>\n",
              "      <td>0.000000</td>\n",
              "      <td>0.000000</td>\n",
              "      <td>0.097600</td>\n",
              "      <td>-8.301250</td>\n",
              "      <td>0.000000</td>\n",
              "      <td>0.037200</td>\n",
              "      <td>0.276000</td>\n",
              "      <td>0.000000</td>\n",
              "    </tr>\n",
              "    <tr>\n",
              "      <th>50%</th>\n",
              "      <td>2015.000000</td>\n",
              "      <td>5.000000</td>\n",
              "      <td>120.079000</td>\n",
              "      <td>0.130500</td>\n",
              "      <td>2.151225e+05</td>\n",
              "      <td>0.617000</td>\n",
              "      <td>0.652000</td>\n",
              "      <td>0.000000</td>\n",
              "      <td>0.000001</td>\n",
              "      <td>0.124000</td>\n",
              "      <td>-6.312500</td>\n",
              "      <td>1.000000</td>\n",
              "      <td>0.054800</td>\n",
              "      <td>0.452000</td>\n",
              "      <td>0.000000</td>\n",
              "    </tr>\n",
              "    <tr>\n",
              "      <th>75%</th>\n",
              "      <td>2018.000000</td>\n",
              "      <td>8.000000</td>\n",
              "      <td>140.337250</td>\n",
              "      <td>0.408000</td>\n",
              "      <td>2.463938e+05</td>\n",
              "      <td>0.729000</td>\n",
              "      <td>0.795000</td>\n",
              "      <td>1.000000</td>\n",
              "      <td>0.000451</td>\n",
              "      <td>0.232000</td>\n",
              "      <td>-4.818000</td>\n",
              "      <td>1.000000</td>\n",
              "      <td>0.123000</td>\n",
              "      <td>0.643000</td>\n",
              "      <td>0.000000</td>\n",
              "    </tr>\n",
              "    <tr>\n",
              "      <th>max</th>\n",
              "      <td>2020.000000</td>\n",
              "      <td>11.000000</td>\n",
              "      <td>220.099000</td>\n",
              "      <td>0.996000</td>\n",
              "      <td>5.403500e+06</td>\n",
              "      <td>0.986000</td>\n",
              "      <td>1.000000</td>\n",
              "      <td>1.000000</td>\n",
              "      <td>1.000000</td>\n",
              "      <td>0.990000</td>\n",
              "      <td>1.023000</td>\n",
              "      <td>1.000000</td>\n",
              "      <td>0.950000</td>\n",
              "      <td>0.990000</td>\n",
              "      <td>1.000000</td>\n",
              "    </tr>\n",
              "  </tbody>\n",
              "</table>\n",
              "</div>"
            ],
            "text/plain": [
              "               year           key  ...       valence     pop_label\n",
              "count  21556.000000  21556.000000  ...  21556.000000  21556.000000\n",
              "mean    2014.918770      5.202125  ...      0.463163      0.054741\n",
              "std        3.130405      3.596039  ...      0.240131      0.227480\n",
              "min     2010.000000      0.000000  ...      0.000000      0.000000\n",
              "25%     2012.000000      2.000000  ...      0.276000      0.000000\n",
              "50%     2015.000000      5.000000  ...      0.452000      0.000000\n",
              "75%     2018.000000      8.000000  ...      0.643000      0.000000\n",
              "max     2020.000000     11.000000  ...      0.990000      1.000000\n",
              "\n",
              "[8 rows x 15 columns]"
            ]
          },
          "metadata": {
            "tags": []
          },
          "execution_count": 29
        }
      ]
    },
    {
      "cell_type": "code",
      "metadata": {
        "id": "ZpGS0nwRCqqN",
        "outputId": "37046660-fdd0-42da-b933-4674e0f46fda",
        "colab": {
          "base_uri": "https://localhost:8080/",
          "height": 238
        }
      },
      "source": [
        "# assess fraction of songs considered popular by year\n",
        "df_model_year =df_model[['year', 'pop_label']]\n",
        "df_model_year_red = df_model_year.groupby(['year'])['pop_label'].mean()\n",
        "df_model_year_red.sort_values(ascending=False)"
      ],
      "execution_count": null,
      "outputs": [
        {
          "output_type": "execute_result",
          "data": {
            "text/plain": [
              "year\n",
              "2019    0.183500\n",
              "2020    0.168478\n",
              "2018    0.103000\n",
              "2017    0.064000\n",
              "2016    0.029457\n",
              "2015    0.023304\n",
              "2014    0.015000\n",
              "2013    0.011500\n",
              "2012    0.009500\n",
              "2011    0.006500\n",
              "2010    0.006000\n",
              "Name: pop_label, dtype: float64"
            ]
          },
          "metadata": {
            "tags": []
          },
          "execution_count": 30
        }
      ]
    },
    {
      "cell_type": "code",
      "metadata": {
        "id": "khHL3_QWi-69",
        "outputId": "559fdf29-eee8-4697-cd96-b1bbbd61b892",
        "colab": {
          "base_uri": "https://localhost:8080/",
          "height": 279
        }
      },
      "source": [
        "# positive correlation observed between the year and fraction of songs considered popular\n",
        "import matplotlib.pyplot as plt\n",
        "plt.scatter(df_model_year_red.index, df_model_year_red.values)\n",
        "plt.xlabel('year'), plt.ylabel('fraction of songs being popular')\n",
        "plt.savefig(fname='/content/drive/My Drive/OptTek/year plot', edgecolor='black')\n",
        "plt.show()"
      ],
      "execution_count": null,
      "outputs": [
        {
          "output_type": "display_data",
          "data": {
            "image/png": "[encoded data removed]",
            "text/plain": [
              "<Figure size 432x288 with 1 Axes>"
            ]
          },
          "metadata": {
            "tags": [],
            "needs_background": "light"
          }
        }
      ]
    },
    {
      "cell_type": "code",
      "metadata": {
        "id": "H52oUJsGkBlC",
        "outputId": "2e869ba3-a573-4be1-b532-5cea712587d8",
        "colab": {
          "base_uri": "https://localhost:8080/",
          "height": 255
        }
      },
      "source": [
        "# assess fraction of songs considered popular by key\n",
        "df_model_key =df_model[['key', 'pop_label']]\n",
        "df_model_key_red = df_model_key.groupby(['key'])['pop_label'].mean()\n",
        "df_model_key_red.sort_values(ascending=False)"
      ],
      "execution_count": null,
      "outputs": [
        {
          "output_type": "execute_result",
          "data": {
            "text/plain": [
              "key\n",
              "11    0.066820\n",
              "10    0.065484\n",
              "6     0.063625\n",
              "5     0.059897\n",
              "1     0.057132\n",
              "8     0.055623\n",
              "7     0.052823\n",
              "0     0.052653\n",
              "4     0.048083\n",
              "9     0.046499\n",
              "2     0.044337\n",
              "3     0.039187\n",
              "Name: pop_label, dtype: float64"
            ]
          },
          "metadata": {
            "tags": []
          },
          "execution_count": 32
        }
      ]
    },
    {
      "cell_type": "code",
      "metadata": {
        "id": "7fjd4j9Qk9k1",
        "outputId": "cd1cba53-1e75-47f1-fd7f-41d7a7159a1a",
        "colab": {
          "base_uri": "https://localhost:8080/",
          "height": 283
        }
      },
      "source": [
        "# some variation in fraction of songs being popular observed across keys but not much\n",
        "plt.bar(df_model_key_red.index, df_model_key_red.values)\n",
        "plt.xlabel('key'), plt.ylabel('fraction of songs being popular')\n",
        "plt.savefig(fname='/content/drive/My Drive/OptTek/key plot', edgecolor='black')\n",
        "plt.show()"
      ],
      "execution_count": null,
      "outputs": [
        {
          "output_type": "display_data",
          "data": {
            "image/png": "[encoded data removed]",
            "text/plain": [
              "<Figure size 432x288 with 1 Axes>"
            ]
          },
          "metadata": {
            "tags": [],
            "needs_background": "light"
          }
        }
      ]
    },
    {
      "cell_type": "code",
      "metadata": {
        "id": "Hb_42m5PlPiq",
        "outputId": "5992401d-6677-4d16-d8e0-543dca8db52b",
        "colab": {
          "base_uri": "https://localhost:8080/",
          "height": 85
        }
      },
      "source": [
        "# assess fraction of songs considered popular by whether it is explicit or not\n",
        "df_model_explicit =df_model[['explicit', 'pop_label']]\n",
        "df_model_explicit_red = df_model_explicit.groupby(['explicit'])['pop_label'].mean()\n",
        "df_model_explicit_red.sort_values(ascending=False)"
      ],
      "execution_count": null,
      "outputs": [
        {
          "output_type": "execute_result",
          "data": {
            "text/plain": [
              "explicit\n",
              "1    0.074040\n",
              "0    0.046391\n",
              "Name: pop_label, dtype: float64"
            ]
          },
          "metadata": {
            "tags": []
          },
          "execution_count": 34
        }
      ]
    },
    {
      "cell_type": "code",
      "metadata": {
        "id": "wpT2ctehmMHY",
        "outputId": "6f588541-ce16-45af-b082-8b63ce547d65",
        "colab": {
          "base_uri": "https://localhost:8080/",
          "height": 279
        }
      },
      "source": [
        "# about 3% difference between fraction of songs being popular for explicit vs. non-explicit\n",
        "plt.bar(df_model_explicit_red.index, df_model_explicit_red.values, tick_label=['0', '1'])\n",
        "plt.xlabel('explicit'), plt.ylabel('fraction of songs being popular')\n",
        "plt.savefig(fname='/content/drive/My Drive/OptTek/explicit plot', edgecolor='black')\n",
        "plt.show()"
      ],
      "execution_count": null,
      "outputs": [
        {
          "output_type": "display_data",
          "data": {
            "image/png": "[encoded data removed]",
            "text/plain": [
              "<Figure size 432x288 with 1 Axes>"
            ]
          },
          "metadata": {
            "tags": [],
            "needs_background": "light"
          }
        }
      ]
    },
    {
      "cell_type": "code",
      "metadata": {
        "id": "TD5CUv6Ymbdm",
        "outputId": "42005885-d096-43c1-a09e-5064a940edaf",
        "colab": {
          "base_uri": "https://localhost:8080/",
          "height": 85
        }
      },
      "source": [
        "# assess fraction of songs considered popular by mode\n",
        "df_model_mode =df_model[['mode', 'pop_label']]\n",
        "df_model_mode_red = df_model_mode.groupby(['mode'])['pop_label'].mean()\n",
        "df_model_mode_red.sort_values(ascending=False)"
      ],
      "execution_count": null,
      "outputs": [
        {
          "output_type": "execute_result",
          "data": {
            "text/plain": [
              "mode\n",
              "0    0.065457\n",
              "1    0.048896\n",
              "Name: pop_label, dtype: float64"
            ]
          },
          "metadata": {
            "tags": []
          },
          "execution_count": 36
        }
      ]
    },
    {
      "cell_type": "code",
      "metadata": {
        "id": "CB6nePbMnVc8",
        "outputId": "497c3237-3ec6-4467-88a2-41f5a2c8a4d5",
        "colab": {
          "base_uri": "https://localhost:8080/",
          "height": 279
        }
      },
      "source": [
        "# about 1.5% difference between fraction of songs being popular for explicit vs. non-explicit\n",
        "plt.bar(df_model_mode_red.index, df_model_mode_red.values, tick_label=['0', '1'])\n",
        "plt.xlabel('mode'), plt.ylabel('fraction of songs being popular')\n",
        "plt.savefig(fname='/content/drive/My Drive/OptTek/mode plot', edgecolor='black')\n",
        "plt.show()"
      ],
      "execution_count": null,
      "outputs": [
        {
          "output_type": "display_data",
          "data": {
            "image/png": "[encoded data removed]",
            "text/plain": [
              "<Figure size 432x288 with 1 Axes>"
            ]
          },
          "metadata": {
            "tags": [],
            "needs_background": "light"
          }
        }
      ]
    },
    {
      "cell_type": "code",
      "metadata": {
        "id": "c6adcZubnnYt",
        "outputId": "136ff74d-0072-4761-affa-07a90208f41d",
        "colab": {
          "base_uri": "https://localhost:8080/",
          "height": 2865
        }
      },
      "source": [
        "for feature in ['acousticness', 'duration_ms', 'danceability', 'energy', 'instrumentalness', 'liveness', 'loudness', 'speechiness', 'valence']:\n",
        "  # assess average feature value for popular and unpopular songs\n",
        "  df_model_feature =df_model[[feature, 'pop_label']]\n",
        "  df_model_feature_red = df_model_feature.groupby(['pop_label'])[feature].mean()\n",
        "  print(df_model_feature_red)\n",
        "  plt.bar(df_model_feature_red.index, df_model_feature_red.values, tick_label=['Not Popular', 'Popular'])\n",
        "  plt.ylabel('mean {}'.format(feature))\n",
        "  plt.savefig(fname='/content/drive/My Drive/OptTek/{} plot'.format(feature), edgecolor='black')\n",
        "  plt.show()"
      ],
      "execution_count": null,
      "outputs": [
        {
          "output_type": "stream",
          "text": [
            "pop_label\n",
            "0    0.256145\n",
            "1    0.242181\n",
            "Name: acousticness, dtype: float64\n"
          ],
          "name": "stdout"
        },
        {
          "output_type": "display_data",
          "data": {
            "image/png": "[encoded data removed]",
            "text/plain": [
              "<Figure size 432x288 with 1 Axes>"
            ]
          },
          "metadata": {
            "tags": [],
            "needs_background": "light"
          }
        },
        {
          "output_type": "stream",
          "text": [
            "pop_label\n",
            "0    223605.763258\n",
            "1    203936.204336\n",
            "Name: duration_ms, dtype: float64\n"
          ],
          "name": "stdout"
        },
        {
          "output_type": "display_data",
          "data": {
            "image/png": "[encoded data removed]",
            "text/plain": [
              "<Figure size 432x288 with 1 Axes>"
            ]
          },
          "metadata": {
            "tags": [],
            "needs_background": "light"
          }
        },
        {
          "output_type": "stream",
          "text": [
            "pop_label\n",
            "0    0.599951\n",
            "1    0.685929\n",
            "Name: danceability, dtype: float64\n"
          ],
          "name": "stdout"
        },
        {
          "output_type": "display_data",
          "data": {
            "image/png": "[encoded data removed]",
            "text/plain": [
              "<Figure size 432x288 with 1 Axes>"
            ]
          },
          "metadata": {
            "tags": [],
            "needs_background": "light"
          }
        },
        {
          "output_type": "stream",
          "text": [
            "pop_label\n",
            "0    0.631317\n",
            "1    0.619793\n",
            "Name: energy, dtype: float64\n"
          ],
          "name": "stdout"
        },
        {
          "output_type": "display_data",
          "data": {
            "image/png": "[encoded data removed]",
            "text/plain": [
              "<Figure size 432x288 with 1 Axes>"
            ]
          },
          "metadata": {
            "tags": [],
            "needs_background": "light"
          }
        },
        {
          "output_type": "stream",
          "text": [
            "pop_label\n",
            "0    0.071226\n",
            "1    0.019111\n",
            "Name: instrumentalness, dtype: float64\n"
          ],
          "name": "stdout"
        },
        {
          "output_type": "display_data",
          "data": {
            "image/png": "[encoded data removed]",
            "text/plain": [
              "<Figure size 432x288 with 1 Axes>"
            ]
          },
          "metadata": {
            "tags": [],
            "needs_background": "light"
          }
        },
        {
          "output_type": "stream",
          "text": [
            "pop_label\n",
            "0    0.189449\n",
            "1    0.167914\n",
            "Name: liveness, dtype: float64\n"
          ],
          "name": "stdout"
        },
        {
          "output_type": "display_data",
          "data": {
            "image/png": "[encoded data removed]",
            "text/plain": [
              "<Figure size 432x288 with 1 Axes>"
            ]
          },
          "metadata": {
            "tags": [],
            "needs_background": "light"
          }
        },
        {
          "output_type": "stream",
          "text": [
            "pop_label\n",
            "0   -7.424938\n",
            "1   -6.401777\n",
            "Name: loudness, dtype: float64\n"
          ],
          "name": "stdout"
        },
        {
          "output_type": "display_data",
          "data": {
            "image/png": "[encoded data removed]",
            "text/plain": [
              "<Figure size 432x288 with 1 Axes>"
            ]
          },
          "metadata": {
            "tags": [],
            "needs_background": "light"
          }
        },
        {
          "output_type": "stream",
          "text": [
            "pop_label\n",
            "0    0.103746\n",
            "1    0.112298\n",
            "Name: speechiness, dtype: float64\n"
          ],
          "name": "stdout"
        },
        {
          "output_type": "display_data",
          "data": {
            "image/png": "[encoded data removed]",
            "text/plain": [
              "<Figure size 432x288 with 1 Axes>"
            ]
          },
          "metadata": {
            "tags": [],
            "needs_background": "light"
          }
        },
        {
          "output_type": "stream",
          "text": [
            "pop_label\n",
            "0    0.461372\n",
            "1    0.494102\n",
            "Name: valence, dtype: float64\n"
          ],
          "name": "stdout"
        },
        {
          "output_type": "display_data",
          "data": {
            "image/png": "[encoded data removed]",
            "text/plain": [
              "<Figure size 432x288 with 1 Axes>"
            ]
          },
          "metadata": {
            "tags": [],
            "needs_background": "light"
          }
        }
      ]
    },
    {
      "cell_type": "code",
      "metadata": {
        "id": "No4-T9G6pjS0",
        "outputId": "9892b9af-e3df-4845-c1f8-8216cc47ed15",
        "colab": {
          "base_uri": "https://localhost:8080/",
          "height": 204
        }
      },
      "source": [
        "# key excluded from features for further consideration due to lack of clear benefit and unnecessary complication of adding extra feature to\n",
        "# account for all categories\n",
        "# further feature selection to be performed by random forest\n",
        "df_model_2 = df_model.drop(columns=['key'])\n",
        "df_model_2.head()"
      ],
      "execution_count": null,
      "outputs": [
        {
          "output_type": "execute_result",
          "data": {
            "text/html": [
              "<div>\n",
              "<style scoped>\n",
              "    .dataframe tbody tr th:only-of-type {\n",
              "        vertical-align: middle;\n",
              "    }\n",
              "\n",
              "    .dataframe tbody tr th {\n",
              "        vertical-align: top;\n",
              "    }\n",
              "\n",
              "    .dataframe thead th {\n",
              "        text-align: right;\n",
              "    }\n",
              "</style>\n",
              "<table border=\"1\" class=\"dataframe\">\n",
              "  <thead>\n",
              "    <tr style=\"text-align: right;\">\n",
              "      <th></th>\n",
              "      <th>year</th>\n",
              "      <th>tempo</th>\n",
              "      <th>acousticness</th>\n",
              "      <th>duration_ms</th>\n",
              "      <th>danceability</th>\n",
              "      <th>energy</th>\n",
              "      <th>explicit</th>\n",
              "      <th>instrumentalness</th>\n",
              "      <th>liveness</th>\n",
              "      <th>loudness</th>\n",
              "      <th>mode</th>\n",
              "      <th>speechiness</th>\n",
              "      <th>valence</th>\n",
              "      <th>pop_label</th>\n",
              "    </tr>\n",
              "  </thead>\n",
              "  <tbody>\n",
              "    <tr>\n",
              "      <th>0</th>\n",
              "      <td>2012</td>\n",
              "      <td>91.148000</td>\n",
              "      <td>0.500</td>\n",
              "      <td>248947.0</td>\n",
              "      <td>0.740</td>\n",
              "      <td>0.525</td>\n",
              "      <td>0</td>\n",
              "      <td>0.000004</td>\n",
              "      <td>0.106</td>\n",
              "      <td>-13.082</td>\n",
              "      <td>1</td>\n",
              "      <td>0.0458</td>\n",
              "      <td>0.8040</td>\n",
              "      <td>0</td>\n",
              "    </tr>\n",
              "    <tr>\n",
              "      <th>1</th>\n",
              "      <td>2012</td>\n",
              "      <td>90.963000</td>\n",
              "      <td>0.725</td>\n",
              "      <td>271727.0</td>\n",
              "      <td>0.660</td>\n",
              "      <td>0.748</td>\n",
              "      <td>0</td>\n",
              "      <td>0.000650</td>\n",
              "      <td>0.127</td>\n",
              "      <td>-4.855</td>\n",
              "      <td>1</td>\n",
              "      <td>0.0440</td>\n",
              "      <td>0.7500</td>\n",
              "      <td>0</td>\n",
              "    </tr>\n",
              "    <tr>\n",
              "      <th>2</th>\n",
              "      <td>2016</td>\n",
              "      <td>120.813463</td>\n",
              "      <td>0.941</td>\n",
              "      <td>72627.0</td>\n",
              "      <td>0.160</td>\n",
              "      <td>0.145</td>\n",
              "      <td>0</td>\n",
              "      <td>0.091900</td>\n",
              "      <td>0.103</td>\n",
              "      <td>-20.495</td>\n",
              "      <td>0</td>\n",
              "      <td>0.0359</td>\n",
              "      <td>0.0946</td>\n",
              "      <td>0</td>\n",
              "    </tr>\n",
              "    <tr>\n",
              "      <th>3</th>\n",
              "      <td>2016</td>\n",
              "      <td>83.720000</td>\n",
              "      <td>0.649</td>\n",
              "      <td>163387.0</td>\n",
              "      <td>0.571</td>\n",
              "      <td>0.307</td>\n",
              "      <td>0</td>\n",
              "      <td>0.000000</td>\n",
              "      <td>0.178</td>\n",
              "      <td>-10.958</td>\n",
              "      <td>0</td>\n",
              "      <td>0.0499</td>\n",
              "      <td>0.1080</td>\n",
              "      <td>0</td>\n",
              "    </tr>\n",
              "    <tr>\n",
              "      <th>4</th>\n",
              "      <td>2016</td>\n",
              "      <td>83.197000</td>\n",
              "      <td>0.827</td>\n",
              "      <td>87347.0</td>\n",
              "      <td>0.427</td>\n",
              "      <td>0.449</td>\n",
              "      <td>0</td>\n",
              "      <td>0.000000</td>\n",
              "      <td>0.134</td>\n",
              "      <td>-8.370</td>\n",
              "      <td>1</td>\n",
              "      <td>0.0337</td>\n",
              "      <td>0.2310</td>\n",
              "      <td>0</td>\n",
              "    </tr>\n",
              "  </tbody>\n",
              "</table>\n",
              "</div>"
            ],
            "text/plain": [
              "   year       tempo  acousticness  ...  speechiness  valence  pop_label\n",
              "0  2012   91.148000         0.500  ...       0.0458   0.8040          0\n",
              "1  2012   90.963000         0.725  ...       0.0440   0.7500          0\n",
              "2  2016  120.813463         0.941  ...       0.0359   0.0946          0\n",
              "3  2016   83.720000         0.649  ...       0.0499   0.1080          0\n",
              "4  2016   83.197000         0.827  ...       0.0337   0.2310          0\n",
              "\n",
              "[5 rows x 14 columns]"
            ]
          },
          "metadata": {
            "tags": []
          },
          "execution_count": 39
        }
      ]
    },
    {
      "cell_type": "code",
      "metadata": {
        "id": "RK-9B7AimS7w"
      },
      "source": [
        "# split features and labels\n",
        "X = df_model_2.drop(columns=['pop_label'])\n",
        "Y = df_model_2['pop_label']"
      ],
      "execution_count": null,
      "outputs": []
    },
    {
      "cell_type": "code",
      "metadata": {
        "id": "bCdaRFzjl_uO"
      },
      "source": [
        "# function to calculate sensitivity, specificity, and accuracy\n",
        "def sens_spec_acc_calc(Y_true, Y_pred):\n",
        "  results_ct = pd.crosstab(Y_true, Y_pred)\n",
        "  try:\n",
        "    num_pos_correct = results_ct.loc[1][1]\n",
        "  except:\n",
        "    num_pos_correct = 0\n",
        "  try:\n",
        "    num_neg_correct = results_ct.loc[0][0]\n",
        "  except:\n",
        "    num_neg_correct = 0\n",
        "  \n",
        "  num_pos = Y_true[Y_true == 1].shape[0]\n",
        "  num_neg = Y_true[Y_true == 0].shape[0]\n",
        "  total = num_pos + num_neg\n",
        "  if (num_pos == 0):\n",
        "    sens = np.nan\n",
        "  else:\n",
        "    sens = num_pos_correct/num_pos\n",
        "  if (num_neg == 0):\n",
        "    spec = np.nan\n",
        "  else:\n",
        "    spec = num_neg_correct/num_neg\n",
        "  acc = (num_pos_correct + num_neg_correct)/total\n",
        "  return (sens, spec, acc)\n",
        "\n",
        "from sklearn.model_selection import train_test_split\n",
        "from sklearn.ensemble import RandomForestClassifier\n",
        "\n",
        "# function to run model for requested parameters and return model values and model object\n",
        "def run_model(n_estimators, max_depth, undersampling, X, Y):\n",
        "  num_popular = Y[Y == 1].shape[0]\n",
        "  num_unpopular = Y[Y == 0].shape[0]\n",
        "  if (undersampling < 0):\n",
        "    num_unpopular_to_sample = num_unpopular\n",
        "    undersampling = 0\n",
        "    print('Used undersampling of 0.')\n",
        "  elif (undersampling > 1):\n",
        "    num_unpopular_to_sample = num_popular\n",
        "    undersampling = 1\n",
        "    print('Used undersampling of 1.')\n",
        "  else:\n",
        "    num_unpopular_to_sample = num_popular + int(np.floor((num_unpopular - num_popular)*(1-undersampling)))\n",
        "\n",
        "  unpopular_indices = np.random.choice(Y[Y == 0].index, num_unpopular_to_sample, replace=False)\n",
        "  popular_indices = Y[Y == 1].index.values\n",
        "  indices_to_sample = np.concatenate((unpopular_indices, popular_indices), axis=0)\n",
        "  X = X.loc[indices_to_sample]\n",
        "  Y = Y.loc[indices_to_sample]\n",
        "  X_train, X_test, Y_train, Y_test = train_test_split(X, Y, test_size=0.2, random_state=42)\n",
        "\n",
        "  model = RandomForestClassifier(n_estimators=n_estimators, max_depth=max_depth, n_jobs=-1).fit(X_train, Y_train)\n",
        "  Y_train_pred = model.predict(X_train)\n",
        "  Y_test_pred = model.predict(X_test)\n",
        "  train_sens, train_spec, train_acc = sens_spec_acc_calc(Y_train, Y_train_pred)\n",
        "  test_sens, test_spec, test_acc = sens_spec_acc_calc(Y_test, Y_test_pred)\n",
        "\n",
        "  baseline_accuracy = num_unpopular_to_sample/(num_popular + num_unpopular_to_sample)\n",
        "\n",
        "  return {'n_estimators': n_estimators, 'max_depth': max_depth, 'undersampling': undersampling, 'train_sens': train_sens, \n",
        "          'train_spec': train_spec, 'train_acc': train_acc, 'test_sens': test_sens, \n",
        "          'test_spec': test_spec, 'test_acc': test_acc, 'baseline_accuracy': baseline_accuracy, 'model': model}"
      ],
      "execution_count": null,
      "outputs": []
    },
    {
      "cell_type": "code",
      "metadata": {
        "id": "o4YMEfzJnXcx"
      },
      "source": [
        "# apply grid search to find optimal model\n",
        "n_estimators_list = []\n",
        "max_depth_list = []\n",
        "undersampling_list = []\n",
        "train_sens_list = []\n",
        "train_spec_list = []\n",
        "train_acc_list = []\n",
        "test_sens_list = []\n",
        "test_spec_list = []\n",
        "test_acc_list = []\n",
        "baseline_accuracy_list = []\n",
        "for n_estimators in [10, 100, 1000]:\n",
        "  for undersampling in np.arange(0, 1.1, 0.1):\n",
        "    for max_depth in [None, 2, 4]:\n",
        "      results = run_model(n_estimators, max_depth, undersampling, X, Y)\n",
        "      n_estimators_list.append(results['n_estimators'])\n",
        "      max_depth_list.append(results['max_depth'])\n",
        "      undersampling_list.append(results['undersampling'])\n",
        "      train_sens_list.append(results['train_sens'])\n",
        "      train_spec_list.append(results['train_spec'])\n",
        "      train_acc_list.append(results['train_acc'])\n",
        "      test_sens_list.append(results['test_sens'])\n",
        "      test_spec_list.append(results['test_spec'])\n",
        "      test_acc_list.append(results['test_acc'])\n",
        "      baseline_accuracy_list.append(results['baseline_accuracy'])"
      ],
      "execution_count": null,
      "outputs": []
    },
    {
      "cell_type": "code",
      "metadata": {
        "id": "yuEcMY3Hv0F7"
      },
      "source": [
        "# create DataFrame from results of grid search\n",
        "results_df = pd.DataFrame(data={'Number of Trees': n_estimators_list, 'Max Tree Depth': max_depth_list, 'Degree of Undersampling': undersampling_list, \n",
        "                                'Training Sensitivity': train_sens_list, 'Training Specificity': train_spec_list, \n",
        "                                'Training Accuracy': train_acc_list, 'Testing Sensitivity': test_sens_list, \n",
        "                                'Testing Specificity': test_spec_list, 'Testing Accuracy': test_acc_list, \n",
        "                                'Baseline Accuracy': baseline_accuracy_list})\n",
        "\n",
        "# add derived quantities to DataFrame to assess models\n",
        "results_df['Sens. Gen. Gap'] = results_df['Testing Sensitivity'] - results_df['Training Sensitivity']\n",
        "results_df['Spec. Gen. Gap'] = results_df['Testing Specificity'] - results_df['Training Specificity']\n",
        "results_df['Acc. Gen. Gap'] = results_df['Testing Accuracy'] - results_df['Training Accuracy']\n",
        "results_df['Accuracy Gain v. Baseline'] = results_df['Testing Accuracy'] - results_df['Baseline Accuracy']\n",
        "results_df['Mean Absolute Gen. Gap'] = (abs(results_df['Sens. Gen. Gap']) + abs(results_df['Spec. Gen. Gap']) + abs(results_df['Acc. Gen. Gap']))/3\n",
        "results_df['Mean of Testing Accuracy Metrics'] = (results_df['Testing Sensitivity'] + results_df['Testing Specificity'] + results_df['Testing Accuracy'])/3"
      ],
      "execution_count": null,
      "outputs": []
    },
    {
      "cell_type": "code",
      "metadata": {
        "id": "98CnMY-vrpk7",
        "outputId": "9e0f695f-9b2d-462f-c18f-04d000d000f8",
        "colab": {
          "base_uri": "https://localhost:8080/",
          "height": 34
        }
      },
      "source": [
        "# apply testing sensitivity filter\n",
        "results_df2 = results_df[results_df['Testing Sensitivity'] > 0.5]\n",
        "results_df2.shape"
      ],
      "execution_count": null,
      "outputs": [
        {
          "output_type": "execute_result",
          "data": {
            "text/plain": [
              "(9, 16)"
            ]
          },
          "metadata": {
            "tags": []
          },
          "execution_count": 44
        }
      ]
    },
    {
      "cell_type": "code",
      "metadata": {
        "id": "4Kb9_CIOuKfA",
        "outputId": "691c3f4f-627c-47f6-b248-f1b215bd36c0",
        "colab": {
          "base_uri": "https://localhost:8080/",
          "height": 34
        }
      },
      "source": [
        "# apply testing specificity filter\n",
        "results_df3 = results_df2[results_df2['Testing Specificity'] > 0.5]\n",
        "results_df3.shape"
      ],
      "execution_count": null,
      "outputs": [
        {
          "output_type": "execute_result",
          "data": {
            "text/plain": [
              "(9, 16)"
            ]
          },
          "metadata": {
            "tags": []
          },
          "execution_count": 45
        }
      ]
    },
    {
      "cell_type": "code",
      "metadata": {
        "id": "qUx6zWqnuf25",
        "outputId": "59f6d7d7-e843-479a-df0a-afc44b823106",
        "colab": {
          "base_uri": "https://localhost:8080/",
          "height": 34
        }
      },
      "source": [
        "# apply mean absolute generalization gap filter\n",
        "results_df4 = results_df3[results_df3['Mean Absolute Gen. Gap'] < 0.05]\n",
        "results_df4.shape"
      ],
      "execution_count": null,
      "outputs": [
        {
          "output_type": "execute_result",
          "data": {
            "text/plain": [
              "(6, 16)"
            ]
          },
          "metadata": {
            "tags": []
          },
          "execution_count": 46
        }
      ]
    },
    {
      "cell_type": "code",
      "metadata": {
        "id": "KFti5mIgt_bh",
        "outputId": "fd7e5a3d-8534-45f7-f87f-7a6e312e759e",
        "colab": {
          "base_uri": "https://localhost:8080/",
          "height": 306
        }
      },
      "source": [
        "results_df4.sort_values(by=['Mean of Testing Accuracy Metrics'], ascending=False)"
      ],
      "execution_count": null,
      "outputs": [
        {
          "output_type": "execute_result",
          "data": {
            "text/html": [
              "<div>\n",
              "<style scoped>\n",
              "    .dataframe tbody tr th:only-of-type {\n",
              "        vertical-align: middle;\n",
              "    }\n",
              "\n",
              "    .dataframe tbody tr th {\n",
              "        vertical-align: top;\n",
              "    }\n",
              "\n",
              "    .dataframe thead th {\n",
              "        text-align: right;\n",
              "    }\n",
              "</style>\n",
              "<table border=\"1\" class=\"dataframe\">\n",
              "  <thead>\n",
              "    <tr style=\"text-align: right;\">\n",
              "      <th></th>\n",
              "      <th>Number of Trees</th>\n",
              "      <th>Max Tree Depth</th>\n",
              "      <th>Degree of Undersampling</th>\n",
              "      <th>Training Sensitivity</th>\n",
              "      <th>Training Specificity</th>\n",
              "      <th>Training Accuracy</th>\n",
              "      <th>Testing Sensitivity</th>\n",
              "      <th>Testing Specificity</th>\n",
              "      <th>Testing Accuracy</th>\n",
              "      <th>Baseline Accuracy</th>\n",
              "      <th>Sens. Gen. Gap</th>\n",
              "      <th>Spec. Gen. Gap</th>\n",
              "      <th>Acc. Gen. Gap</th>\n",
              "      <th>Accuracy Gain v. Baseline</th>\n",
              "      <th>Mean Absolute Gen. Gap</th>\n",
              "      <th>Mean of Testing Accuracy Metrics</th>\n",
              "    </tr>\n",
              "  </thead>\n",
              "  <tbody>\n",
              "    <tr>\n",
              "      <th>97</th>\n",
              "      <td>1000</td>\n",
              "      <td>2.0</td>\n",
              "      <td>1.0</td>\n",
              "      <td>0.801679</td>\n",
              "      <td>0.701604</td>\n",
              "      <td>0.752119</td>\n",
              "      <td>0.801762</td>\n",
              "      <td>0.730612</td>\n",
              "      <td>0.764831</td>\n",
              "      <td>0.5</td>\n",
              "      <td>0.000083</td>\n",
              "      <td>0.029008</td>\n",
              "      <td>0.012712</td>\n",
              "      <td>0.264831</td>\n",
              "      <td>0.013934</td>\n",
              "      <td>0.765735</td>\n",
              "    </tr>\n",
              "    <tr>\n",
              "      <th>32</th>\n",
              "      <td>10</td>\n",
              "      <td>4.0</td>\n",
              "      <td>1.0</td>\n",
              "      <td>0.811123</td>\n",
              "      <td>0.718717</td>\n",
              "      <td>0.765360</td>\n",
              "      <td>0.788546</td>\n",
              "      <td>0.726531</td>\n",
              "      <td>0.756356</td>\n",
              "      <td>0.5</td>\n",
              "      <td>-0.022577</td>\n",
              "      <td>0.007814</td>\n",
              "      <td>-0.009004</td>\n",
              "      <td>0.256356</td>\n",
              "      <td>0.013132</td>\n",
              "      <td>0.757144</td>\n",
              "    </tr>\n",
              "    <tr>\n",
              "      <th>65</th>\n",
              "      <td>100</td>\n",
              "      <td>4.0</td>\n",
              "      <td>1.0</td>\n",
              "      <td>0.823715</td>\n",
              "      <td>0.730481</td>\n",
              "      <td>0.777542</td>\n",
              "      <td>0.814978</td>\n",
              "      <td>0.697959</td>\n",
              "      <td>0.754237</td>\n",
              "      <td>0.5</td>\n",
              "      <td>-0.008737</td>\n",
              "      <td>-0.032522</td>\n",
              "      <td>-0.023305</td>\n",
              "      <td>0.254237</td>\n",
              "      <td>0.021521</td>\n",
              "      <td>0.755725</td>\n",
              "    </tr>\n",
              "    <tr>\n",
              "      <th>98</th>\n",
              "      <td>1000</td>\n",
              "      <td>4.0</td>\n",
              "      <td>1.0</td>\n",
              "      <td>0.831060</td>\n",
              "      <td>0.726203</td>\n",
              "      <td>0.779131</td>\n",
              "      <td>0.814978</td>\n",
              "      <td>0.681633</td>\n",
              "      <td>0.745763</td>\n",
              "      <td>0.5</td>\n",
              "      <td>-0.016082</td>\n",
              "      <td>-0.044571</td>\n",
              "      <td>-0.033369</td>\n",
              "      <td>0.245763</td>\n",
              "      <td>0.031340</td>\n",
              "      <td>0.747458</td>\n",
              "    </tr>\n",
              "    <tr>\n",
              "      <th>64</th>\n",
              "      <td>100</td>\n",
              "      <td>2.0</td>\n",
              "      <td>1.0</td>\n",
              "      <td>0.798531</td>\n",
              "      <td>0.720856</td>\n",
              "      <td>0.760064</td>\n",
              "      <td>0.792952</td>\n",
              "      <td>0.677551</td>\n",
              "      <td>0.733051</td>\n",
              "      <td>0.5</td>\n",
              "      <td>-0.005579</td>\n",
              "      <td>-0.043305</td>\n",
              "      <td>-0.027013</td>\n",
              "      <td>0.233051</td>\n",
              "      <td>0.025299</td>\n",
              "      <td>0.734518</td>\n",
              "    </tr>\n",
              "    <tr>\n",
              "      <th>31</th>\n",
              "      <td>10</td>\n",
              "      <td>2.0</td>\n",
              "      <td>1.0</td>\n",
              "      <td>0.705142</td>\n",
              "      <td>0.729412</td>\n",
              "      <td>0.717161</td>\n",
              "      <td>0.665198</td>\n",
              "      <td>0.673469</td>\n",
              "      <td>0.669492</td>\n",
              "      <td>0.5</td>\n",
              "      <td>-0.039943</td>\n",
              "      <td>-0.055942</td>\n",
              "      <td>-0.047669</td>\n",
              "      <td>0.169492</td>\n",
              "      <td>0.047852</td>\n",
              "      <td>0.669386</td>\n",
              "    </tr>\n",
              "  </tbody>\n",
              "</table>\n",
              "</div>"
            ],
            "text/plain": [
              "    Number of Trees  ...  Mean of Testing Accuracy Metrics\n",
              "97             1000  ...                          0.765735\n",
              "32               10  ...                          0.757144\n",
              "65              100  ...                          0.755725\n",
              "98             1000  ...                          0.747458\n",
              "64              100  ...                          0.734518\n",
              "31               10  ...                          0.669386\n",
              "\n",
              "[6 rows x 16 columns]"
            ]
          },
          "metadata": {
            "tags": []
          },
          "execution_count": 48
        }
      ]
    },
    {
      "cell_type": "markdown",
      "metadata": {
        "id": "CjH77B61vqi3"
      },
      "source": [
        "## Details of Final Model Selected\n",
        "\n",
        "Architecture:  Random Forest Classifier"
      ]
    },
    {
      "cell_type": "code",
      "metadata": {
        "id": "2cvjWyhrvNJV",
        "outputId": "70f23c33-e0e2-44c8-fdae-31ce582a5b74",
        "colab": {
          "base_uri": "https://localhost:8080/",
          "height": 306
        }
      },
      "source": [
        "results_df4.loc[98]"
      ],
      "execution_count": null,
      "outputs": [
        {
          "output_type": "execute_result",
          "data": {
            "text/plain": [
              "Number of Trees                     1000.000000\n",
              "Max Tree Depth                         4.000000\n",
              "Degree of Undersampling                1.000000\n",
              "Training Sensitivity                   0.831060\n",
              "Training Specificity                   0.726203\n",
              "Training Accuracy                      0.779131\n",
              "Testing Sensitivity                    0.814978\n",
              "Testing Specificity                    0.681633\n",
              "Testing Accuracy                       0.745763\n",
              "Baseline Accuracy                      0.500000\n",
              "Sens. Gen. Gap                        -0.016082\n",
              "Spec. Gen. Gap                        -0.044571\n",
              "Acc. Gen. Gap                         -0.033369\n",
              "Accuracy Gain v. Baseline              0.245763\n",
              "Mean Absolute Gen. Gap                 0.031340\n",
              "Mean of Testing Accuracy Metrics       0.747458\n",
              "Name: 98, dtype: float64"
            ]
          },
          "metadata": {
            "tags": []
          },
          "execution_count": 49
        }
      ]
    },
    {
      "cell_type": "code",
      "metadata": {
        "id": "SiEWU-nmwTOO"
      },
      "source": [
        "model_to_be_tested = run_model(1000, 4, 1, X, Y)['model']"
      ],
      "execution_count": null,
      "outputs": []
    },
    {
      "cell_type": "code",
      "metadata": {
        "id": "YhjKCO94LXmh"
      },
      "source": [
        ""
      ],
      "execution_count": null,
      "outputs": []
    }
  ]
}