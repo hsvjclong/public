{
 "cells": [
  {
   "cell_type": "markdown",
   "metadata": {
    "slideshow": {
     "slide_type": "slide"
    }
   },
   "source": [
    "# Capstone 2 -- Supervised Learning\n",
    "\n",
    "The subject of this capstone is the churn of customers for a bank."
   ]
  },
  {
   "cell_type": "markdown",
   "metadata": {
    "slideshow": {
     "slide_type": "slide"
    }
   },
   "source": [
    "## Perform imports and load data"
   ]
  },
  {
   "cell_type": "code",
   "execution_count": 1,
   "metadata": {
    "slideshow": {
     "slide_type": "fragment"
    }
   },
   "outputs": [],
   "source": [
    "import numpy as np\n",
    "import pandas as pd\n",
    "import matplotlib.pyplot as plt\n",
    "import seaborn as sns"
   ]
  },
  {
   "cell_type": "code",
   "execution_count": 2,
   "metadata": {
    "slideshow": {
     "slide_type": "fragment"
    }
   },
   "outputs": [],
   "source": [
    "filepath = 'C:\\\\Users\\\\hsvjc\\\\Desktop\\\\Thinkful\\\\Bank Churn Data\\\\churn-modelling\\\\Churn_Modelling.csv'\n",
    "\n",
    "df = pd.read_csv(filepath)"
   ]
  },
  {
   "cell_type": "code",
   "execution_count": 3,
   "metadata": {
    "slideshow": {
     "slide_type": "fragment"
    }
   },
   "outputs": [
    {
     "data": {
      "text/html": [
       "<div>\n",
       "<style scoped>\n",
       "    .dataframe tbody tr th:only-of-type {\n",
       "        vertical-align: middle;\n",
       "    }\n",
       "\n",
       "    .dataframe tbody tr th {\n",
       "        vertical-align: top;\n",
       "    }\n",
       "\n",
       "    .dataframe thead th {\n",
       "        text-align: right;\n",
       "    }\n",
       "</style>\n",
       "<table border=\"1\" class=\"dataframe\">\n",
       "  <thead>\n",
       "    <tr style=\"text-align: right;\">\n",
       "      <th></th>\n",
       "      <th>RowNumber</th>\n",
       "      <th>CustomerId</th>\n",
       "      <th>Surname</th>\n",
       "      <th>CreditScore</th>\n",
       "      <th>Geography</th>\n",
       "      <th>Gender</th>\n",
       "      <th>Age</th>\n",
       "      <th>Tenure</th>\n",
       "      <th>Balance</th>\n",
       "      <th>NumOfProducts</th>\n",
       "      <th>HasCrCard</th>\n",
       "      <th>IsActiveMember</th>\n",
       "      <th>EstimatedSalary</th>\n",
       "      <th>Exited</th>\n",
       "    </tr>\n",
       "  </thead>\n",
       "  <tbody>\n",
       "    <tr>\n",
       "      <th>0</th>\n",
       "      <td>1</td>\n",
       "      <td>15634602</td>\n",
       "      <td>Hargrave</td>\n",
       "      <td>619</td>\n",
       "      <td>France</td>\n",
       "      <td>Female</td>\n",
       "      <td>42</td>\n",
       "      <td>2</td>\n",
       "      <td>0.00</td>\n",
       "      <td>1</td>\n",
       "      <td>1</td>\n",
       "      <td>1</td>\n",
       "      <td>101348.88</td>\n",
       "      <td>1</td>\n",
       "    </tr>\n",
       "    <tr>\n",
       "      <th>1</th>\n",
       "      <td>2</td>\n",
       "      <td>15647311</td>\n",
       "      <td>Hill</td>\n",
       "      <td>608</td>\n",
       "      <td>Spain</td>\n",
       "      <td>Female</td>\n",
       "      <td>41</td>\n",
       "      <td>1</td>\n",
       "      <td>83807.86</td>\n",
       "      <td>1</td>\n",
       "      <td>0</td>\n",
       "      <td>1</td>\n",
       "      <td>112542.58</td>\n",
       "      <td>0</td>\n",
       "    </tr>\n",
       "    <tr>\n",
       "      <th>2</th>\n",
       "      <td>3</td>\n",
       "      <td>15619304</td>\n",
       "      <td>Onio</td>\n",
       "      <td>502</td>\n",
       "      <td>France</td>\n",
       "      <td>Female</td>\n",
       "      <td>42</td>\n",
       "      <td>8</td>\n",
       "      <td>159660.80</td>\n",
       "      <td>3</td>\n",
       "      <td>1</td>\n",
       "      <td>0</td>\n",
       "      <td>113931.57</td>\n",
       "      <td>1</td>\n",
       "    </tr>\n",
       "    <tr>\n",
       "      <th>3</th>\n",
       "      <td>4</td>\n",
       "      <td>15701354</td>\n",
       "      <td>Boni</td>\n",
       "      <td>699</td>\n",
       "      <td>France</td>\n",
       "      <td>Female</td>\n",
       "      <td>39</td>\n",
       "      <td>1</td>\n",
       "      <td>0.00</td>\n",
       "      <td>2</td>\n",
       "      <td>0</td>\n",
       "      <td>0</td>\n",
       "      <td>93826.63</td>\n",
       "      <td>0</td>\n",
       "    </tr>\n",
       "    <tr>\n",
       "      <th>4</th>\n",
       "      <td>5</td>\n",
       "      <td>15737888</td>\n",
       "      <td>Mitchell</td>\n",
       "      <td>850</td>\n",
       "      <td>Spain</td>\n",
       "      <td>Female</td>\n",
       "      <td>43</td>\n",
       "      <td>2</td>\n",
       "      <td>125510.82</td>\n",
       "      <td>1</td>\n",
       "      <td>1</td>\n",
       "      <td>1</td>\n",
       "      <td>79084.10</td>\n",
       "      <td>0</td>\n",
       "    </tr>\n",
       "  </tbody>\n",
       "</table>\n",
       "</div>"
      ],
      "text/plain": [
       "   RowNumber  CustomerId   Surname  CreditScore Geography  Gender  Age  \\\n",
       "0          1    15634602  Hargrave          619    France  Female   42   \n",
       "1          2    15647311      Hill          608     Spain  Female   41   \n",
       "2          3    15619304      Onio          502    France  Female   42   \n",
       "3          4    15701354      Boni          699    France  Female   39   \n",
       "4          5    15737888  Mitchell          850     Spain  Female   43   \n",
       "\n",
       "   Tenure    Balance  NumOfProducts  HasCrCard  IsActiveMember  \\\n",
       "0       2       0.00              1          1               1   \n",
       "1       1   83807.86              1          0               1   \n",
       "2       8  159660.80              3          1               0   \n",
       "3       1       0.00              2          0               0   \n",
       "4       2  125510.82              1          1               1   \n",
       "\n",
       "   EstimatedSalary  Exited  \n",
       "0        101348.88       1  \n",
       "1        112542.58       0  \n",
       "2        113931.57       1  \n",
       "3         93826.63       0  \n",
       "4         79084.10       0  "
      ]
     },
     "execution_count": 3,
     "metadata": {},
     "output_type": "execute_result"
    }
   ],
   "source": [
    "df.head()"
   ]
  },
  {
   "cell_type": "markdown",
   "metadata": {
    "slideshow": {
     "slide_type": "slide"
    }
   },
   "source": [
    "## Description of columns\n",
    "\n",
    "RowNumber is simply an index.\n",
    "CustomerId is a unique identification of each customer in the data set.\n",
    "Surname is the last name of the customer.\n",
    "CreditScore is the customer's credit score.\n",
    "Geography is the customer's country.\n",
    "Gender is the customer's gender.\n",
    "Age is the age of the customer in years.\n",
    "Tenure is the length of the time for which the customer has been with the bank.\n",
    "Balance is the customer's balance in the bank.\n",
    "NumOfProducts is the number of bank products that the customer is using.\n",
    "HasCrCard indicates whether the customer has a credit card with the bank (1) or not (0).\n",
    "IsActiveMember indicates whether the customer is an active customer (1) or not (0).\n",
    "EstimatedSalary is the estimated salary of the customer is US dollars.\n",
    "Exited indicates whether the customer closed their account with the bank (1) or not (0)."
   ]
  },
  {
   "cell_type": "markdown",
   "metadata": {
    "slideshow": {
     "slide_type": "slide"
    }
   },
   "source": [
    "## Identifying variables types\n",
    "\n",
    "RowNumber, CustomerId, and Surname are not classified because these variables are used to hold information that is for identification of customers rather than any explanatory information about the customers.  Categorical variables are Geography, Gender, HasCrCard, IsActiveMember, and Exited.  All categorical variables are nominal variables that do not indicate rank-order.  Continuous variables are CreditScore, Age, Tenure, Balance, NumOfProducts, and EstimatedSalary.  All continuous variables are ratio variables that have meaningful zero points.  The continuous variables present each have the ability to be treated as categorical variables upon definition of meaningful categories.  The final decision regarding how to treat them is made after exploratory data analysis."
   ]
  },
  {
   "cell_type": "code",
   "execution_count": 4,
   "metadata": {
    "slideshow": {
     "slide_type": "subslide"
    }
   },
   "outputs": [
    {
     "data": {
      "text/plain": [
       "CreditScore         continuous\n",
       "Geography          categorical\n",
       "Gender             categorical\n",
       "Age                 continuous\n",
       "Tenure              continuous\n",
       "Balance             continuous\n",
       "NumOfProducts       continuous\n",
       "HasCrCard          categorical\n",
       "IsActiveMember     categorical\n",
       "EstimatedSalary     continuous\n",
       "Exited             categorical\n",
       "dtype: object"
      ]
     },
     "execution_count": 4,
     "metadata": {},
     "output_type": "execute_result"
    }
   ],
   "source": [
    "df2 = df.drop(columns=['RowNumber', 'CustomerId', 'Surname'])\n",
    "\n",
    "col_names = list(df2.columns)\n",
    "var_type_series = pd.Series(index=col_names, data=col_names)\n",
    "cat_var_list = ['Geography', 'Gender', 'HasCrCard', 'IsActiveMember', 'Exited']\n",
    "for col_name in col_names:\n",
    "    if col_name in cat_var_list:\n",
    "        var_type_series.loc[col_name] = 'categorical'\n",
    "    else:\n",
    "        var_type_series.loc[col_name] = 'continuous'\n",
    "var_type_series"
   ]
  },
  {
   "cell_type": "markdown",
   "metadata": {
    "slideshow": {
     "slide_type": "slide"
    }
   },
   "source": [
    "## Identifying missing data as well as data types for each column"
   ]
  },
  {
   "cell_type": "code",
   "execution_count": 5,
   "metadata": {
    "scrolled": true,
    "slideshow": {
     "slide_type": "fragment"
    }
   },
   "outputs": [
    {
     "name": "stdout",
     "output_type": "stream",
     "text": [
      "<class 'pandas.core.frame.DataFrame'>\n",
      "RangeIndex: 10000 entries, 0 to 9999\n",
      "Data columns (total 11 columns):\n",
      "CreditScore        10000 non-null int64\n",
      "Geography          10000 non-null object\n",
      "Gender             10000 non-null object\n",
      "Age                10000 non-null int64\n",
      "Tenure             10000 non-null int64\n",
      "Balance            10000 non-null float64\n",
      "NumOfProducts      10000 non-null int64\n",
      "HasCrCard          10000 non-null int64\n",
      "IsActiveMember     10000 non-null int64\n",
      "EstimatedSalary    10000 non-null float64\n",
      "Exited             10000 non-null int64\n",
      "dtypes: float64(2), int64(7), object(2)\n",
      "memory usage: 859.5+ KB\n"
     ]
    }
   ],
   "source": [
    "df2.info()"
   ]
  },
  {
   "cell_type": "markdown",
   "metadata": {
    "slideshow": {
     "slide_type": "fragment"
    }
   },
   "source": [
    "Each column is fully populated.  Only the 'Geography' and 'Gender' columns have 'object' as the listed type.  The data types present in each column are inspected."
   ]
  },
  {
   "cell_type": "code",
   "execution_count": 6,
   "metadata": {
    "slideshow": {
     "slide_type": "subslide"
    }
   },
   "outputs": [
    {
     "name": "stdout",
     "output_type": "stream",
     "text": [
      "CreditScore\n",
      "[<class 'int'>]\n",
      "Geography\n",
      "[<class 'str'>]\n",
      "Gender\n",
      "[<class 'str'>]\n",
      "Age\n",
      "[<class 'int'>]\n",
      "Tenure\n",
      "[<class 'int'>]\n",
      "Balance\n",
      "[<class 'float'>]\n",
      "NumOfProducts\n",
      "[<class 'int'>]\n",
      "HasCrCard\n",
      "[<class 'int'>]\n",
      "IsActiveMember\n",
      "[<class 'int'>]\n",
      "EstimatedSalary\n",
      "[<class 'float'>]\n",
      "Exited\n",
      "[<class 'int'>]\n"
     ]
    }
   ],
   "source": [
    "for col_name in col_names:\n",
    "    print(col_name)\n",
    "    print(df2[col_name].apply(type).unique())"
   ]
  },
  {
   "cell_type": "markdown",
   "metadata": {
    "slideshow": {
     "slide_type": "fragment"
    }
   },
   "source": [
    "All of the columns in the DataFrame that are classified as type 'object' are shown to be composed of strings."
   ]
  },
  {
   "cell_type": "markdown",
   "metadata": {
    "slideshow": {
     "slide_type": "slide"
    }
   },
   "source": [
    "## Searching for duplicate entries"
   ]
  },
  {
   "cell_type": "code",
   "execution_count": 7,
   "metadata": {
    "slideshow": {
     "slide_type": "fragment"
    }
   },
   "outputs": [],
   "source": [
    "for i in range(0,df2.shape[0]):\n",
    "    df2_copy = df2.copy()\n",
    "    has_duplicates = True\n",
    "    for col_name in col_names:\n",
    "        df2_copy = df2_copy[df2_copy[col_name] == df2.iloc[i][col_name]]\n",
    "        if (df2_copy.shape[0] == 1):\n",
    "            has_duplicates = False\n",
    "            break\n",
    "    if (has_duplicates):\n",
    "        print(i)"
   ]
  },
  {
   "cell_type": "markdown",
   "metadata": {
    "slideshow": {
     "slide_type": "fragment"
    }
   },
   "source": [
    "No duplicate entries are identified."
   ]
  },
  {
   "cell_type": "markdown",
   "metadata": {
    "slideshow": {
     "slide_type": "slide"
    }
   },
   "source": [
    "## Observing unique values of categorical variables"
   ]
  },
  {
   "cell_type": "code",
   "execution_count": 8,
   "metadata": {
    "scrolled": true,
    "slideshow": {
     "slide_type": "fragment"
    }
   },
   "outputs": [
    {
     "name": "stdout",
     "output_type": "stream",
     "text": [
      "Geography\n",
      "['France' 'Spain' 'Germany']\n",
      "Gender\n",
      "['Female' 'Male']\n",
      "HasCrCard\n",
      "[1 0]\n",
      "IsActiveMember\n",
      "[1 0]\n",
      "Exited\n",
      "[1 0]\n"
     ]
    }
   ],
   "source": [
    "for col_name in col_names:\n",
    "    if (var_type_series.loc[col_name] == 'categorical'):\n",
    "        print(col_name)\n",
    "        print(df2[col_name].unique())"
   ]
  },
  {
   "cell_type": "markdown",
   "metadata": {
    "slideshow": {
     "slide_type": "slide"
    }
   },
   "source": [
    " ## Transform 'Gender' variable to binary. "
   ]
  },
  {
   "cell_type": "code",
   "execution_count": 9,
   "metadata": {
    "slideshow": {
     "slide_type": "fragment"
    }
   },
   "outputs": [],
   "source": [
    "df3 = df2.copy()\n",
    "df3['Gender'] = df2['Gender'].apply(lambda x: 1 if x == 'Male' else 0)\n",
    "df3.rename(columns={'Gender': 'IsMale'}, inplace=True)"
   ]
  },
  {
   "cell_type": "markdown",
   "metadata": {
    "slideshow": {
     "slide_type": "subslide"
    }
   },
   "source": [
    "Updating variable type list"
   ]
  },
  {
   "cell_type": "code",
   "execution_count": 10,
   "metadata": {
    "slideshow": {
     "slide_type": "fragment"
    }
   },
   "outputs": [
    {
     "data": {
      "text/plain": [
       "CreditScore         continuous\n",
       "Geography          categorical\n",
       "IsMale             categorical\n",
       "Age                 continuous\n",
       "Tenure              continuous\n",
       "Balance             continuous\n",
       "NumOfProducts       continuous\n",
       "HasCrCard          categorical\n",
       "IsActiveMember     categorical\n",
       "EstimatedSalary     continuous\n",
       "Exited             categorical\n",
       "dtype: object"
      ]
     },
     "execution_count": 10,
     "metadata": {},
     "output_type": "execute_result"
    }
   ],
   "source": [
    "col_names = list(df3.columns)\n",
    "var_type_series = pd.Series(index=col_names, data=col_names)\n",
    "cat_var_list = ['Geography', 'IsMale', 'HasCrCard', 'IsActiveMember', 'Exited']\n",
    "for col_name in col_names:\n",
    "    if col_name in cat_var_list:\n",
    "        var_type_series.loc[col_name] = 'categorical'\n",
    "    else:\n",
    "        var_type_series.loc[col_name] = 'continuous'\n",
    "var_type_series"
   ]
  },
  {
   "cell_type": "code",
   "execution_count": 11,
   "metadata": {
    "slideshow": {
     "slide_type": "subslide"
    }
   },
   "outputs": [
    {
     "name": "stdout",
     "output_type": "stream",
     "text": [
      "Geography\n",
      "['France' 'Spain' 'Germany']\n",
      "IsMale\n",
      "[0 1]\n",
      "HasCrCard\n",
      "[1 0]\n",
      "IsActiveMember\n",
      "[1 0]\n",
      "Exited\n",
      "[1 0]\n"
     ]
    }
   ],
   "source": [
    "for col_name in col_names:\n",
    "    if (var_type_series.loc[col_name] == 'categorical'):\n",
    "        print(col_name)\n",
    "        print(df3[col_name].unique())"
   ]
  },
  {
   "cell_type": "markdown",
   "metadata": {
    "slideshow": {
     "slide_type": "slide"
    }
   },
   "source": [
    "## Examining range of variables and reasonability"
   ]
  },
  {
   "cell_type": "code",
   "execution_count": 12,
   "metadata": {
    "slideshow": {
     "slide_type": "fragment"
    }
   },
   "outputs": [
    {
     "data": {
      "text/html": [
       "<div>\n",
       "<style scoped>\n",
       "    .dataframe tbody tr th:only-of-type {\n",
       "        vertical-align: middle;\n",
       "    }\n",
       "\n",
       "    .dataframe tbody tr th {\n",
       "        vertical-align: top;\n",
       "    }\n",
       "\n",
       "    .dataframe thead th {\n",
       "        text-align: right;\n",
       "    }\n",
       "</style>\n",
       "<table border=\"1\" class=\"dataframe\">\n",
       "  <thead>\n",
       "    <tr style=\"text-align: right;\">\n",
       "      <th></th>\n",
       "      <th>CreditScore</th>\n",
       "      <th>IsMale</th>\n",
       "      <th>Age</th>\n",
       "      <th>Tenure</th>\n",
       "      <th>Balance</th>\n",
       "      <th>NumOfProducts</th>\n",
       "      <th>HasCrCard</th>\n",
       "      <th>IsActiveMember</th>\n",
       "      <th>EstimatedSalary</th>\n",
       "      <th>Exited</th>\n",
       "    </tr>\n",
       "  </thead>\n",
       "  <tbody>\n",
       "    <tr>\n",
       "      <th>count</th>\n",
       "      <td>10000.000000</td>\n",
       "      <td>10000.000000</td>\n",
       "      <td>10000.000000</td>\n",
       "      <td>10000.000000</td>\n",
       "      <td>10000.000000</td>\n",
       "      <td>10000.000000</td>\n",
       "      <td>10000.00000</td>\n",
       "      <td>10000.000000</td>\n",
       "      <td>10000.000000</td>\n",
       "      <td>10000.000000</td>\n",
       "    </tr>\n",
       "    <tr>\n",
       "      <th>mean</th>\n",
       "      <td>650.528800</td>\n",
       "      <td>0.545700</td>\n",
       "      <td>38.921800</td>\n",
       "      <td>5.012800</td>\n",
       "      <td>76485.889288</td>\n",
       "      <td>1.530200</td>\n",
       "      <td>0.70550</td>\n",
       "      <td>0.515100</td>\n",
       "      <td>100090.239881</td>\n",
       "      <td>0.203700</td>\n",
       "    </tr>\n",
       "    <tr>\n",
       "      <th>std</th>\n",
       "      <td>96.653299</td>\n",
       "      <td>0.497932</td>\n",
       "      <td>10.487806</td>\n",
       "      <td>2.892174</td>\n",
       "      <td>62397.405202</td>\n",
       "      <td>0.581654</td>\n",
       "      <td>0.45584</td>\n",
       "      <td>0.499797</td>\n",
       "      <td>57510.492818</td>\n",
       "      <td>0.402769</td>\n",
       "    </tr>\n",
       "    <tr>\n",
       "      <th>min</th>\n",
       "      <td>350.000000</td>\n",
       "      <td>0.000000</td>\n",
       "      <td>18.000000</td>\n",
       "      <td>0.000000</td>\n",
       "      <td>0.000000</td>\n",
       "      <td>1.000000</td>\n",
       "      <td>0.00000</td>\n",
       "      <td>0.000000</td>\n",
       "      <td>11.580000</td>\n",
       "      <td>0.000000</td>\n",
       "    </tr>\n",
       "    <tr>\n",
       "      <th>25%</th>\n",
       "      <td>584.000000</td>\n",
       "      <td>0.000000</td>\n",
       "      <td>32.000000</td>\n",
       "      <td>3.000000</td>\n",
       "      <td>0.000000</td>\n",
       "      <td>1.000000</td>\n",
       "      <td>0.00000</td>\n",
       "      <td>0.000000</td>\n",
       "      <td>51002.110000</td>\n",
       "      <td>0.000000</td>\n",
       "    </tr>\n",
       "    <tr>\n",
       "      <th>50%</th>\n",
       "      <td>652.000000</td>\n",
       "      <td>1.000000</td>\n",
       "      <td>37.000000</td>\n",
       "      <td>5.000000</td>\n",
       "      <td>97198.540000</td>\n",
       "      <td>1.000000</td>\n",
       "      <td>1.00000</td>\n",
       "      <td>1.000000</td>\n",
       "      <td>100193.915000</td>\n",
       "      <td>0.000000</td>\n",
       "    </tr>\n",
       "    <tr>\n",
       "      <th>75%</th>\n",
       "      <td>718.000000</td>\n",
       "      <td>1.000000</td>\n",
       "      <td>44.000000</td>\n",
       "      <td>7.000000</td>\n",
       "      <td>127644.240000</td>\n",
       "      <td>2.000000</td>\n",
       "      <td>1.00000</td>\n",
       "      <td>1.000000</td>\n",
       "      <td>149388.247500</td>\n",
       "      <td>0.000000</td>\n",
       "    </tr>\n",
       "    <tr>\n",
       "      <th>max</th>\n",
       "      <td>850.000000</td>\n",
       "      <td>1.000000</td>\n",
       "      <td>92.000000</td>\n",
       "      <td>10.000000</td>\n",
       "      <td>250898.090000</td>\n",
       "      <td>4.000000</td>\n",
       "      <td>1.00000</td>\n",
       "      <td>1.000000</td>\n",
       "      <td>199992.480000</td>\n",
       "      <td>1.000000</td>\n",
       "    </tr>\n",
       "  </tbody>\n",
       "</table>\n",
       "</div>"
      ],
      "text/plain": [
       "        CreditScore        IsMale           Age        Tenure        Balance  \\\n",
       "count  10000.000000  10000.000000  10000.000000  10000.000000   10000.000000   \n",
       "mean     650.528800      0.545700     38.921800      5.012800   76485.889288   \n",
       "std       96.653299      0.497932     10.487806      2.892174   62397.405202   \n",
       "min      350.000000      0.000000     18.000000      0.000000       0.000000   \n",
       "25%      584.000000      0.000000     32.000000      3.000000       0.000000   \n",
       "50%      652.000000      1.000000     37.000000      5.000000   97198.540000   \n",
       "75%      718.000000      1.000000     44.000000      7.000000  127644.240000   \n",
       "max      850.000000      1.000000     92.000000     10.000000  250898.090000   \n",
       "\n",
       "       NumOfProducts    HasCrCard  IsActiveMember  EstimatedSalary  \\\n",
       "count   10000.000000  10000.00000    10000.000000     10000.000000   \n",
       "mean        1.530200      0.70550        0.515100    100090.239881   \n",
       "std         0.581654      0.45584        0.499797     57510.492818   \n",
       "min         1.000000      0.00000        0.000000        11.580000   \n",
       "25%         1.000000      0.00000        0.000000     51002.110000   \n",
       "50%         1.000000      1.00000        1.000000    100193.915000   \n",
       "75%         2.000000      1.00000        1.000000    149388.247500   \n",
       "max         4.000000      1.00000        1.000000    199992.480000   \n",
       "\n",
       "             Exited  \n",
       "count  10000.000000  \n",
       "mean       0.203700  \n",
       "std        0.402769  \n",
       "min        0.000000  \n",
       "25%        0.000000  \n",
       "50%        0.000000  \n",
       "75%        0.000000  \n",
       "max        1.000000  "
      ]
     },
     "execution_count": 12,
     "metadata": {},
     "output_type": "execute_result"
    }
   ],
   "source": [
    "df3.describe()"
   ]
  },
  {
   "cell_type": "markdown",
   "metadata": {
    "slideshow": {
     "slide_type": "fragment"
    }
   },
   "source": [
    "'CreditScore' shows a reasonable range.  'IsMale', 'HasCrCard', 'IsActiveMember', and 'Exited' are binary variables that demonstrate the expected range of 0 to 1.  The 'Age', 'Tenure', 'Balance', 'NumOfProducts', and 'EstimatedSalary' fields show a reasonable range."
   ]
  },
  {
   "cell_type": "markdown",
   "metadata": {
    "slideshow": {
     "slide_type": "slide"
    }
   },
   "source": [
    "## Visualizing distributions of continuous variables"
   ]
  },
  {
   "cell_type": "code",
   "execution_count": 13,
   "metadata": {
    "slideshow": {
     "slide_type": "subslide"
    }
   },
   "outputs": [
    {
     "data": {
      "image/png": "[encoded data removed]",
      "text/plain": [
       "<Figure size 1440x360 with 6 Axes>"
      ]
     },
     "metadata": {
      "needs_background": "light"
     },
     "output_type": "display_data"
    }
   ],
   "source": [
    "num_con_var = var_type_series[var_type_series == 'continuous'].shape[0]\n",
    "num_hist_cols = 6\n",
    "num_hist_rows = num_con_var/num_hist_cols if num_con_var%num_hist_cols == 0 else int(num_con_var/num_hist_cols) + 1\n",
    "\n",
    "plt.figure(figsize=(20, 5))\n",
    "plt.tight_layout()\n",
    "\n",
    "i = 1\n",
    "for col_name in var_type_series[var_type_series == 'continuous'].index.values:\n",
    "    plt.subplot(num_hist_rows, num_hist_cols, i)\n",
    "    plt.hist(df3[col_name], bins='auto')\n",
    "    plt.title(col_name)\n",
    "    i += 1\n",
    "    \n",
    "plt.show()"
   ]
  },
  {
   "cell_type": "markdown",
   "metadata": {
    "slideshow": {
     "slide_type": "subslide"
    }
   },
   "source": [
    "Visualization of the distributions of the 'Tenure' and 'NumOfProducts' fields indicates that they might be better classified as categorical variables.  A check is run to see the number of unique values in each field."
   ]
  },
  {
   "cell_type": "code",
   "execution_count": 14,
   "metadata": {
    "slideshow": {
     "slide_type": "fragment"
    }
   },
   "outputs": [
    {
     "name": "stdout",
     "output_type": "stream",
     "text": [
      "Tenure\n",
      "[ 2  1  8  7  4  6  3 10  5  9  0]\n",
      "NumOfProducts\n",
      "[1 3 2 4]\n"
     ]
    }
   ],
   "source": [
    "print('Tenure')\n",
    "print(df3['Tenure'].unique())\n",
    "print('NumOfProducts')\n",
    "print(df3['NumOfProducts'].unique())"
   ]
  },
  {
   "cell_type": "markdown",
   "metadata": {
    "slideshow": {
     "slide_type": "fragment"
    }
   },
   "source": [
    "The number of unique options in each of these fields is not prohibitive for the purpose of converting the variables to categorical variables.  The choice to do so is deferred until later in the process because the usefulness of having a certain variable is related to the type of model chosen."
   ]
  },
  {
   "cell_type": "markdown",
   "metadata": {
    "slideshow": {
     "slide_type": "fragment"
    }
   },
   "source": [
    "The 'CreditScore' and 'Age' variables have a normal-like appearance.  The 'Balance' variable has a strong appearance of normality in the absence of its concentration of observations near zero.  The 'EstimatedSalary' field appears to have relatively low variance."
   ]
  },
  {
   "cell_type": "markdown",
   "metadata": {
    "slideshow": {
     "slide_type": "slide"
    }
   },
   "source": [
    "## Testing for outliers\n",
    "\n",
    "Statistical test for normality is applied to each continuous variable.\n",
    "\n",
    "Square root transformation is applied to each variable.  Log, inverse, and Box-Cox transformations are applied to each continuous variable whose minimum value is greater than 0.\n",
    "\n",
    "Z-scores are obtained for the original distributions as well as the transformed distributions for each continuous variable.\n",
    "\n",
    "The code is not included in this presentation but can be observed in the original Jupyter Notebook."
   ]
  },
  {
   "cell_type": "code",
   "execution_count": 15,
   "metadata": {
    "slideshow": {
     "slide_type": "skip"
    }
   },
   "outputs": [
    {
     "name": "stdout",
     "output_type": "stream",
     "text": [
      "CreditScore\n",
      "\n",
      "Probability of distribution being normal:  1.434445056038405e-29\n",
      "max z-score of distribution as is:  2.063883767202561\n",
      "min z-score of distribution as is:  -3.1095040882937757\n",
      "\n",
      "Probability of square root transformation distribution being normal:  7.5995053448193976e-34\n",
      "max z-score of sqaure root transformation distribution:  1.9419429364995904\n",
      "min z-score of sqaure root transformation distribution:  -3.509374566940577\n",
      "\n",
      "Probability of log transformation distribution being normal:  7.269540112014837e-69\n",
      "max z-score of log transformation distribution:  1.8209385915625165\n",
      "min z-score of log transformation distribution:  -3.9720804273074215\n",
      "\n",
      "Probability of inverse transformation distribution being normal:  2.080630685506444e-263\n",
      "max z-score of inverse transformation distribution:  5.118145369454497\n",
      "min z-score of inverse transformation distribution:  -1.584078279122033\n",
      "\n",
      "Probability of Box Cox transformation distribution being normal:  2.447974547204177e-31\n",
      "max z-score of Box Cox transformation distribution:  2.0953899162677017\n",
      "min z-score of Box Cox transformation distribution:  -3.015685610677672\n",
      "\n",
      "Age\n",
      "\n",
      "Probability of distribution being normal:  0.0\n",
      "max z-score of distribution as is:  5.0611969579618314\n",
      "min z-score of distribution as is:  -1.9949687539344934\n",
      "\n",
      "Probability of square root transformation distribution being normal:  6.278974779251495e-127\n",
      "max z-score of sqaure root transformation distribution:  4.192577482657379\n",
      "min z-score of sqaure root transformation distribution:  -2.3916445051008424\n",
      "\n",
      "Probability of log transformation distribution being normal:  2.1200369768819894e-14\n",
      "max z-score of log transformation distribution:  3.4605614486506227\n",
      "min z-score of log transformation distribution:  -2.853308751427244\n",
      "\n",
      "Probability of inverse transformation distribution being normal:  7.841149283390654e-164\n",
      "max z-score of inverse transformation distribution:  3.9741782467947977\n",
      "min z-score of inverse transformation distribution:  -2.3485347416833657\n",
      "\n",
      "Probability of Box Cox transformation distribution being normal:  0.030049980528883267\n",
      "max z-score of Box Cox transformation distribution:  3.1729926907896484\n",
      "min z-score of Box Cox transformation distribution:  -3.0818912544827355\n",
      "\n",
      "Tenure\n",
      "\n",
      "Probability of distribution being normal:  0.0\n",
      "max z-score of distribution as is:  1.7244635794717436\n",
      "min z-score of distribution as is:  -1.7333154938995745\n",
      "\n",
      "Probability of square root transformation distribution being normal:  1.629799265652436e-176\n",
      "max z-score of sqaure root transformation distribution:  1.3663954199284452\n",
      "min z-score of sqaure root transformation distribution:  -2.6992072776022638\n",
      "\n",
      "Balance\n",
      "\n",
      "Probability of distribution being normal:  0.0\n",
      "max z-score of distribution as is:  2.7953233217054723\n",
      "min z-score of distribution as is:  -1.2258476714090278\n",
      "\n",
      "Probability of square root transformation distribution being normal:  0.0\n",
      "max z-score of sqaure root transformation distribution:  1.6696420468376285\n",
      "min z-score of sqaure root transformation distribution:  -1.2979560727610686\n",
      "\n",
      "NumOfProducts\n",
      "\n",
      "Probability of distribution being normal:  1.3145182051633007e-181\n",
      "max z-score of distribution as is:  4.246376675934418\n",
      "min z-score of distribution as is:  -0.9115834940401767\n",
      "\n",
      "Probability of square root transformation distribution being normal:  1.3928533105870551e-275\n",
      "max z-score of sqaure root transformation distribution:  3.4226036022573756\n",
      "min z-score of sqaure root transformation distribution:  -0.940716980241183\n",
      "\n",
      "Probability of log transformation distribution being normal:  0.0\n",
      "max z-score of log transformation distribution:  2.7778601970889834\n",
      "min z-score of log transformation distribution:  -0.9587358075861229\n",
      "\n",
      "Probability of inverse transformation distribution being normal:  0.0\n",
      "max z-score of inverse transformation distribution:  0.9756112918077257\n",
      "min z-score of inverse transformation distribution:  -1.9310695961257787\n",
      "\n",
      "Probability of Box Cox transformation distribution being normal:  0.0\n",
      "max z-score of Box Cox transformation distribution:  2.21406861863213\n",
      "min z-score of Box Cox transformation distribution:  -0.9708794093442973\n",
      "\n",
      "EstimatedSalary\n",
      "\n",
      "Probability of distribution being normal:  0.0\n",
      "max z-score of distribution as is:  1.7372001301113063\n",
      "min z-score of distribution as is:  -1.7402678934881386\n",
      "\n",
      "Probability of square root transformation distribution being normal:  5.096573167745394e-161\n",
      "max z-score of sqaure root transformation distribution:  1.4163312433695525\n",
      "min z-score of sqaure root transformation distribution:  -2.8083758040015754\n",
      "\n",
      "Probability of log transformation distribution being normal:  0.0\n",
      "max z-score of log transformation distribution:  0.9973292070823789\n",
      "min z-score of log transformation distribution:  -8.755805679472786\n",
      "\n",
      "Probability of inverse transformation distribution being normal:  0.0\n",
      "max z-score of inverse transformation distribution:  94.66628953514035\n",
      "min z-score of inverse transformation distribution:  -0.05027451799558739\n",
      "\n",
      "Probability of Box Cox transformation distribution being normal:  0.0\n",
      "max z-score of Box Cox transformation distribution:  1.5608067818934446\n",
      "min z-score of Box Cox transformation distribution:  -2.193866487716706\n",
      "\n"
     ]
    }
   ],
   "source": [
    "from scipy.stats import zscore\n",
    "from scipy.stats import normaltest\n",
    "from scipy.stats import boxcox\n",
    "\n",
    "for col_name in var_type_series[var_type_series == 'continuous'].index.values:\n",
    "    series = df3[col_name]\n",
    "    \n",
    "    print(col_name + '\\n')\n",
    "    \n",
    "    norm_test = normaltest(series)\n",
    "    print('Probability of distribution being normal:  ' + str(norm_test[1]))\n",
    "    zscore_calc = zscore(series)\n",
    "    print('max z-score of distribution as is:  ' + str(zscore_calc.max()))\n",
    "    print('min z-score of distribution as is:  ' + str(zscore_calc.min()) + '\\n')\n",
    "    \n",
    "    sqr_trans = series ** 0.5\n",
    "    norm_test = normaltest(sqr_trans)\n",
    "    print('Probability of square root transformation distribution being normal:  ' + str(norm_test[1]))\n",
    "    zscore_calc = zscore(sqr_trans)\n",
    "    print('max z-score of sqaure root transformation distribution:  ' + str(zscore_calc.max()))\n",
    "    print('min z-score of sqaure root transformation distribution:  ' + str(zscore_calc.min()) + '\\n')\n",
    "    \n",
    "    if (series.min() > 0):\n",
    "    \n",
    "        log_trans = np.log(series)\n",
    "        norm_test = normaltest(log_trans)\n",
    "        print('Probability of log transformation distribution being normal:  ' + str(norm_test[1]))\n",
    "        zscore_calc = zscore(log_trans)\n",
    "        print('max z-score of log transformation distribution:  ' + str(zscore_calc.max()))\n",
    "        print('min z-score of log transformation distribution:  ' + str(zscore_calc.min()) + '\\n')\n",
    "    \n",
    "        inv_trans = 1/series\n",
    "        norm_test = normaltest(inv_trans)\n",
    "        print('Probability of inverse transformation distribution being normal:  ' + str(norm_test[1]))\n",
    "        zscore_calc = zscore(inv_trans)\n",
    "        print('max z-score of inverse transformation distribution:  ' + str(zscore_calc.max()))\n",
    "        print('min z-score of inverse transformation distribution:  ' + str(zscore_calc.min()) + '\\n')\n",
    "    \n",
    "        BC_trans = boxcox(series)[0]\n",
    "        norm_test = normaltest(BC_trans)\n",
    "        print('Probability of Box Cox transformation distribution being normal:  ' + str(norm_test[1]))\n",
    "        zscore_calc = zscore(BC_trans)\n",
    "        print('max z-score of Box Cox transformation distribution:  ' + str(zscore_calc.max()))\n",
    "        print('min z-score of Box Cox transformation distribution:  ' + str(zscore_calc.min()) + '\\n')"
   ]
  },
  {
   "cell_type": "markdown",
   "metadata": {
    "slideshow": {
     "slide_type": "fragment"
    }
   },
   "source": [
    "None of the continuous variables or transformations of them can be demonstrated to be normally distributed.  However, the transformation of the 'Age' (inverse) allows mitigation of the effects of more extreme values.  This transformation will be retained for potential use wherein the feature is not further used in engineered features.  In the event of potential use of the feature in engineered features, the original form of the variable is retained in the data set."
   ]
  },
  {
   "cell_type": "code",
   "execution_count": 16,
   "metadata": {
    "slideshow": {
     "slide_type": "subslide"
    }
   },
   "outputs": [
    {
     "data": {
      "text/html": [
       "<div>\n",
       "<style scoped>\n",
       "    .dataframe tbody tr th:only-of-type {\n",
       "        vertical-align: middle;\n",
       "    }\n",
       "\n",
       "    .dataframe tbody tr th {\n",
       "        vertical-align: top;\n",
       "    }\n",
       "\n",
       "    .dataframe thead th {\n",
       "        text-align: right;\n",
       "    }\n",
       "</style>\n",
       "<table border=\"1\" class=\"dataframe\">\n",
       "  <thead>\n",
       "    <tr style=\"text-align: right;\">\n",
       "      <th></th>\n",
       "      <th>CreditScore</th>\n",
       "      <th>Geography</th>\n",
       "      <th>IsMale</th>\n",
       "      <th>Age</th>\n",
       "      <th>Tenure</th>\n",
       "      <th>Balance</th>\n",
       "      <th>NumOfProducts</th>\n",
       "      <th>HasCrCard</th>\n",
       "      <th>IsActiveMember</th>\n",
       "      <th>EstimatedSalary</th>\n",
       "      <th>Exited</th>\n",
       "      <th>Age_Inv</th>\n",
       "    </tr>\n",
       "  </thead>\n",
       "  <tbody>\n",
       "    <tr>\n",
       "      <th>0</th>\n",
       "      <td>619</td>\n",
       "      <td>France</td>\n",
       "      <td>0</td>\n",
       "      <td>42</td>\n",
       "      <td>2</td>\n",
       "      <td>0.00</td>\n",
       "      <td>1</td>\n",
       "      <td>1</td>\n",
       "      <td>1</td>\n",
       "      <td>101348.88</td>\n",
       "      <td>1</td>\n",
       "      <td>0.023810</td>\n",
       "    </tr>\n",
       "    <tr>\n",
       "      <th>1</th>\n",
       "      <td>608</td>\n",
       "      <td>Spain</td>\n",
       "      <td>0</td>\n",
       "      <td>41</td>\n",
       "      <td>1</td>\n",
       "      <td>83807.86</td>\n",
       "      <td>1</td>\n",
       "      <td>0</td>\n",
       "      <td>1</td>\n",
       "      <td>112542.58</td>\n",
       "      <td>0</td>\n",
       "      <td>0.024390</td>\n",
       "    </tr>\n",
       "    <tr>\n",
       "      <th>2</th>\n",
       "      <td>502</td>\n",
       "      <td>France</td>\n",
       "      <td>0</td>\n",
       "      <td>42</td>\n",
       "      <td>8</td>\n",
       "      <td>159660.80</td>\n",
       "      <td>3</td>\n",
       "      <td>1</td>\n",
       "      <td>0</td>\n",
       "      <td>113931.57</td>\n",
       "      <td>1</td>\n",
       "      <td>0.023810</td>\n",
       "    </tr>\n",
       "    <tr>\n",
       "      <th>3</th>\n",
       "      <td>699</td>\n",
       "      <td>France</td>\n",
       "      <td>0</td>\n",
       "      <td>39</td>\n",
       "      <td>1</td>\n",
       "      <td>0.00</td>\n",
       "      <td>2</td>\n",
       "      <td>0</td>\n",
       "      <td>0</td>\n",
       "      <td>93826.63</td>\n",
       "      <td>0</td>\n",
       "      <td>0.025641</td>\n",
       "    </tr>\n",
       "    <tr>\n",
       "      <th>4</th>\n",
       "      <td>850</td>\n",
       "      <td>Spain</td>\n",
       "      <td>0</td>\n",
       "      <td>43</td>\n",
       "      <td>2</td>\n",
       "      <td>125510.82</td>\n",
       "      <td>1</td>\n",
       "      <td>1</td>\n",
       "      <td>1</td>\n",
       "      <td>79084.10</td>\n",
       "      <td>0</td>\n",
       "      <td>0.023256</td>\n",
       "    </tr>\n",
       "  </tbody>\n",
       "</table>\n",
       "</div>"
      ],
      "text/plain": [
       "   CreditScore Geography  IsMale  Age  Tenure    Balance  NumOfProducts  \\\n",
       "0          619    France       0   42       2       0.00              1   \n",
       "1          608     Spain       0   41       1   83807.86              1   \n",
       "2          502    France       0   42       8  159660.80              3   \n",
       "3          699    France       0   39       1       0.00              2   \n",
       "4          850     Spain       0   43       2  125510.82              1   \n",
       "\n",
       "   HasCrCard  IsActiveMember  EstimatedSalary  Exited   Age_Inv  \n",
       "0          1               1        101348.88       1  0.023810  \n",
       "1          0               1        112542.58       0  0.024390  \n",
       "2          1               0        113931.57       1  0.023810  \n",
       "3          0               0         93826.63       0  0.025641  \n",
       "4          1               1         79084.10       0  0.023256  "
      ]
     },
     "execution_count": 16,
     "metadata": {},
     "output_type": "execute_result"
    }
   ],
   "source": [
    "df4 = df3.copy()\n",
    "df4['Age_Inv'] = 1/(df4['Age'])\n",
    "\n",
    "df4.head()"
   ]
  },
  {
   "cell_type": "code",
   "execution_count": 17,
   "metadata": {
    "slideshow": {
     "slide_type": "subslide"
    }
   },
   "outputs": [
    {
     "data": {
      "text/plain": [
       "CreditScore         continuous\n",
       "Geography          categorical\n",
       "IsMale             categorical\n",
       "Age                 continuous\n",
       "Tenure              continuous\n",
       "Balance             continuous\n",
       "NumOfProducts       continuous\n",
       "HasCrCard          categorical\n",
       "IsActiveMember     categorical\n",
       "EstimatedSalary     continuous\n",
       "Exited             categorical\n",
       "Age_Inv             continuous\n",
       "dtype: object"
      ]
     },
     "execution_count": 17,
     "metadata": {},
     "output_type": "execute_result"
    }
   ],
   "source": [
    "col_names = list(df4.columns)\n",
    "var_type_series = pd.Series(index=col_names, data=col_names)\n",
    "cat_var_list = ['Geography', 'IsMale', 'HasCrCard', 'IsActiveMember', 'Exited']\n",
    "for col_name in col_names:\n",
    "    if col_name in cat_var_list:\n",
    "        var_type_series.loc[col_name] = 'categorical'\n",
    "    else:\n",
    "        var_type_series.loc[col_name] = 'continuous'\n",
    "var_type_series"
   ]
  },
  {
   "cell_type": "markdown",
   "metadata": {
    "slideshow": {
     "slide_type": "slide"
    }
   },
   "source": [
    "## Analyzing relationships to the target variable"
   ]
  },
  {
   "cell_type": "code",
   "execution_count": 18,
   "metadata": {
    "slideshow": {
     "slide_type": "subslide"
    }
   },
   "outputs": [
    {
     "data": {
      "image/png": "[encoded data removed]",
      "text/plain": [
       "<Figure size 432x288 with 1 Axes>"
      ]
     },
     "metadata": {
      "needs_background": "light"
     },
     "output_type": "display_data"
    }
   ],
   "source": [
    "df4_groupby_CS = df4.groupby(['Exited'])['CreditScore'].mean()\n",
    "plt.bar(['0', '1'], df4_groupby_CS), plt.xlabel('Exited'), plt.ylabel('Average Credit Score')\n",
    "plt.show()"
   ]
  },
  {
   "cell_type": "code",
   "execution_count": 19,
   "metadata": {
    "slideshow": {
     "slide_type": "subslide"
    }
   },
   "outputs": [
    {
     "name": "stdout",
     "output_type": "stream",
     "text": [
      "t-test:\n",
      "The credit score is shown to have a statistically significant effect on whether the customer exited.\n"
     ]
    }
   ],
   "source": [
    "from scipy.stats import ttest_ind\n",
    "print('t-test:')\n",
    "results_ttest = ttest_ind(df4[df4['Exited'] == 1]['CreditScore'], df4[df4['Exited'] == 0]['CreditScore'])\n",
    "if (results_ttest[1] < 0.05):\n",
    "    print('The credit score is shown to have a statistically significant effect on whether the customer exited.')\n",
    "else:\n",
    "    print('The credit score is not shown to have a statistically significant effect on whether the customer exited.')"
   ]
  },
  {
   "cell_type": "code",
   "execution_count": 20,
   "metadata": {
    "slideshow": {
     "slide_type": "subslide"
    }
   },
   "outputs": [
    {
     "data": {
      "image/png": "[encoded data removed]",
      "text/plain": [
       "<Figure size 432x288 with 1 Axes>"
      ]
     },
     "metadata": {
      "needs_background": "light"
     },
     "output_type": "display_data"
    }
   ],
   "source": [
    "df4_groupby_geo = df4.groupby(['Geography'])['Exited'].mean()\n",
    "plt.bar(df4_groupby_geo.index, df4_groupby_geo*100), plt.xlabel('Country'), plt.ylabel('Percentage Exited')\n",
    "plt.show()"
   ]
  },
  {
   "cell_type": "code",
   "execution_count": 21,
   "metadata": {
    "slideshow": {
     "slide_type": "subslide"
    }
   },
   "outputs": [
    {
     "name": "stdout",
     "output_type": "stream",
     "text": [
      "t-test:\n",
      "There is a statistically significant difference between whether people from France and Germany close their accounts.\n",
      "There is a not statistically significant difference between whether people from France and Spain close their accounts.\n",
      "There is a statistically significant difference between whether people from Germany and Spain close their accounts.\n"
     ]
    }
   ],
   "source": [
    "print('t-test:')\n",
    "geo_list = df4_groupby_geo.index.values\n",
    "for i in range(0,len(geo_list) - 1):\n",
    "    for j in range(i+1, len(geo_list)):\n",
    "        results_ttest = ttest_ind(df4[df4['Geography'] == geo_list[i]]['Exited'], df4[df4['Geography'] == geo_list[j]]['Exited'])\n",
    "        if (results_ttest[1] < 0.05):\n",
    "            print('There is a statistically significant difference between whether people from ' + geo_list[i] + ' and ' + \n",
    "                 geo_list[j] + ' close their accounts.')\n",
    "        else:\n",
    "            print('There is a not statistically significant difference between whether people from ' + geo_list[i] + ' and ' + \n",
    "                 geo_list[j] + ' close their accounts.')"
   ]
  },
  {
   "cell_type": "code",
   "execution_count": 22,
   "metadata": {
    "slideshow": {
     "slide_type": "subslide"
    }
   },
   "outputs": [
    {
     "data": {
      "image/png": "[encoded data removed]",
      "text/plain": [
       "<Figure size 432x288 with 1 Axes>"
      ]
     },
     "metadata": {
      "needs_background": "light"
     },
     "output_type": "display_data"
    }
   ],
   "source": [
    "df4_groupby_male = df4.groupby(['IsMale'])['Exited'].mean()\n",
    "plt.bar(['0', '1'], df4_groupby_male*100), plt.xlabel('Is Male'), plt.ylabel('Percentage Exited')\n",
    "plt.show()"
   ]
  },
  {
   "cell_type": "code",
   "execution_count": 23,
   "metadata": {
    "slideshow": {
     "slide_type": "subslide"
    }
   },
   "outputs": [
    {
     "name": "stdout",
     "output_type": "stream",
     "text": [
      "t-test:\n",
      "The gender is shown to have a statistically significant effect on whether the customer exited.\n",
      "Chi-squared test:\n",
      "The gender is shown to have a statistically significant effect on whether the customer exited.\n"
     ]
    }
   ],
   "source": [
    "print('t-test:')\n",
    "results_ttest = ttest_ind(df4[df4['IsMale'] == 1]['Exited'], df4[df4['IsMale'] == 0]['Exited'])\n",
    "if (results_ttest[1] < 0.05):\n",
    "    print('The gender is shown to have a statistically significant effect on whether the customer exited.')\n",
    "else:\n",
    "    print('The gender is not shown to have a statistically significant effect on whether the customer exited.')  \n",
    "print('Chi-squared test:')\n",
    "from scipy.stats import chi2_contingency\n",
    "results_chi2 = chi2_contingency(pd.crosstab(df4['IsMale'], df4['Exited']))\n",
    "if (results_chi2[1] < 0.05):\n",
    "    print('The gender is shown to have a statistically significant effect on whether the customer exited.')\n",
    "else:\n",
    "    print('The gender is not shown to have a statistically significant effect on whether the customer exited.')"
   ]
  },
  {
   "cell_type": "code",
   "execution_count": 24,
   "metadata": {
    "slideshow": {
     "slide_type": "subslide"
    }
   },
   "outputs": [
    {
     "data": {
      "image/png": "[encoded data removed]",
      "text/plain": [
       "<Figure size 432x288 with 1 Axes>"
      ]
     },
     "metadata": {
      "needs_background": "light"
     },
     "output_type": "display_data"
    }
   ],
   "source": [
    "df4_groupby_age = df4.groupby(['Exited'])['Age'].mean()\n",
    "plt.bar(['0', '1'], df4_groupby_age), plt.xlabel('Exited'), plt.ylabel('Average Age')\n",
    "plt.show()"
   ]
  },
  {
   "cell_type": "code",
   "execution_count": 25,
   "metadata": {
    "slideshow": {
     "slide_type": "subslide"
    }
   },
   "outputs": [
    {
     "name": "stdout",
     "output_type": "stream",
     "text": [
      "t-test:\n",
      "The age is shown to have a statistically significant effect on whether the customer exited.\n"
     ]
    }
   ],
   "source": [
    "print('t-test:')\n",
    "results_ttest = ttest_ind(df4[df4['Exited'] == 1]['Age'], df4[df4['Exited'] == 0]['Age'])\n",
    "if (results_ttest[1] < 0.05):\n",
    "    print('The age is shown to have a statistically significant effect on whether the customer exited.')\n",
    "else:\n",
    "    print('The age is not shown to have a statistically significant effect on whether the customer exited.')"
   ]
  },
  {
   "cell_type": "code",
   "execution_count": 26,
   "metadata": {
    "slideshow": {
     "slide_type": "subslide"
    }
   },
   "outputs": [
    {
     "data": {
      "image/png": "[encoded data removed]",
      "text/plain": [
       "<Figure size 432x288 with 1 Axes>"
      ]
     },
     "metadata": {
      "needs_background": "light"
     },
     "output_type": "display_data"
    }
   ],
   "source": [
    "df4_groupby_tenure = df4.groupby(['Exited'])['Tenure'].mean()\n",
    "plt.bar(['0', '1'], df4_groupby_tenure), plt.xlabel('Exited'), plt.ylabel('Average Tenure')\n",
    "plt.show()"
   ]
  },
  {
   "cell_type": "code",
   "execution_count": 27,
   "metadata": {
    "slideshow": {
     "slide_type": "subslide"
    }
   },
   "outputs": [
    {
     "name": "stdout",
     "output_type": "stream",
     "text": [
      "t-test:\n",
      "The tenure is not shown to have a statistically significant effect on whether the customer exited.\n"
     ]
    }
   ],
   "source": [
    "print('t-test:')\n",
    "results_ttest = ttest_ind(df4[df4['Exited'] == 1]['Tenure'], df4[df4['Exited'] == 0]['Tenure'])\n",
    "if (results_ttest[1] < 0.05):\n",
    "    print('The tenure is shown to have a statistically significant effect on whether the customer exited.')\n",
    "else:\n",
    "    print('The tenure is not shown to have a statistically significant effect on whether the customer exited.')"
   ]
  },
  {
   "cell_type": "code",
   "execution_count": 28,
   "metadata": {
    "slideshow": {
     "slide_type": "subslide"
    }
   },
   "outputs": [
    {
     "data": {
      "image/png": "[encoded data removed]",
      "text/plain": [
       "<Figure size 432x288 with 1 Axes>"
      ]
     },
     "metadata": {
      "needs_background": "light"
     },
     "output_type": "display_data"
    }
   ],
   "source": [
    "df4_groupby_balance = df4.groupby(['Exited'])['Balance'].mean()\n",
    "plt.bar(['0', '1'], df4_groupby_balance), plt.xlabel('Exited'), plt.ylabel('Average Balance')\n",
    "plt.show()"
   ]
  },
  {
   "cell_type": "code",
   "execution_count": 29,
   "metadata": {
    "slideshow": {
     "slide_type": "subslide"
    }
   },
   "outputs": [
    {
     "name": "stdout",
     "output_type": "stream",
     "text": [
      "t-test:\n",
      "The balance is shown to have a statistically significant effect on whether the customer exited.\n"
     ]
    }
   ],
   "source": [
    "print('t-test:')\n",
    "results_ttest = ttest_ind(df4[df4['Exited'] == 1]['Balance'], df4[df4['Exited'] == 0]['Balance'])\n",
    "if (results_ttest[1] < 0.05):\n",
    "    print('The balance is shown to have a statistically significant effect on whether the customer exited.')\n",
    "else:\n",
    "    print('The balance is not shown to have a statistically significant effect on whether the customer exited.')"
   ]
  },
  {
   "cell_type": "code",
   "execution_count": 30,
   "metadata": {
    "slideshow": {
     "slide_type": "subslide"
    }
   },
   "outputs": [
    {
     "data": {
      "image/png": "[encoded data removed]",
      "text/plain": [
       "<Figure size 432x288 with 1 Axes>"
      ]
     },
     "metadata": {
      "needs_background": "light"
     },
     "output_type": "display_data"
    }
   ],
   "source": [
    "df4_groupby_numprod = df4.groupby(['Exited'])['NumOfProducts'].mean()\n",
    "plt.bar(['0', '1'], df4_groupby_numprod), plt.xlabel('Exited'), plt.ylabel('Average Number of Products')\n",
    "plt.show()"
   ]
  },
  {
   "cell_type": "code",
   "execution_count": 31,
   "metadata": {
    "slideshow": {
     "slide_type": "subslide"
    }
   },
   "outputs": [
    {
     "name": "stdout",
     "output_type": "stream",
     "text": [
      "t-test:\n",
      "The number of products is shown to have a statistically significant effect on whether the customer exited.\n"
     ]
    }
   ],
   "source": [
    "results_ttest = ttest_ind(df4[df4['Exited'] == 1]['NumOfProducts'], df4[df4['Exited'] == 0]['NumOfProducts'])\n",
    "print('t-test:')\n",
    "if (results_ttest[1] < 0.05):\n",
    "    print('The number of products is shown to have a statistically significant effect on whether the customer exited.')\n",
    "else:\n",
    "    print('The number of products is not shown to have a statistically significant effect on whether the customer exited.')"
   ]
  },
  {
   "cell_type": "code",
   "execution_count": 32,
   "metadata": {
    "slideshow": {
     "slide_type": "subslide"
    }
   },
   "outputs": [
    {
     "data": {
      "image/png": "[encoded data removed]",
      "text/plain": [
       "<Figure size 432x288 with 1 Axes>"
      ]
     },
     "metadata": {
      "needs_background": "light"
     },
     "output_type": "display_data"
    }
   ],
   "source": [
    "df4_groupby_numprod_cat = df4.groupby(['NumOfProducts'])['Exited'].mean()\n",
    "plt.bar(['1', '2', '3', '4'], df4_groupby_numprod_cat*100), plt.xlabel('Number of Products'), plt.ylabel('Percentage Exited')\n",
    "plt.show()"
   ]
  },
  {
   "cell_type": "code",
   "execution_count": 33,
   "metadata": {
    "slideshow": {
     "slide_type": "subslide"
    }
   },
   "outputs": [
    {
     "name": "stdout",
     "output_type": "stream",
     "text": [
      "t-test:\n",
      "There is a statistically significant difference between whether people with 1 and 2 products close their accounts.\n",
      "There is a statistically significant difference between whether people with 1 and 3 products close their accounts.\n",
      "There is a statistically significant difference between whether people with 1 and 4 products close their accounts.\n",
      "There is a statistically significant difference between whether people with 2 and 3 products close their accounts.\n",
      "There is a statistically significant difference between whether people with 2 and 4 products close their accounts.\n",
      "There is a statistically significant difference between whether people with 3 and 4 products close their accounts.\n"
     ]
    }
   ],
   "source": [
    "print('t-test:')\n",
    "numprod_list = df4_groupby_numprod_cat.index.values\n",
    "for i in range(0,len(numprod_list) - 1):\n",
    "    for j in range(i+1, len(numprod_list)):\n",
    "        results_ttest = ttest_ind(df4[df4['NumOfProducts'] == numprod_list[i]]['Exited'], \n",
    "                                  df4[df4['NumOfProducts'] == numprod_list[j]]['Exited'])\n",
    "        if (results_ttest[1] < 0.05):\n",
    "            print('There is a statistically significant difference between whether people with ' + str(numprod_list[i]) + ' and ' + \n",
    "                 str(numprod_list[j]) + ' products close their accounts.')\n",
    "        else:\n",
    "            print('There is a not statistically significant difference between whether people with ' + str(numprod_list[i]) \n",
    "                  + ' and ' + str(numprod_list[j]) + ' products close their accounts.')"
   ]
  },
  {
   "cell_type": "code",
   "execution_count": 34,
   "metadata": {
    "slideshow": {
     "slide_type": "subslide"
    }
   },
   "outputs": [
    {
     "data": {
      "image/png": "[encoded data removed]",
      "text/plain": [
       "<Figure size 432x288 with 1 Axes>"
      ]
     },
     "metadata": {
      "needs_background": "light"
     },
     "output_type": "display_data"
    }
   ],
   "source": [
    "df4_groupby_CC = df4.groupby(['HasCrCard'])['Exited'].mean()\n",
    "plt.bar(['0', '1'], df4_groupby_CC*100), plt.xlabel('Has Credit Card'), plt.ylabel('Percentage Exited')\n",
    "plt.show()"
   ]
  },
  {
   "cell_type": "code",
   "execution_count": 35,
   "metadata": {
    "slideshow": {
     "slide_type": "subslide"
    }
   },
   "outputs": [
    {
     "name": "stdout",
     "output_type": "stream",
     "text": [
      "t-test:\n",
      "Having a credit card with the bank is not shown to have a statistically significant effect on whether the customer exited.\n",
      "Chi-squared test:\n",
      "Having a credit card with bank is not shown to have a statistically significant effect on whether the customer exited.\n"
     ]
    }
   ],
   "source": [
    "print('t-test:')\n",
    "results_ttest = ttest_ind(df4[df4['HasCrCard'] == 1]['Exited'], df4[df4['HasCrCard'] == 0]['Exited'])\n",
    "if (results_ttest[1] < 0.05):\n",
    "    print('Having a credit card with the bank is shown to have a statistically significant' + \n",
    "          ' effect on whether the customer exited.')\n",
    "else:\n",
    "    print('Having a credit card with the bank is not shown to have a statistically significant' + \n",
    "          ' effect on whether the customer exited.')\n",
    "print('Chi-squared test:')\n",
    "results_chi2 = chi2_contingency(pd.crosstab(df4['HasCrCard'], df4['Exited']))\n",
    "if (results_chi2[1] < 0.05):\n",
    "    print('Having a credit card with bank is shown to have a statistically significant effect on whether the customer exited.')\n",
    "else:\n",
    "    print('Having a credit card with bank is not shown to have a statistically significant effect on whether the customer exited.')"
   ]
  },
  {
   "cell_type": "code",
   "execution_count": 36,
   "metadata": {
    "slideshow": {
     "slide_type": "subslide"
    }
   },
   "outputs": [
    {
     "data": {
      "image/png": "[encoded data removed]",
      "text/plain": [
       "<Figure size 432x288 with 1 Axes>"
      ]
     },
     "metadata": {
      "needs_background": "light"
     },
     "output_type": "display_data"
    }
   ],
   "source": [
    "df4_groupby_active = df4.groupby(['IsActiveMember'])['Exited'].mean()\n",
    "plt.bar(['0', '1'], df4_groupby_active*100), plt.xlabel('Is an Active Member'), plt.ylabel('Percentage Exited')\n",
    "plt.show()"
   ]
  },
  {
   "cell_type": "code",
   "execution_count": 37,
   "metadata": {
    "slideshow": {
     "slide_type": "subslide"
    }
   },
   "outputs": [
    {
     "name": "stdout",
     "output_type": "stream",
     "text": [
      "t-test:\n",
      "Being an active member is shown to have a statistically significant effect on whether the customer exited.\n",
      "Chi-squared test:\n",
      "Being an active member is shown to have a statistically significant effect on whether the customer exited.\n"
     ]
    }
   ],
   "source": [
    "print('t-test:')\n",
    "results_ttest = ttest_ind(df4[df4['IsActiveMember'] == 1]['Exited'], df4[df4['IsActiveMember'] == 0]['Exited'])\n",
    "if (results_ttest[1] < 0.05):\n",
    "    print('Being an active member is shown to have a statistically significant' + \n",
    "          ' effect on whether the customer exited.')\n",
    "else:\n",
    "    print('Being an active member is not shown to have a statistically significant' + \n",
    "          ' effect on whether the customer exited.') \n",
    "print('Chi-squared test:')\n",
    "results_chi2 = chi2_contingency(pd.crosstab(df4['IsActiveMember'], df4['Exited']))\n",
    "if (results_chi2[1] < 0.05):\n",
    "    print('Being an active member is shown to have a statistically significant effect on whether the customer exited.')\n",
    "else:\n",
    "    print('Being an active member is not shown to have a statistically significant effect on whether the customer exited.')"
   ]
  },
  {
   "cell_type": "code",
   "execution_count": 38,
   "metadata": {
    "slideshow": {
     "slide_type": "subslide"
    }
   },
   "outputs": [
    {
     "data": {
      "image/png": "[encoded data removed]",
      "text/plain": [
       "<Figure size 432x288 with 1 Axes>"
      ]
     },
     "metadata": {
      "needs_background": "light"
     },
     "output_type": "display_data"
    }
   ],
   "source": [
    "df4_groupby_salary = df4.groupby(['Exited'])['EstimatedSalary'].mean()\n",
    "plt.bar(['0', '1'], df4_groupby_salary), plt.xlabel('Exited'), plt.ylabel('Average Estimated Salary')\n",
    "plt.show()"
   ]
  },
  {
   "cell_type": "code",
   "execution_count": 39,
   "metadata": {
    "slideshow": {
     "slide_type": "subslide"
    }
   },
   "outputs": [
    {
     "name": "stdout",
     "output_type": "stream",
     "text": [
      "t-test:\n",
      "The estimated salary is not shown to have a statistically significant effect on whether the customer exited.\n"
     ]
    }
   ],
   "source": [
    "print('t-test:')\n",
    "results_ttest = ttest_ind(df4[df4['Exited'] == 1]['EstimatedSalary'], df4[df4['Exited'] == 0]['EstimatedSalary'])\n",
    "if (results_ttest[1] < 0.05):\n",
    "    print('The estimated salary is shown to have a statistically significant effect on whether the customer exited.')\n",
    "else:\n",
    "    print('The estimated salary is not shown to have a statistically significant effect on whether the customer exited.')"
   ]
  },
  {
   "cell_type": "code",
   "execution_count": 40,
   "metadata": {
    "slideshow": {
     "slide_type": "subslide"
    }
   },
   "outputs": [
    {
     "data": {
      "image/png": "[encoded data removed]",
      "text/plain": [
       "<Figure size 432x288 with 1 Axes>"
      ]
     },
     "metadata": {
      "needs_background": "light"
     },
     "output_type": "display_data"
    }
   ],
   "source": [
    "df4_groupby_invage = df4.groupby(['Exited'])['Age_Inv'].mean()\n",
    "plt.bar(['0', '1'], df4_groupby_invage), plt.xlabel('Exited'), plt.ylabel('Average Inverse Age')\n",
    "plt.show()"
   ]
  },
  {
   "cell_type": "code",
   "execution_count": 41,
   "metadata": {
    "slideshow": {
     "slide_type": "subslide"
    }
   },
   "outputs": [
    {
     "name": "stdout",
     "output_type": "stream",
     "text": [
      "t-test:\n",
      "The inverse age is shown to have a statistically significant effect on whether the customer exited.\n"
     ]
    }
   ],
   "source": [
    "print('t-test:')\n",
    "results_ttest = ttest_ind(df4[df4['Exited'] == 1]['Age_Inv'], df4[df4['Exited'] == 0]['Age_Inv'])\n",
    "if (results_ttest[1] < 0.05):\n",
    "    print('The inverse age is shown to have a statistically significant effect on whether the customer exited.')\n",
    "else:\n",
    "    print('The inverse age is not shown to have a statistically significant effect on whether the customer exited.')"
   ]
  },
  {
   "cell_type": "markdown",
   "metadata": {
    "slideshow": {
     "slide_type": "slide"
    }
   },
   "source": [
    "## Examining potential interaction of 'Balance' and 'EstimatedSalary'"
   ]
  },
  {
   "cell_type": "code",
   "execution_count": 42,
   "metadata": {
    "slideshow": {
     "slide_type": "fragment"
    }
   },
   "outputs": [
    {
     "name": "stdout",
     "output_type": "stream",
     "text": [
      "The number of accounts with balances of 0 is 3617.\n",
      "The number of accounts with estimated salaries of 0 is 0.\n"
     ]
    }
   ],
   "source": [
    "print('The number of accounts with balances of 0 is ' + str(df4[df4['Balance'] == 0].shape[0]) + '.')\n",
    "print('The number of accounts with estimated salaries of 0 is ' + str(df4[df4['EstimatedSalary'] == 0].shape[0]) + '.')"
   ]
  },
  {
   "cell_type": "markdown",
   "metadata": {
    "slideshow": {
     "slide_type": "fragment"
    }
   },
   "source": [
    "Since there are no accounts that have estimated salaries of 0, 'EstimatedSalary' is used as the numerator in the potential interaction variable for 'EstimatedSalary' and 'Balance'."
   ]
  },
  {
   "cell_type": "code",
   "execution_count": 43,
   "metadata": {
    "slideshow": {
     "slide_type": "fragment"
    }
   },
   "outputs": [
    {
     "data": {
      "text/html": [
       "<div>\n",
       "<style scoped>\n",
       "    .dataframe tbody tr th:only-of-type {\n",
       "        vertical-align: middle;\n",
       "    }\n",
       "\n",
       "    .dataframe tbody tr th {\n",
       "        vertical-align: top;\n",
       "    }\n",
       "\n",
       "    .dataframe thead th {\n",
       "        text-align: right;\n",
       "    }\n",
       "</style>\n",
       "<table border=\"1\" class=\"dataframe\">\n",
       "  <thead>\n",
       "    <tr style=\"text-align: right;\">\n",
       "      <th></th>\n",
       "      <th>CreditScore</th>\n",
       "      <th>Geography</th>\n",
       "      <th>IsMale</th>\n",
       "      <th>Age</th>\n",
       "      <th>Tenure</th>\n",
       "      <th>Balance</th>\n",
       "      <th>NumOfProducts</th>\n",
       "      <th>HasCrCard</th>\n",
       "      <th>IsActiveMember</th>\n",
       "      <th>EstimatedSalary</th>\n",
       "      <th>Exited</th>\n",
       "      <th>Age_Inv</th>\n",
       "      <th>Balance/Salary Ratio</th>\n",
       "    </tr>\n",
       "  </thead>\n",
       "  <tbody>\n",
       "    <tr>\n",
       "      <th>0</th>\n",
       "      <td>619</td>\n",
       "      <td>France</td>\n",
       "      <td>0</td>\n",
       "      <td>42</td>\n",
       "      <td>2</td>\n",
       "      <td>0.00</td>\n",
       "      <td>1</td>\n",
       "      <td>1</td>\n",
       "      <td>1</td>\n",
       "      <td>101348.88</td>\n",
       "      <td>1</td>\n",
       "      <td>0.023810</td>\n",
       "      <td>0.000000</td>\n",
       "    </tr>\n",
       "    <tr>\n",
       "      <th>1</th>\n",
       "      <td>608</td>\n",
       "      <td>Spain</td>\n",
       "      <td>0</td>\n",
       "      <td>41</td>\n",
       "      <td>1</td>\n",
       "      <td>83807.86</td>\n",
       "      <td>1</td>\n",
       "      <td>0</td>\n",
       "      <td>1</td>\n",
       "      <td>112542.58</td>\n",
       "      <td>0</td>\n",
       "      <td>0.024390</td>\n",
       "      <td>0.744677</td>\n",
       "    </tr>\n",
       "    <tr>\n",
       "      <th>2</th>\n",
       "      <td>502</td>\n",
       "      <td>France</td>\n",
       "      <td>0</td>\n",
       "      <td>42</td>\n",
       "      <td>8</td>\n",
       "      <td>159660.80</td>\n",
       "      <td>3</td>\n",
       "      <td>1</td>\n",
       "      <td>0</td>\n",
       "      <td>113931.57</td>\n",
       "      <td>1</td>\n",
       "      <td>0.023810</td>\n",
       "      <td>1.401375</td>\n",
       "    </tr>\n",
       "    <tr>\n",
       "      <th>3</th>\n",
       "      <td>699</td>\n",
       "      <td>France</td>\n",
       "      <td>0</td>\n",
       "      <td>39</td>\n",
       "      <td>1</td>\n",
       "      <td>0.00</td>\n",
       "      <td>2</td>\n",
       "      <td>0</td>\n",
       "      <td>0</td>\n",
       "      <td>93826.63</td>\n",
       "      <td>0</td>\n",
       "      <td>0.025641</td>\n",
       "      <td>0.000000</td>\n",
       "    </tr>\n",
       "    <tr>\n",
       "      <th>4</th>\n",
       "      <td>850</td>\n",
       "      <td>Spain</td>\n",
       "      <td>0</td>\n",
       "      <td>43</td>\n",
       "      <td>2</td>\n",
       "      <td>125510.82</td>\n",
       "      <td>1</td>\n",
       "      <td>1</td>\n",
       "      <td>1</td>\n",
       "      <td>79084.10</td>\n",
       "      <td>0</td>\n",
       "      <td>0.023256</td>\n",
       "      <td>1.587055</td>\n",
       "    </tr>\n",
       "  </tbody>\n",
       "</table>\n",
       "</div>"
      ],
      "text/plain": [
       "   CreditScore Geography  IsMale  Age  Tenure    Balance  NumOfProducts  \\\n",
       "0          619    France       0   42       2       0.00              1   \n",
       "1          608     Spain       0   41       1   83807.86              1   \n",
       "2          502    France       0   42       8  159660.80              3   \n",
       "3          699    France       0   39       1       0.00              2   \n",
       "4          850     Spain       0   43       2  125510.82              1   \n",
       "\n",
       "   HasCrCard  IsActiveMember  EstimatedSalary  Exited   Age_Inv  \\\n",
       "0          1               1        101348.88       1  0.023810   \n",
       "1          0               1        112542.58       0  0.024390   \n",
       "2          1               0        113931.57       1  0.023810   \n",
       "3          0               0         93826.63       0  0.025641   \n",
       "4          1               1         79084.10       0  0.023256   \n",
       "\n",
       "   Balance/Salary Ratio  \n",
       "0              0.000000  \n",
       "1              0.744677  \n",
       "2              1.401375  \n",
       "3              0.000000  \n",
       "4              1.587055  "
      ]
     },
     "execution_count": 43,
     "metadata": {},
     "output_type": "execute_result"
    }
   ],
   "source": [
    "df5 = df4.copy()\n",
    "df5['Balance/Salary Ratio'] = df5['Balance']/df5['EstimatedSalary']\n",
    "df5.head()"
   ]
  },
  {
   "cell_type": "markdown",
   "metadata": {
    "slideshow": {
     "slide_type": "subslide"
    }
   },
   "source": [
    "Visualizing distribution of 'Balance/Salary Ratio'."
   ]
  },
  {
   "cell_type": "code",
   "execution_count": 44,
   "metadata": {
    "slideshow": {
     "slide_type": "fragment"
    }
   },
   "outputs": [
    {
     "data": {
      "image/png": "[encoded data removed]",
      "text/plain": [
       "<Figure size 432x288 with 1 Axes>"
      ]
     },
     "metadata": {
      "needs_background": "light"
     },
     "output_type": "display_data"
    }
   ],
   "source": [
    "plt.hist(df5['Balance/Salary Ratio'], bins=10)\n",
    "plt.show()"
   ]
  },
  {
   "cell_type": "code",
   "execution_count": 45,
   "metadata": {
    "slideshow": {
     "slide_type": "subslide"
    }
   },
   "outputs": [
    {
     "name": "stdout",
     "output_type": "stream",
     "text": [
      "0.0\n",
      "10614.655440414508\n"
     ]
    }
   ],
   "source": [
    "print(df5['Balance/Salary Ratio'].min())\n",
    "print(df5['Balance/Salary Ratio'].max())"
   ]
  },
  {
   "cell_type": "markdown",
   "metadata": {
    "slideshow": {
     "slide_type": "fragment"
    }
   },
   "source": [
    "'Balance/Salary Ratio' does not demonstrate a normal distribution based on visual inspection.  This is tested formally along with distributions resulting from various transformations."
   ]
  },
  {
   "cell_type": "code",
   "execution_count": 46,
   "metadata": {
    "slideshow": {
     "slide_type": "subslide"
    }
   },
   "outputs": [
    {
     "name": "stdout",
     "output_type": "stream",
     "text": [
      "max z-score of distribution as is:  97.94697917337767\n",
      "min z-score of distribution as is:  -0.03580390433705983\n",
      "Probability of distribution being normal:  0.0\n",
      "max z-score of distribution as is:  59.28290117499166\n",
      "min z-score of distribution as is:  -0.5553312082176023\n",
      "Probability of transformed distribution being normal:  0.0\n",
      "max z-score of distribution as is:  1.897354050939991\n",
      "min z-score of distribution as is:  -1.3232615427258407\n",
      "Probability of transformed distribution being normal:  0.0\n"
     ]
    }
   ],
   "source": [
    "zscore_calc = zscore(df5['Balance/Salary Ratio'])\n",
    "print('max z-score of distribution as is:  ' + str(zscore_calc.max()))\n",
    "print('min z-score of distribution as is:  ' + str(zscore_calc.min()))\n",
    "norm_test = normaltest(df5['Balance/Salary Ratio'])\n",
    "print('Probability of distribution being normal:  ' + str(norm_test[1]))\n",
    "zscore_calc = zscore((df5['Balance/Salary Ratio'])**0.5)\n",
    "print('max z-score of distribution as is:  ' + str(zscore_calc.max()))\n",
    "print('min z-score of distribution as is:  ' + str(zscore_calc.min()))\n",
    "norm_test = normaltest((df5['Balance/Salary Ratio'])**0.5)\n",
    "print('Probability of transformed distribution being normal:  ' + str(norm_test[1]))\n",
    "zscore_calc = zscore((df5['Balance/Salary Ratio'])**0.05)\n",
    "print('max z-score of distribution as is:  ' + str(zscore_calc.max()))\n",
    "print('min z-score of distribution as is:  ' + str(zscore_calc.min()))\n",
    "norm_test = normaltest((df5['Balance/Salary Ratio'])**0.05)\n",
    "print('Probability of transformed distribution being normal:  ' + str(norm_test[1]))"
   ]
  },
  {
   "cell_type": "markdown",
   "metadata": {
    "slideshow": {
     "slide_type": "fragment"
    }
   },
   "source": [
    "None of the transformations yield a normal distribution, but raising 'Balance/Salary Ratio' to 0.05 power mitigates the existence of outliers.  This feature is added to the DataFrame and then tested for having a statistically significant impact on whether a customer closes their account or not."
   ]
  },
  {
   "cell_type": "code",
   "execution_count": 47,
   "metadata": {
    "slideshow": {
     "slide_type": "subslide"
    }
   },
   "outputs": [
    {
     "data": {
      "image/png": "[encoded data removed]",
      "text/plain": [
       "<Figure size 432x288 with 1 Axes>"
      ]
     },
     "metadata": {
      "needs_background": "light"
     },
     "output_type": "display_data"
    }
   ],
   "source": [
    "df5['Balance/Salary Ratio ^ 0.05'] = df5['Balance/Salary Ratio']**0.05\n",
    "df5_groupby_bs_ratio_0_point_05 = df5.groupby(['Exited'])['Balance/Salary Ratio ^ 0.05'].mean()\n",
    "plt.bar(['0', '1'], df5_groupby_bs_ratio_0_point_05)\n",
    "plt.xlabel('Exited')\n",
    "plt.ylabel('Average Balance/Salary Ratio Raised to 0.05 Power')\n",
    "plt.show()"
   ]
  },
  {
   "cell_type": "code",
   "execution_count": 48,
   "metadata": {
    "slideshow": {
     "slide_type": "subslide"
    }
   },
   "outputs": [
    {
     "name": "stdout",
     "output_type": "stream",
     "text": [
      "The balance/salary ratio raised to the 0.05 power is shown to have a statistically significant effect on whether the customer exited.\n"
     ]
    }
   ],
   "source": [
    "results_ttest = ttest_ind(df5[df5['Exited'] == 1]['Balance/Salary Ratio ^ 0.05'], \n",
    "                          df5[df5['Exited'] == 0]['Balance/Salary Ratio ^ 0.05'])\n",
    "\n",
    "if (results_ttest[1] < 0.05):\n",
    "    print('The balance/salary ratio raised to the 0.05 power is shown to have a statistically significant effect on whether the customer exited.')\n",
    "else:\n",
    "    print('The balance/salary ratio raised to the 0.05 power is not shown to have a statistically significant effect on whether the customer exited.')"
   ]
  },
  {
   "cell_type": "markdown",
   "metadata": {
    "slideshow": {
     "slide_type": "slide"
    }
   },
   "source": [
    "## Inspecting correlation of the numeric fields"
   ]
  },
  {
   "cell_type": "code",
   "execution_count": 49,
   "metadata": {
    "slideshow": {
     "slide_type": "fragment"
    }
   },
   "outputs": [
    {
     "data": {
      "text/html": [
       "<div>\n",
       "<style scoped>\n",
       "    .dataframe tbody tr th:only-of-type {\n",
       "        vertical-align: middle;\n",
       "    }\n",
       "\n",
       "    .dataframe tbody tr th {\n",
       "        vertical-align: top;\n",
       "    }\n",
       "\n",
       "    .dataframe thead th {\n",
       "        text-align: right;\n",
       "    }\n",
       "</style>\n",
       "<table border=\"1\" class=\"dataframe\">\n",
       "  <thead>\n",
       "    <tr style=\"text-align: right;\">\n",
       "      <th></th>\n",
       "      <th>CreditScore</th>\n",
       "      <th>IsMale</th>\n",
       "      <th>Tenure</th>\n",
       "      <th>Balance</th>\n",
       "      <th>NumOfProducts</th>\n",
       "      <th>HasCrCard</th>\n",
       "      <th>IsActiveMember</th>\n",
       "      <th>EstimatedSalary</th>\n",
       "      <th>Exited</th>\n",
       "      <th>Age_Inv</th>\n",
       "      <th>Balance/Salary Ratio ^ 0.05</th>\n",
       "    </tr>\n",
       "  </thead>\n",
       "  <tbody>\n",
       "    <tr>\n",
       "      <th>CreditScore</th>\n",
       "      <td>1.000000</td>\n",
       "      <td>-0.002857</td>\n",
       "      <td>0.000842</td>\n",
       "      <td>0.006268</td>\n",
       "      <td>0.012238</td>\n",
       "      <td>-0.005458</td>\n",
       "      <td>0.025651</td>\n",
       "      <td>-0.001384</td>\n",
       "      <td>-0.027094</td>\n",
       "      <td>0.008301</td>\n",
       "      <td>0.008356</td>\n",
       "    </tr>\n",
       "    <tr>\n",
       "      <th>IsMale</th>\n",
       "      <td>-0.002857</td>\n",
       "      <td>1.000000</td>\n",
       "      <td>0.014733</td>\n",
       "      <td>0.012087</td>\n",
       "      <td>-0.021859</td>\n",
       "      <td>0.005766</td>\n",
       "      <td>0.022544</td>\n",
       "      <td>-0.008112</td>\n",
       "      <td>-0.106512</td>\n",
       "      <td>0.025821</td>\n",
       "      <td>0.005387</td>\n",
       "    </tr>\n",
       "    <tr>\n",
       "      <th>Tenure</th>\n",
       "      <td>0.000842</td>\n",
       "      <td>0.014733</td>\n",
       "      <td>1.000000</td>\n",
       "      <td>-0.012254</td>\n",
       "      <td>0.013444</td>\n",
       "      <td>0.022583</td>\n",
       "      <td>-0.028362</td>\n",
       "      <td>0.007784</td>\n",
       "      <td>-0.014001</td>\n",
       "      <td>0.011996</td>\n",
       "      <td>-0.015435</td>\n",
       "    </tr>\n",
       "    <tr>\n",
       "      <th>Balance</th>\n",
       "      <td>0.006268</td>\n",
       "      <td>0.012087</td>\n",
       "      <td>-0.012254</td>\n",
       "      <td>1.000000</td>\n",
       "      <td>-0.304180</td>\n",
       "      <td>-0.014858</td>\n",
       "      <td>-0.010084</td>\n",
       "      <td>0.012797</td>\n",
       "      <td>0.118533</td>\n",
       "      <td>-0.030306</td>\n",
       "      <td>0.927691</td>\n",
       "    </tr>\n",
       "    <tr>\n",
       "      <th>NumOfProducts</th>\n",
       "      <td>0.012238</td>\n",
       "      <td>-0.021859</td>\n",
       "      <td>0.013444</td>\n",
       "      <td>-0.304180</td>\n",
       "      <td>1.000000</td>\n",
       "      <td>0.003183</td>\n",
       "      <td>0.009612</td>\n",
       "      <td>0.014204</td>\n",
       "      <td>-0.047820</td>\n",
       "      <td>0.027528</td>\n",
       "      <td>-0.329902</td>\n",
       "    </tr>\n",
       "    <tr>\n",
       "      <th>HasCrCard</th>\n",
       "      <td>-0.005458</td>\n",
       "      <td>0.005766</td>\n",
       "      <td>0.022583</td>\n",
       "      <td>-0.014858</td>\n",
       "      <td>0.003183</td>\n",
       "      <td>1.000000</td>\n",
       "      <td>-0.011866</td>\n",
       "      <td>-0.009933</td>\n",
       "      <td>-0.007138</td>\n",
       "      <td>0.010452</td>\n",
       "      <td>-0.018834</td>\n",
       "    </tr>\n",
       "    <tr>\n",
       "      <th>IsActiveMember</th>\n",
       "      <td>0.025651</td>\n",
       "      <td>0.022544</td>\n",
       "      <td>-0.028362</td>\n",
       "      <td>-0.010084</td>\n",
       "      <td>0.009612</td>\n",
       "      <td>-0.011866</td>\n",
       "      <td>1.000000</td>\n",
       "      <td>-0.011421</td>\n",
       "      <td>-0.156128</td>\n",
       "      <td>-0.045082</td>\n",
       "      <td>-0.004135</td>\n",
       "    </tr>\n",
       "    <tr>\n",
       "      <th>EstimatedSalary</th>\n",
       "      <td>-0.001384</td>\n",
       "      <td>-0.008112</td>\n",
       "      <td>0.007784</td>\n",
       "      <td>0.012797</td>\n",
       "      <td>0.014204</td>\n",
       "      <td>-0.009933</td>\n",
       "      <td>-0.011421</td>\n",
       "      <td>1.000000</td>\n",
       "      <td>0.012097</td>\n",
       "      <td>0.005298</td>\n",
       "      <td>-0.042944</td>\n",
       "    </tr>\n",
       "    <tr>\n",
       "      <th>Exited</th>\n",
       "      <td>-0.027094</td>\n",
       "      <td>-0.106512</td>\n",
       "      <td>-0.014001</td>\n",
       "      <td>0.118533</td>\n",
       "      <td>-0.047820</td>\n",
       "      <td>-0.007138</td>\n",
       "      <td>-0.156128</td>\n",
       "      <td>0.012097</td>\n",
       "      <td>1.000000</td>\n",
       "      <td>-0.283231</td>\n",
       "      <td>0.122412</td>\n",
       "    </tr>\n",
       "    <tr>\n",
       "      <th>Age_Inv</th>\n",
       "      <td>0.008301</td>\n",
       "      <td>0.025821</td>\n",
       "      <td>0.011996</td>\n",
       "      <td>-0.030306</td>\n",
       "      <td>0.027528</td>\n",
       "      <td>0.010452</td>\n",
       "      <td>-0.045082</td>\n",
       "      <td>0.005298</td>\n",
       "      <td>-0.283231</td>\n",
       "      <td>1.000000</td>\n",
       "      <td>-0.037279</td>\n",
       "    </tr>\n",
       "    <tr>\n",
       "      <th>Balance/Salary Ratio ^ 0.05</th>\n",
       "      <td>0.008356</td>\n",
       "      <td>0.005387</td>\n",
       "      <td>-0.015435</td>\n",
       "      <td>0.927691</td>\n",
       "      <td>-0.329902</td>\n",
       "      <td>-0.018834</td>\n",
       "      <td>-0.004135</td>\n",
       "      <td>-0.042944</td>\n",
       "      <td>0.122412</td>\n",
       "      <td>-0.037279</td>\n",
       "      <td>1.000000</td>\n",
       "    </tr>\n",
       "  </tbody>\n",
       "</table>\n",
       "</div>"
      ],
      "text/plain": [
       "                             CreditScore    IsMale    Tenure   Balance  \\\n",
       "CreditScore                     1.000000 -0.002857  0.000842  0.006268   \n",
       "IsMale                         -0.002857  1.000000  0.014733  0.012087   \n",
       "Tenure                          0.000842  0.014733  1.000000 -0.012254   \n",
       "Balance                         0.006268  0.012087 -0.012254  1.000000   \n",
       "NumOfProducts                   0.012238 -0.021859  0.013444 -0.304180   \n",
       "HasCrCard                      -0.005458  0.005766  0.022583 -0.014858   \n",
       "IsActiveMember                  0.025651  0.022544 -0.028362 -0.010084   \n",
       "EstimatedSalary                -0.001384 -0.008112  0.007784  0.012797   \n",
       "Exited                         -0.027094 -0.106512 -0.014001  0.118533   \n",
       "Age_Inv                         0.008301  0.025821  0.011996 -0.030306   \n",
       "Balance/Salary Ratio ^ 0.05     0.008356  0.005387 -0.015435  0.927691   \n",
       "\n",
       "                             NumOfProducts  HasCrCard  IsActiveMember  \\\n",
       "CreditScore                       0.012238  -0.005458        0.025651   \n",
       "IsMale                           -0.021859   0.005766        0.022544   \n",
       "Tenure                            0.013444   0.022583       -0.028362   \n",
       "Balance                          -0.304180  -0.014858       -0.010084   \n",
       "NumOfProducts                     1.000000   0.003183        0.009612   \n",
       "HasCrCard                         0.003183   1.000000       -0.011866   \n",
       "IsActiveMember                    0.009612  -0.011866        1.000000   \n",
       "EstimatedSalary                   0.014204  -0.009933       -0.011421   \n",
       "Exited                           -0.047820  -0.007138       -0.156128   \n",
       "Age_Inv                           0.027528   0.010452       -0.045082   \n",
       "Balance/Salary Ratio ^ 0.05      -0.329902  -0.018834       -0.004135   \n",
       "\n",
       "                             EstimatedSalary    Exited   Age_Inv  \\\n",
       "CreditScore                        -0.001384 -0.027094  0.008301   \n",
       "IsMale                             -0.008112 -0.106512  0.025821   \n",
       "Tenure                              0.007784 -0.014001  0.011996   \n",
       "Balance                             0.012797  0.118533 -0.030306   \n",
       "NumOfProducts                       0.014204 -0.047820  0.027528   \n",
       "HasCrCard                          -0.009933 -0.007138  0.010452   \n",
       "IsActiveMember                     -0.011421 -0.156128 -0.045082   \n",
       "EstimatedSalary                     1.000000  0.012097  0.005298   \n",
       "Exited                              0.012097  1.000000 -0.283231   \n",
       "Age_Inv                             0.005298 -0.283231  1.000000   \n",
       "Balance/Salary Ratio ^ 0.05        -0.042944  0.122412 -0.037279   \n",
       "\n",
       "                             Balance/Salary Ratio ^ 0.05  \n",
       "CreditScore                                     0.008356  \n",
       "IsMale                                          0.005387  \n",
       "Tenure                                         -0.015435  \n",
       "Balance                                         0.927691  \n",
       "NumOfProducts                                  -0.329902  \n",
       "HasCrCard                                      -0.018834  \n",
       "IsActiveMember                                 -0.004135  \n",
       "EstimatedSalary                                -0.042944  \n",
       "Exited                                          0.122412  \n",
       "Age_Inv                                        -0.037279  \n",
       "Balance/Salary Ratio ^ 0.05                     1.000000  "
      ]
     },
     "execution_count": 49,
     "metadata": {},
     "output_type": "execute_result"
    }
   ],
   "source": [
    "df_corr = df5.drop(columns=['Geography', 'Age', 'Balance/Salary Ratio']).corr()\n",
    "df_corr"
   ]
  },
  {
   "cell_type": "code",
   "execution_count": 50,
   "metadata": {
    "slideshow": {
     "slide_type": "subslide"
    }
   },
   "outputs": [
    {
     "data": {
      "image/png": "[encoded data removed]",
      "text/plain": [
       "<Figure size 432x288 with 2 Axes>"
      ]
     },
     "metadata": {
      "needs_background": "light"
     },
     "output_type": "display_data"
    }
   ],
   "source": [
    "sns.heatmap(df_corr)\n",
    "plt.show()"
   ]
  },
  {
   "cell_type": "markdown",
   "metadata": {
    "slideshow": {
     "slide_type": "fragment"
    }
   },
   "source": [
    "It is observed that the 'Balance/Salary Ratio ^ 0.05' term is highly correlated with the 'Balance' term.  Therefore, this new feature is not providing new information and should not be used."
   ]
  },
  {
   "cell_type": "code",
   "execution_count": 51,
   "metadata": {
    "slideshow": {
     "slide_type": "subslide"
    }
   },
   "outputs": [
    {
     "data": {
      "text/plain": [
       "Exited                         1.000000\n",
       "Balance/Salary Ratio ^ 0.05    0.122412\n",
       "Balance                        0.118533\n",
       "EstimatedSalary                0.012097\n",
       "HasCrCard                     -0.007138\n",
       "Tenure                        -0.014001\n",
       "CreditScore                   -0.027094\n",
       "NumOfProducts                 -0.047820\n",
       "IsMale                        -0.106512\n",
       "IsActiveMember                -0.156128\n",
       "Age_Inv                       -0.283231\n",
       "Name: Exited, dtype: float64"
      ]
     },
     "execution_count": 51,
     "metadata": {},
     "output_type": "execute_result"
    }
   ],
   "source": [
    "df_corr['Exited'].sort_values(ascending=False)"
   ]
  },
  {
   "cell_type": "markdown",
   "metadata": {
    "slideshow": {
     "slide_type": "fragment"
    }
   },
   "source": [
    "Inspection of the correlation of the numeric explanatory variables with the target variable shows that the explanatory variables are weakly correlated with whether a customer closes his or her account or not."
   ]
  },
  {
   "cell_type": "markdown",
   "metadata": {
    "slideshow": {
     "slide_type": "slide"
    }
   },
   "source": [
    "## Removing unnecessary columns"
   ]
  },
  {
   "cell_type": "code",
   "execution_count": 52,
   "metadata": {
    "slideshow": {
     "slide_type": "fragment"
    }
   },
   "outputs": [
    {
     "data": {
      "text/html": [
       "<div>\n",
       "<style scoped>\n",
       "    .dataframe tbody tr th:only-of-type {\n",
       "        vertical-align: middle;\n",
       "    }\n",
       "\n",
       "    .dataframe tbody tr th {\n",
       "        vertical-align: top;\n",
       "    }\n",
       "\n",
       "    .dataframe thead th {\n",
       "        text-align: right;\n",
       "    }\n",
       "</style>\n",
       "<table border=\"1\" class=\"dataframe\">\n",
       "  <thead>\n",
       "    <tr style=\"text-align: right;\">\n",
       "      <th></th>\n",
       "      <th>CreditScore</th>\n",
       "      <th>Geography</th>\n",
       "      <th>IsMale</th>\n",
       "      <th>Tenure</th>\n",
       "      <th>Balance</th>\n",
       "      <th>NumOfProducts</th>\n",
       "      <th>HasCrCard</th>\n",
       "      <th>IsActiveMember</th>\n",
       "      <th>EstimatedSalary</th>\n",
       "      <th>Exited</th>\n",
       "      <th>Age_Inv</th>\n",
       "    </tr>\n",
       "  </thead>\n",
       "  <tbody>\n",
       "    <tr>\n",
       "      <th>0</th>\n",
       "      <td>619</td>\n",
       "      <td>France</td>\n",
       "      <td>0</td>\n",
       "      <td>2</td>\n",
       "      <td>0.00</td>\n",
       "      <td>1</td>\n",
       "      <td>1</td>\n",
       "      <td>1</td>\n",
       "      <td>101348.88</td>\n",
       "      <td>1</td>\n",
       "      <td>0.023810</td>\n",
       "    </tr>\n",
       "    <tr>\n",
       "      <th>1</th>\n",
       "      <td>608</td>\n",
       "      <td>Spain</td>\n",
       "      <td>0</td>\n",
       "      <td>1</td>\n",
       "      <td>83807.86</td>\n",
       "      <td>1</td>\n",
       "      <td>0</td>\n",
       "      <td>1</td>\n",
       "      <td>112542.58</td>\n",
       "      <td>0</td>\n",
       "      <td>0.024390</td>\n",
       "    </tr>\n",
       "    <tr>\n",
       "      <th>2</th>\n",
       "      <td>502</td>\n",
       "      <td>France</td>\n",
       "      <td>0</td>\n",
       "      <td>8</td>\n",
       "      <td>159660.80</td>\n",
       "      <td>3</td>\n",
       "      <td>1</td>\n",
       "      <td>0</td>\n",
       "      <td>113931.57</td>\n",
       "      <td>1</td>\n",
       "      <td>0.023810</td>\n",
       "    </tr>\n",
       "    <tr>\n",
       "      <th>3</th>\n",
       "      <td>699</td>\n",
       "      <td>France</td>\n",
       "      <td>0</td>\n",
       "      <td>1</td>\n",
       "      <td>0.00</td>\n",
       "      <td>2</td>\n",
       "      <td>0</td>\n",
       "      <td>0</td>\n",
       "      <td>93826.63</td>\n",
       "      <td>0</td>\n",
       "      <td>0.025641</td>\n",
       "    </tr>\n",
       "    <tr>\n",
       "      <th>4</th>\n",
       "      <td>850</td>\n",
       "      <td>Spain</td>\n",
       "      <td>0</td>\n",
       "      <td>2</td>\n",
       "      <td>125510.82</td>\n",
       "      <td>1</td>\n",
       "      <td>1</td>\n",
       "      <td>1</td>\n",
       "      <td>79084.10</td>\n",
       "      <td>0</td>\n",
       "      <td>0.023256</td>\n",
       "    </tr>\n",
       "  </tbody>\n",
       "</table>\n",
       "</div>"
      ],
      "text/plain": [
       "   CreditScore Geography  IsMale  Tenure    Balance  NumOfProducts  HasCrCard  \\\n",
       "0          619    France       0       2       0.00              1          1   \n",
       "1          608     Spain       0       1   83807.86              1          0   \n",
       "2          502    France       0       8  159660.80              3          1   \n",
       "3          699    France       0       1       0.00              2          0   \n",
       "4          850     Spain       0       2  125510.82              1          1   \n",
       "\n",
       "   IsActiveMember  EstimatedSalary  Exited   Age_Inv  \n",
       "0               1        101348.88       1  0.023810  \n",
       "1               1        112542.58       0  0.024390  \n",
       "2               0        113931.57       1  0.023810  \n",
       "3               0         93826.63       0  0.025641  \n",
       "4               1         79084.10       0  0.023256  "
      ]
     },
     "execution_count": 52,
     "metadata": {},
     "output_type": "execute_result"
    }
   ],
   "source": [
    "df6 = df5.drop(columns=['Balance/Salary Ratio ^ 0.05', 'Age', 'Balance/Salary Ratio'])\n",
    "df6.head()"
   ]
  },
  {
   "cell_type": "markdown",
   "metadata": {
    "slideshow": {
     "slide_type": "slide"
    }
   },
   "source": [
    "## Normalizing numeric columns"
   ]
  },
  {
   "cell_type": "code",
   "execution_count": 53,
   "metadata": {
    "slideshow": {
     "slide_type": "fragment"
    }
   },
   "outputs": [
    {
     "data": {
      "text/html": [
       "<div>\n",
       "<style scoped>\n",
       "    .dataframe tbody tr th:only-of-type {\n",
       "        vertical-align: middle;\n",
       "    }\n",
       "\n",
       "    .dataframe tbody tr th {\n",
       "        vertical-align: top;\n",
       "    }\n",
       "\n",
       "    .dataframe thead th {\n",
       "        text-align: right;\n",
       "    }\n",
       "</style>\n",
       "<table border=\"1\" class=\"dataframe\">\n",
       "  <thead>\n",
       "    <tr style=\"text-align: right;\">\n",
       "      <th></th>\n",
       "      <th>CreditScore</th>\n",
       "      <th>Geography</th>\n",
       "      <th>IsMale</th>\n",
       "      <th>Tenure</th>\n",
       "      <th>Balance</th>\n",
       "      <th>NumOfProducts</th>\n",
       "      <th>HasCrCard</th>\n",
       "      <th>IsActiveMember</th>\n",
       "      <th>EstimatedSalary</th>\n",
       "      <th>Exited</th>\n",
       "      <th>Age_Inv</th>\n",
       "    </tr>\n",
       "  </thead>\n",
       "  <tbody>\n",
       "    <tr>\n",
       "      <th>0</th>\n",
       "      <td>0.728235</td>\n",
       "      <td>France</td>\n",
       "      <td>0</td>\n",
       "      <td>0.2</td>\n",
       "      <td>0.000000</td>\n",
       "      <td>1</td>\n",
       "      <td>1</td>\n",
       "      <td>1</td>\n",
       "      <td>0.506763</td>\n",
       "      <td>1</td>\n",
       "      <td>0.428571</td>\n",
       "    </tr>\n",
       "    <tr>\n",
       "      <th>1</th>\n",
       "      <td>0.715294</td>\n",
       "      <td>Spain</td>\n",
       "      <td>0</td>\n",
       "      <td>0.1</td>\n",
       "      <td>0.334031</td>\n",
       "      <td>1</td>\n",
       "      <td>0</td>\n",
       "      <td>1</td>\n",
       "      <td>0.562734</td>\n",
       "      <td>0</td>\n",
       "      <td>0.439024</td>\n",
       "    </tr>\n",
       "    <tr>\n",
       "      <th>2</th>\n",
       "      <td>0.590588</td>\n",
       "      <td>France</td>\n",
       "      <td>0</td>\n",
       "      <td>0.8</td>\n",
       "      <td>0.636357</td>\n",
       "      <td>3</td>\n",
       "      <td>1</td>\n",
       "      <td>0</td>\n",
       "      <td>0.569679</td>\n",
       "      <td>1</td>\n",
       "      <td>0.428571</td>\n",
       "    </tr>\n",
       "    <tr>\n",
       "      <th>3</th>\n",
       "      <td>0.822353</td>\n",
       "      <td>France</td>\n",
       "      <td>0</td>\n",
       "      <td>0.1</td>\n",
       "      <td>0.000000</td>\n",
       "      <td>2</td>\n",
       "      <td>0</td>\n",
       "      <td>0</td>\n",
       "      <td>0.469151</td>\n",
       "      <td>0</td>\n",
       "      <td>0.461538</td>\n",
       "    </tr>\n",
       "    <tr>\n",
       "      <th>4</th>\n",
       "      <td>1.000000</td>\n",
       "      <td>Spain</td>\n",
       "      <td>0</td>\n",
       "      <td>0.2</td>\n",
       "      <td>0.500246</td>\n",
       "      <td>1</td>\n",
       "      <td>1</td>\n",
       "      <td>1</td>\n",
       "      <td>0.395435</td>\n",
       "      <td>0</td>\n",
       "      <td>0.418605</td>\n",
       "    </tr>\n",
       "  </tbody>\n",
       "</table>\n",
       "</div>"
      ],
      "text/plain": [
       "   CreditScore Geography  IsMale  Tenure   Balance  NumOfProducts  HasCrCard  \\\n",
       "0     0.728235    France       0     0.2  0.000000              1          1   \n",
       "1     0.715294     Spain       0     0.1  0.334031              1          0   \n",
       "2     0.590588    France       0     0.8  0.636357              3          1   \n",
       "3     0.822353    France       0     0.1  0.000000              2          0   \n",
       "4     1.000000     Spain       0     0.2  0.500246              1          1   \n",
       "\n",
       "   IsActiveMember  EstimatedSalary  Exited   Age_Inv  \n",
       "0               1         0.506763       1  0.428571  \n",
       "1               1         0.562734       0  0.439024  \n",
       "2               0         0.569679       1  0.428571  \n",
       "3               0         0.469151       0  0.461538  \n",
       "4               1         0.395435       0  0.418605  "
      ]
     },
     "execution_count": 53,
     "metadata": {},
     "output_type": "execute_result"
    }
   ],
   "source": [
    "df7 = df6.copy()\n",
    "for var in ['CreditScore', 'Tenure', 'Balance', 'EstimatedSalary', 'Age_Inv']:\n",
    "    max_val = df6[var].max()\n",
    "    df7[var] = df6[var]/max_val\n",
    "df7.head()"
   ]
  },
  {
   "cell_type": "markdown",
   "metadata": {
    "slideshow": {
     "slide_type": "slide"
    }
   },
   "source": [
    "## Implement one-hot encoding"
   ]
  },
  {
   "cell_type": "markdown",
   "metadata": {
    "slideshow": {
     "slide_type": "fragment"
    }
   },
   "source": [
    "'NumOfProducts' is to be treated as a categorical variable and thus one-hot encoded along with 'Geography'.  'Tenure' is retained as a continuous variable."
   ]
  },
  {
   "cell_type": "code",
   "execution_count": 54,
   "metadata": {
    "slideshow": {
     "slide_type": "fragment"
    }
   },
   "outputs": [
    {
     "data": {
      "text/html": [
       "<div>\n",
       "<style scoped>\n",
       "    .dataframe tbody tr th:only-of-type {\n",
       "        vertical-align: middle;\n",
       "    }\n",
       "\n",
       "    .dataframe tbody tr th {\n",
       "        vertical-align: top;\n",
       "    }\n",
       "\n",
       "    .dataframe thead th {\n",
       "        text-align: right;\n",
       "    }\n",
       "</style>\n",
       "<table border=\"1\" class=\"dataframe\">\n",
       "  <thead>\n",
       "    <tr style=\"text-align: right;\">\n",
       "      <th></th>\n",
       "      <th>CreditScore</th>\n",
       "      <th>IsMale</th>\n",
       "      <th>Tenure</th>\n",
       "      <th>Balance</th>\n",
       "      <th>HasCrCard</th>\n",
       "      <th>IsActiveMember</th>\n",
       "      <th>EstimatedSalary</th>\n",
       "      <th>Exited</th>\n",
       "      <th>Age_Inv</th>\n",
       "      <th>Geography_Germany</th>\n",
       "      <th>Geography_Spain</th>\n",
       "      <th>NumOfProducts_2</th>\n",
       "      <th>NumOfProducts_3</th>\n",
       "      <th>NumOfProducts_4</th>\n",
       "    </tr>\n",
       "  </thead>\n",
       "  <tbody>\n",
       "    <tr>\n",
       "      <th>0</th>\n",
       "      <td>0.728235</td>\n",
       "      <td>0</td>\n",
       "      <td>0.2</td>\n",
       "      <td>0.000000</td>\n",
       "      <td>1</td>\n",
       "      <td>1</td>\n",
       "      <td>0.506763</td>\n",
       "      <td>1</td>\n",
       "      <td>0.428571</td>\n",
       "      <td>0</td>\n",
       "      <td>0</td>\n",
       "      <td>0</td>\n",
       "      <td>0</td>\n",
       "      <td>0</td>\n",
       "    </tr>\n",
       "    <tr>\n",
       "      <th>1</th>\n",
       "      <td>0.715294</td>\n",
       "      <td>0</td>\n",
       "      <td>0.1</td>\n",
       "      <td>0.334031</td>\n",
       "      <td>0</td>\n",
       "      <td>1</td>\n",
       "      <td>0.562734</td>\n",
       "      <td>0</td>\n",
       "      <td>0.439024</td>\n",
       "      <td>0</td>\n",
       "      <td>1</td>\n",
       "      <td>0</td>\n",
       "      <td>0</td>\n",
       "      <td>0</td>\n",
       "    </tr>\n",
       "    <tr>\n",
       "      <th>2</th>\n",
       "      <td>0.590588</td>\n",
       "      <td>0</td>\n",
       "      <td>0.8</td>\n",
       "      <td>0.636357</td>\n",
       "      <td>1</td>\n",
       "      <td>0</td>\n",
       "      <td>0.569679</td>\n",
       "      <td>1</td>\n",
       "      <td>0.428571</td>\n",
       "      <td>0</td>\n",
       "      <td>0</td>\n",
       "      <td>0</td>\n",
       "      <td>1</td>\n",
       "      <td>0</td>\n",
       "    </tr>\n",
       "    <tr>\n",
       "      <th>3</th>\n",
       "      <td>0.822353</td>\n",
       "      <td>0</td>\n",
       "      <td>0.1</td>\n",
       "      <td>0.000000</td>\n",
       "      <td>0</td>\n",
       "      <td>0</td>\n",
       "      <td>0.469151</td>\n",
       "      <td>0</td>\n",
       "      <td>0.461538</td>\n",
       "      <td>0</td>\n",
       "      <td>0</td>\n",
       "      <td>1</td>\n",
       "      <td>0</td>\n",
       "      <td>0</td>\n",
       "    </tr>\n",
       "    <tr>\n",
       "      <th>4</th>\n",
       "      <td>1.000000</td>\n",
       "      <td>0</td>\n",
       "      <td>0.2</td>\n",
       "      <td>0.500246</td>\n",
       "      <td>1</td>\n",
       "      <td>1</td>\n",
       "      <td>0.395435</td>\n",
       "      <td>0</td>\n",
       "      <td>0.418605</td>\n",
       "      <td>0</td>\n",
       "      <td>1</td>\n",
       "      <td>0</td>\n",
       "      <td>0</td>\n",
       "      <td>0</td>\n",
       "    </tr>\n",
       "  </tbody>\n",
       "</table>\n",
       "</div>"
      ],
      "text/plain": [
       "   CreditScore  IsMale  Tenure   Balance  HasCrCard  IsActiveMember  \\\n",
       "0     0.728235       0     0.2  0.000000          1               1   \n",
       "1     0.715294       0     0.1  0.334031          0               1   \n",
       "2     0.590588       0     0.8  0.636357          1               0   \n",
       "3     0.822353       0     0.1  0.000000          0               0   \n",
       "4     1.000000       0     0.2  0.500246          1               1   \n",
       "\n",
       "   EstimatedSalary  Exited   Age_Inv  Geography_Germany  Geography_Spain  \\\n",
       "0         0.506763       1  0.428571                  0                0   \n",
       "1         0.562734       0  0.439024                  0                1   \n",
       "2         0.569679       1  0.428571                  0                0   \n",
       "3         0.469151       0  0.461538                  0                0   \n",
       "4         0.395435       0  0.418605                  0                1   \n",
       "\n",
       "   NumOfProducts_2  NumOfProducts_3  NumOfProducts_4  \n",
       "0                0                0                0  \n",
       "1                0                0                0  \n",
       "2                0                1                0  \n",
       "3                1                0                0  \n",
       "4                0                0                0  "
      ]
     },
     "execution_count": 54,
     "metadata": {},
     "output_type": "execute_result"
    }
   ],
   "source": [
    "df8 = pd.get_dummies(data=df7, columns=['Geography', 'NumOfProducts'], drop_first=True)\n",
    "df8.head()"
   ]
  },
  {
   "cell_type": "markdown",
   "metadata": {
    "slideshow": {
     "slide_type": "slide"
    }
   },
   "source": [
    "## Dataset balance/imbalance"
   ]
  },
  {
   "cell_type": "code",
   "execution_count": 55,
   "metadata": {
    "slideshow": {
     "slide_type": "fragment"
    }
   },
   "outputs": [
    {
     "name": "stdout",
     "output_type": "stream",
     "text": [
      "The percentage of customers in the data set that closed their accounts is 20.369999999999997%.\n",
      "Baseline accuracy for a model that adds no value is 79.63%.\n"
     ]
    }
   ],
   "source": [
    "print('The percentage of customers in the data set that closed their accounts is ' + str(df7['Exited'].mean()*100) + '%.')\n",
    "print('Baseline accuracy for a model that adds no value is ' + str(100 - df7['Exited'].mean()*100) + '%.')"
   ]
  },
  {
   "cell_type": "markdown",
   "metadata": {
    "slideshow": {
     "slide_type": "slide"
    }
   },
   "source": [
    "## Model types to try\n",
    "\n",
    "A binary classifier is needed on account of the target variables being the 'Exited' variable which takes values of 0 (did not close account) and 1 (did close account).  Therefore, logistic regression, KNN, decision tree, random forest, and gradient boosting classifiers are explored."
   ]
  },
  {
   "cell_type": "markdown",
   "metadata": {
    "slideshow": {
     "slide_type": "slide"
    }
   },
   "source": [
    "## Model code switches\n",
    "\n",
    "Due to the variation of parameters in determining an optimal model for the model types under consideration, this notebook takes a long time to run.  Switches are included below to toggle whether the variation of parameters is performed when running this notebook.  The results of the optimization are summarized in text for the models having been run initially so that they are preserved between runs of the notebook without needing to run all of the models again.  If there is a need to run the notebook for all of the models, use the switches below."
   ]
  },
  {
   "cell_type": "code",
   "execution_count": 56,
   "metadata": {
    "slideshow": {
     "slide_type": "fragment"
    }
   },
   "outputs": [],
   "source": [
    "run_log_reg = False\n",
    "run_knn = False\n",
    "run_dec_tree = False\n",
    "run_rand_for = False\n",
    "run_svc = False\n",
    "run_grad_boost = False\n",
    "run_all = True"
   ]
  },
  {
   "cell_type": "markdown",
   "metadata": {
    "slideshow": {
     "slide_type": "slide"
    }
   },
   "source": [
    "## Logistic Regression"
   ]
  },
  {
   "cell_type": "markdown",
   "metadata": {
    "slideshow": {
     "slide_type": "fragment"
    }
   },
   "source": [
    "Logistic regression is implemented with variation in the feature sets to determine what an optimal number of features and feature set are."
   ]
  },
  {
   "cell_type": "code",
   "execution_count": 57,
   "metadata": {
    "slideshow": {
     "slide_type": "skip"
    }
   },
   "outputs": [
    {
     "name": "stdout",
     "output_type": "stream",
     "text": [
      "1\n",
      "2\n",
      "3\n",
      "4\n",
      "5\n",
      "6\n",
      "7\n",
      "8\n",
      "9\n",
      "10\n"
     ]
    }
   ],
   "source": [
    "# separate target and explanatory variables, X and Y reused by other models\n",
    "Y = df8['Exited']\n",
    "X = df8.drop(columns=['Exited'])\n",
    "        \n",
    "# set groups of variables to be chosen from\n",
    "# 'Geography' and 'NumOfProducts' one-hot encoded variables are each lumped as one group because they define the categorical \n",
    "# variable as a group\n",
    "choose_list = ['CreditScore', 'Tenure', 'Balance', 'EstimatedSalary', 'Age_Inv', 'IsMale', 'HasCrCard', 'IsActiveMember', \n",
    "              ['Geography_Germany', 'Geography_Spain'], ['NumOfProducts_2', 'NumOfProducts_3', 'NumOfProducts_4']]\n",
    "\n",
    "# cycle through combinations of variables to create models\n",
    "from itertools import combinations\n",
    "\n",
    "import warnings\n",
    "from sklearn.exceptions import DataConversionWarning\n",
    "warnings.filterwarnings(action='ignore', category=DataConversionWarning)\n",
    "\n",
    "from sklearn.linear_model import LogisticRegression\n",
    "from sklearn.model_selection import cross_val_score\n",
    "\n",
    "max_accuracy_feat_list_n = []\n",
    "max_accuracy_list_n = []\n",
    "max_accuracy_std_list_n = []\n",
    "    \n",
    "if (run_log_reg or run_all):\n",
    "    for n in range(1, len(choose_list) + 1):\n",
    "        # included for progress tracking during extended runtime of cell\n",
    "        print(n)\n",
    "\n",
    "        # develop list of combinations of features for different numbers of features to be included\n",
    "        combos = combinations(list(range(0, len(choose_list))), n)\n",
    "        counter = 0\n",
    "        max_accuracy = None\n",
    "        max_accuracy_std = None\n",
    "        max_accuracy_feat_list = None\n",
    "\n",
    "        # loop through combinations of features for a given n number of features to be included in model\n",
    "        for i in combos:\n",
    "\n",
    "            # develop list of features to be included in model\n",
    "            feature_list = [choose_list[j] for j in list(i)]\n",
    "            feature_list1 = []\n",
    "            for item in feature_list:\n",
    "                # if-else ensures that resulting feature list contains no lists as entries\n",
    "                # rather, all entries in any lists passed to the list are extracted as separate entries\n",
    "                if (type(item).__name__ == 'list'):\n",
    "                    # used for 'Geography' and 'NumOfProducts' groups of variables\n",
    "                    feature_list1 = feature_list1 + item\n",
    "                else:\n",
    "                    # used for all other variables\n",
    "                    feature_list1 = feature_list1 + [item]\n",
    "\n",
    "            # select subset of X based on features included\n",
    "            X_model = X[feature_list1]\n",
    "\n",
    "            # fit model and evaluate performance through cross-validation\n",
    "            logreg = LogisticRegression(random_state=20, solver='lbfgs')\n",
    "            cv_score = cross_val_score(estimator=logreg, X=X_model, y=Y, cv=10)\n",
    "            model_avg_score = np.mean(cv_score)*100\n",
    "            model_std = np.std(cv_score)*100\n",
    "\n",
    "            if (counter == 0):\n",
    "                # saving initial values for each n\n",
    "                max_accuracy = model_avg_score\n",
    "                max_accuracy_std = model_std\n",
    "                max_accuracy_feat_list = feature_list1\n",
    "            else:\n",
    "                # overwriting values for all iterations after first if model is more accurate than best at time\n",
    "                if (model_avg_score > max_accuracy):\n",
    "                    max_accuracy = model_avg_score\n",
    "                    max_accuracy_std = model_std\n",
    "                    max_accuracy_feat_list = feature_list1\n",
    "            counter += 1\n",
    "\n",
    "        # save most accurate model's accuracy, st dev of accuracy, and feature list for each n\n",
    "        max_accuracy_feat_list_n.append(max_accuracy_feat_list)\n",
    "        max_accuracy_list_n.append(max_accuracy)\n",
    "        max_accuracy_std_list_n.append(max_accuracy_std)"
   ]
  },
  {
   "cell_type": "markdown",
   "metadata": {
    "slideshow": {
     "slide_type": "fragment"
    }
   },
   "source": [
    "The average accuracy and standard deviation of the accuracies (obtained through 10-fold cross-validation) of the most accurate model for each number of features are plotted."
   ]
  },
  {
   "cell_type": "code",
   "execution_count": 58,
   "metadata": {
    "slideshow": {
     "slide_type": "subslide"
    }
   },
   "outputs": [
    {
     "data": {
      "image/png": "[encoded data removed]",
      "text/plain": [
       "<Figure size 1080x360 with 2 Axes>"
      ]
     },
     "metadata": {
      "needs_background": "light"
     },
     "output_type": "display_data"
    }
   ],
   "source": [
    "if (run_log_reg or run_all):\n",
    "    n_list = list(range(1, len(choose_list) + 1))\n",
    "    plt.figure(figsize=(15, 5))\n",
    "    plt.subplot(1, 2, 1)\n",
    "    plt.scatter(n_list, max_accuracy_list_n)\n",
    "    plt.xticks(n_list)\n",
    "    plt.xlabel('Number of Features')\n",
    "    plt.ylabel('Model Average Accuracy')\n",
    "\n",
    "    plt.subplot(1, 2, 2)\n",
    "    plt.scatter(n_list, max_accuracy_std_list_n)\n",
    "    plt.xticks(n_list)\n",
    "    plt.xlabel('Number of Features')\n",
    "    plt.ylabel('Model Accuracy St Dev')\n",
    "\n",
    "    plt.show()"
   ]
  },
  {
   "cell_type": "markdown",
   "metadata": {
    "slideshow": {
     "slide_type": "subslide"
    }
   },
   "source": [
    "The average accuracy of the models with 4 features represents the most accurate logistic regression model."
   ]
  },
  {
   "cell_type": "code",
   "execution_count": 59,
   "metadata": {
    "slideshow": {
     "slide_type": "fragment"
    }
   },
   "outputs": [
    {
     "name": "stdout",
     "output_type": "stream",
     "text": [
      "Accuracy difference between 4 and 5 features:  0.040069950069948845\n",
      "Accuracy standard deviation difference between 4 and 5 features:  0.048620112578292796\n"
     ]
    }
   ],
   "source": [
    "if (run_log_reg or run_all):\n",
    "    print('Accuracy difference between 4 and 5 features:  ' + str(max_accuracy_list_n[3] - max_accuracy_list_n[4]))\n",
    "    std_diff = max_accuracy_std_list_n[3] - max_accuracy_std_list_n[4]\n",
    "    print('Accuracy standard deviation difference between 4 and 5 features:  ' + str(std_diff))"
   ]
  },
  {
   "cell_type": "markdown",
   "metadata": {
    "slideshow": {
     "slide_type": "subslide"
    }
   },
   "source": [
    "The small reduction in the variability of accuracy for 5 features compared to 4 features does not justify choosing 5 features for the optimal model.  The importance of features is explored by examining the feature sets used for models with 1 to 4 features.  Feature set for 4-feature model is ['Age_Inv', 'IsActiveMember', ['NumOfProducts2', 'NumOfProducts3', 'NumOfProducts4'], 'EstimatedSalary']."
   ]
  },
  {
   "cell_type": "code",
   "execution_count": 83,
   "metadata": {
    "slideshow": {
     "slide_type": "fragment"
    }
   },
   "outputs": [
    {
     "name": "stdout",
     "output_type": "stream",
     "text": [
      "[['NumOfProducts_2', 'NumOfProducts_3', 'NumOfProducts_4'], ['Age_Inv', 'IsActiveMember'], ['Age_Inv', 'IsActiveMember', 'NumOfProducts_2', 'NumOfProducts_3', 'NumOfProducts_4'], ['EstimatedSalary', 'Age_Inv', 'IsActiveMember', 'NumOfProducts_2', 'NumOfProducts_3', 'NumOfProducts_4']]\n"
     ]
    }
   ],
   "source": [
    "if (run_log_reg or run_all):\n",
    "    print(max_accuracy_feat_list_n[:4])"
   ]
  },
  {
   "cell_type": "markdown",
   "metadata": {
    "slideshow": {
     "slide_type": "fragment"
    }
   },
   "source": [
    "Given their consistent presence in the feature sets, it can be inferred that 'NumOfProducts', 'Age_Inv', and 'IsActiveMember' provide the most useful information in determining whether a customer will close their account or not."
   ]
  },
  {
   "cell_type": "markdown",
   "metadata": {
    "slideshow": {
     "slide_type": "slide"
    }
   },
   "source": [
    "## KNN"
   ]
  },
  {
   "cell_type": "markdown",
   "metadata": {
    "slideshow": {
     "slide_type": "fragment"
    }
   },
   "source": [
    "KNN is implemented with variation in the number of neighbors and in the method of weighting the votes from each neighbor.  The entire feature set is retained in favor of varying the number of neighbors and using different weighting.  The effect of variables that do not provide explanatory power will exist for all predictions, will be diluted by the effect of variables that do provide explanatory power, and will have less variation with increasing numbers of neighbors used.  This is further justified by the lack of information regarding feature importance given by KNN."
   ]
  },
  {
   "cell_type": "code",
   "execution_count": 61,
   "metadata": {
    "slideshow": {
     "slide_type": "skip"
    }
   },
   "outputs": [],
   "source": [
    "from sklearn.neighbors import KNeighborsClassifier\n",
    "\n",
    "if (run_knn or run_all):\n",
    "    knn_weight_list = []\n",
    "    knn_neighbors_list = []\n",
    "    knn_accuracy_list = []\n",
    "    knn_accuracy_std_list = []\n",
    "\n",
    "    for k in [1, 5, 10, 25, 50]:\n",
    "        for weighting in ['uniform', 'distance']:\n",
    "            knn = KNeighborsClassifier(n_neighbors=k, weights=weighting)\n",
    "\n",
    "            # fit model and evaluate performance through cross-validation\n",
    "            cv_score = cross_val_score(estimator=knn, X=X, y=Y, cv=10)\n",
    "            model_avg_score = np.mean(cv_score)*100\n",
    "            model_std = np.std(cv_score)*100\n",
    "\n",
    "            # save model's weighting method, number of neighbors, average accuracy, and st dev of accuracy\n",
    "            knn_weight_list.append(weighting)\n",
    "            knn_neighbors_list.append(k)\n",
    "            knn_accuracy_list.append(model_avg_score)\n",
    "            knn_accuracy_std_list.append(model_std)"
   ]
  },
  {
   "cell_type": "code",
   "execution_count": 62,
   "metadata": {
    "slideshow": {
     "slide_type": "skip"
    }
   },
   "outputs": [],
   "source": [
    "if (run_knn or run_all):\n",
    "    df_data = np.vstack((np.array(knn_neighbors_list), np.array(knn_accuracy_list), \n",
    "           np.array(knn_accuracy_std_list))).T\n",
    "    df_results_knn = pd.DataFrame(data=df_data, columns=['Neighbors', 'Model Average Accuracy', 'Model Accuracy St Dev'])\n",
    "    df_results_knn['Weighting'] = knn_weight_list\n",
    "    df_results_knn"
   ]
  },
  {
   "cell_type": "markdown",
   "metadata": {
    "slideshow": {
     "slide_type": "subslide"
    }
   },
   "source": [
    "The average accuracy and standard deviation of the accuracies (obtained through 10-fold cross-validation) of the model for each number of neighbors and weighting method are plotted."
   ]
  },
  {
   "cell_type": "code",
   "execution_count": 63,
   "metadata": {
    "slideshow": {
     "slide_type": "subslide"
    }
   },
   "outputs": [
    {
     "data": {
      "image/png": "[encoded data removed]",
      "text/plain": [
       "<Figure size 1080x360 with 2 Axes>"
      ]
     },
     "metadata": {
      "needs_background": "light"
     },
     "output_type": "display_data"
    }
   ],
   "source": [
    "if (run_knn or run_all):\n",
    "    plt.figure(figsize=(15, 5))\n",
    "    plt.subplot(1, 2, 1)\n",
    "    sns.scatterplot(x='Neighbors', y='Model Average Accuracy', hue='Weighting', style='Weighting', data=df_results_knn)\n",
    "\n",
    "    plt.subplot(1, 2, 2)\n",
    "    sns.scatterplot(x='Neighbors', y='Model Accuracy St Dev', hue='Weighting', style='Weighting', data=df_results_knn)\n",
    "\n",
    "    plt.show()"
   ]
  },
  {
   "cell_type": "markdown",
   "metadata": {
    "slideshow": {
     "slide_type": "subslide"
    }
   },
   "source": [
    "It is observed that uniform weighting equals or slightly outperforms distance weighting at lower numbers of neighbors but that distance weighting provides better accuracy at higher numbers of neighbors.  The greatest accuracy among the number of neighbors explored occurs at 10 neighbors with distance weighting.  It can also be observed that the standard deviation of the results obtained through 10-fold cross-validation decreases by half between 1 neighbor and 10 neighbors.  Therefore, 10 neighbors with distance weighting is selected as the optimal model for KNN."
   ]
  },
  {
   "cell_type": "markdown",
   "metadata": {
    "slideshow": {
     "slide_type": "slide"
    }
   },
   "source": [
    "## Decision Tree"
   ]
  },
  {
   "cell_type": "markdown",
   "metadata": {
    "slideshow": {
     "slide_type": "fragment"
    }
   },
   "source": [
    "A decision tree is implemented with variation in the maximum depth allowed in the decision trees.  The entire feature set is retained for the decision trees because decision trees perform inherent feature selection in the process of determining where to split."
   ]
  },
  {
   "cell_type": "code",
   "execution_count": 64,
   "metadata": {
    "slideshow": {
     "slide_type": "skip"
    }
   },
   "outputs": [],
   "source": [
    "from sklearn.tree import DecisionTreeClassifier\n",
    "\n",
    "if (run_dec_tree or run_all):\n",
    "    dt_depth_list = []\n",
    "    dt_accuracy_list = []\n",
    "    dt_accuracy_std_list = []\n",
    "\n",
    "    for depth in range(1, 11):\n",
    "        dtc = DecisionTreeClassifier(criterion='entropy', max_depth=depth)\n",
    "\n",
    "        # fit model and evaluate performance through cross-validation\n",
    "        cv_score = cross_val_score(estimator=dtc, X=X, y=Y, cv=10)\n",
    "        model_avg_score = np.mean(cv_score)*100\n",
    "        model_std = np.std(cv_score)*100\n",
    "\n",
    "        # save model's max depth, average accuracy, and st dev of accuracy\n",
    "        dt_depth_list.append(depth)\n",
    "        dt_accuracy_list.append(model_avg_score)\n",
    "        dt_accuracy_std_list.append(model_std)"
   ]
  },
  {
   "cell_type": "code",
   "execution_count": 65,
   "metadata": {
    "slideshow": {
     "slide_type": "skip"
    }
   },
   "outputs": [],
   "source": [
    "if (run_dec_tree or run_all):\n",
    "    df_data = np.vstack((np.array(dt_depth_list), np.array(dt_accuracy_list), \n",
    "           np.array(dt_accuracy_std_list))).T\n",
    "    df_results_dt = pd.DataFrame(data=df_data, columns=['Max Depth', 'Model Average Accuracy', 'Model Accuracy St Dev'])\n",
    "    df_results_dt"
   ]
  },
  {
   "cell_type": "markdown",
   "metadata": {
    "slideshow": {
     "slide_type": "subslide"
    }
   },
   "source": [
    "The average accuracy and standard deviation of the accuracies (obtained through 10-fold cross-validation) of the model for each maximum tree depth are plotted."
   ]
  },
  {
   "cell_type": "code",
   "execution_count": 66,
   "metadata": {
    "slideshow": {
     "slide_type": "subslide"
    }
   },
   "outputs": [
    {
     "data": {
      "image/png": "[encoded data removed]",
      "text/plain": [
       "<Figure size 1080x360 with 2 Axes>"
      ]
     },
     "metadata": {
      "needs_background": "light"
     },
     "output_type": "display_data"
    }
   ],
   "source": [
    "if (run_dec_tree or run_all):\n",
    "    plt.figure(figsize=(15, 5))\n",
    "    plt.subplot(1, 2, 1)\n",
    "    plt.scatter(df_results_dt['Max Depth'], df_results_dt['Model Average Accuracy'])\n",
    "    plt.xticks(df_results_dt['Max Depth'])\n",
    "    plt.xlabel('Maximum Depth of Decision Tree')\n",
    "    plt.ylabel('Model Average Accuracy')\n",
    "\n",
    "    plt.subplot(1, 2, 2)\n",
    "    plt.scatter(df_results_dt['Max Depth'], df_results_dt['Model Accuracy St Dev'])\n",
    "    plt.xticks(df_results_dt['Max Depth'])\n",
    "    plt.xlabel('Maximum Depth of Decision Tree')\n",
    "    plt.ylabel('Model Accuracy St Dev')\n",
    "\n",
    "    plt.show()"
   ]
  },
  {
   "cell_type": "markdown",
   "metadata": {
    "slideshow": {
     "slide_type": "subslide"
    }
   },
   "source": [
    "It is observed that the maximum accuracy for a decision tree occurs at a max depth of 7.  Additionally, the variation in the accuracy is at a relative minimum at a max depth of 7.  Therefore, a decision tree with a max depth of 7 is chosen as the optimal decision tree model.  With an optimal model chosen, the feature importances are inspected."
   ]
  },
  {
   "cell_type": "code",
   "execution_count": 84,
   "metadata": {
    "slideshow": {
     "slide_type": "subslide"
    }
   },
   "outputs": [
    {
     "name": "stdout",
     "output_type": "stream",
     "text": [
      "                          0\n",
      "Age_Inv            0.388116\n",
      "NumOfProducts_2    0.211425\n",
      "Balance            0.122124\n",
      "NumOfProducts_3    0.075756\n",
      "IsActiveMember     0.074212\n",
      "Geography_Germany  0.046646\n",
      "EstimatedSalary    0.033601\n",
      "CreditScore        0.020162\n",
      "NumOfProducts_4    0.010215\n",
      "IsMale             0.009003\n",
      "Tenure             0.008742\n",
      "HasCrCard          0.000000\n",
      "Geography_Spain    0.000000\n"
     ]
    }
   ],
   "source": [
    "if (run_dec_tree or run_all):\n",
    "    dtc = DecisionTreeClassifier(criterion='entropy', max_depth=7)\n",
    "    dtc.fit(X, Y)\n",
    "    df_feat_imp_dt = pd.DataFrame(data=dtc.feature_importances_, index=X.columns.values)\n",
    "    print(df_feat_imp_dt.sort_values(by=[0], ascending=False))"
   ]
  },
  {
   "cell_type": "markdown",
   "metadata": {
    "slideshow": {
     "slide_type": "fragment"
    }
   },
   "source": [
    "Similarly to logistic regression, it is observed that characteristics associated with the 'Age_Inv', 'NumOfProducts', and 'IsActiveMember' variables are important in the construction of the decision tree."
   ]
  },
  {
   "cell_type": "markdown",
   "metadata": {
    "slideshow": {
     "slide_type": "slide"
    }
   },
   "source": [
    "## Random Forest"
   ]
  },
  {
   "cell_type": "markdown",
   "metadata": {
    "slideshow": {
     "slide_type": "fragment"
    }
   },
   "source": [
    "A random forest is implemented with variation in the maximum depth allowed in the decision trees and in the number of trees in the forest.  The entire feature set is retained for the random forest because decision trees perform inherent feature selection in the process of determining where to split."
   ]
  },
  {
   "cell_type": "code",
   "execution_count": 68,
   "metadata": {
    "slideshow": {
     "slide_type": "skip"
    }
   },
   "outputs": [
    {
     "name": "stdout",
     "output_type": "stream",
     "text": [
      "Number of trees:  10\n",
      "Max depth:  2\n",
      "Max depth:  3\n",
      "Max depth:  4\n",
      "Max depth:  5\n",
      "Number of trees:  100\n",
      "Max depth:  2\n",
      "Max depth:  3\n",
      "Max depth:  4\n",
      "Max depth:  5\n",
      "Number of trees:  500\n",
      "Max depth:  2\n",
      "Max depth:  3\n",
      "Max depth:  4\n",
      "Max depth:  5\n",
      "Number of trees:  1000\n",
      "Max depth:  2\n",
      "Max depth:  3\n",
      "Max depth:  4\n",
      "Max depth:  5\n"
     ]
    }
   ],
   "source": [
    "from sklearn.ensemble import RandomForestClassifier\n",
    "\n",
    "if (run_rand_for or run_all):\n",
    "    rf_num_tree_list = []\n",
    "    rf_max_depth_list = []\n",
    "    rf_accuracy_list = []\n",
    "    rf_accuracy_std_list = []\n",
    "\n",
    "    for num_trees in [10, 100, 500, 1000]:\n",
    "        # included for progress tracking during extended runtime of cell\n",
    "        print('Number of trees:  ' + str(num_trees))\n",
    "\n",
    "        for max_depth1 in [2, 3, 4, 5]:\n",
    "            # included for progress tracking during extended runtime of cell\n",
    "            print('Max depth:  ' + str(max_depth1))\n",
    "\n",
    "            rfc = RandomForestClassifier(criterion='entropy', n_estimators=num_trees, max_depth=max_depth1)\n",
    "\n",
    "            # fit model and evaluate performance through cross-validation\n",
    "            cv_score = cross_val_score(estimator=rfc, X=X, y=Y, cv=10)\n",
    "            model_avg_score = np.mean(cv_score)*100\n",
    "            model_std = np.std(cv_score)*100\n",
    "\n",
    "            # save model's number of trees, max depth, average accuracy, and st dev of accuracy\n",
    "            rf_num_tree_list.append(num_trees)\n",
    "            rf_max_depth_list.append(max_depth1)\n",
    "            rf_accuracy_list.append(model_avg_score)\n",
    "            rf_accuracy_std_list.append(model_std)"
   ]
  },
  {
   "cell_type": "code",
   "execution_count": 69,
   "metadata": {
    "slideshow": {
     "slide_type": "skip"
    }
   },
   "outputs": [],
   "source": [
    "if (run_rand_for or run_all):\n",
    "    df_data = np.vstack((np.array(rf_num_tree_list), np.array(rf_max_depth_list), \n",
    "           np.array(rf_accuracy_list), np.array(rf_accuracy_std_list))).T\n",
    "    df_results_rf = pd.DataFrame(data=df_data, columns=['Number of Trees', 'Max Depth', 'Model Average Accuracy', \n",
    "                                                        'Model Accuracy St Dev'])\n",
    "    df_results_rf"
   ]
  },
  {
   "cell_type": "markdown",
   "metadata": {
    "slideshow": {
     "slide_type": "subslide"
    }
   },
   "source": [
    "The average accuracy and standard deviation of the accuracies (obtained through 10-fold cross-validation) of the model for each combination of number of trees and maximum depth of trees are plotted."
   ]
  },
  {
   "cell_type": "code",
   "execution_count": 70,
   "metadata": {
    "slideshow": {
     "slide_type": "subslide"
    }
   },
   "outputs": [
    {
     "data": {
      "image/png": "[encoded data removed]",
      "text/plain": [
       "<Figure size 1080x360 with 2 Axes>"
      ]
     },
     "metadata": {
      "needs_background": "light"
     },
     "output_type": "display_data"
    }
   ],
   "source": [
    "if (run_rand_for or run_all):\n",
    "    plt.figure(figsize=(15, 5))\n",
    "    plt.subplot(1, 2, 1)\n",
    "    sns.scatterplot(x='Number of Trees', y='Model Average Accuracy', hue='Max Depth', data=df_results_rf)\n",
    "\n",
    "    plt.subplot(1, 2, 2)\n",
    "    sns.scatterplot(x='Number of Trees', y='Model Accuracy St Dev', hue='Max Depth', data=df_results_rf)\n",
    "\n",
    "    plt.show()"
   ]
  },
  {
   "cell_type": "markdown",
   "metadata": {
    "slideshow": {
     "slide_type": "subslide"
    }
   },
   "source": [
    "It is observed that accuracy increases with a greater max depth for the component trees in the random forest.  There is a varied effect of increasing the number of trees in the model for differing max depths.  Inspection of these plots shows that the best performance is for a maximum tree depth of 5 and that there is marginal improvement at higher numbers of trees.  Therefore, a random forest with a maximum depth of 5 and 100 component trees is chosen as the optimal model for the random forest.  With an optimal model chosen, the feature importances are inspected."
   ]
  },
  {
   "cell_type": "code",
   "execution_count": 85,
   "metadata": {
    "slideshow": {
     "slide_type": "subslide"
    }
   },
   "outputs": [
    {
     "name": "stdout",
     "output_type": "stream",
     "text": [
      "                          0\n",
      "Age_Inv            0.366690\n",
      "NumOfProducts_2    0.245722\n",
      "NumOfProducts_3    0.119790\n",
      "Geography_Germany  0.065989\n",
      "IsActiveMember     0.063431\n",
      "Balance            0.060130\n",
      "NumOfProducts_4    0.028124\n",
      "IsMale             0.016584\n",
      "CreditScore        0.015840\n",
      "EstimatedSalary    0.010851\n",
      "Tenure             0.004020\n",
      "Geography_Spain    0.001973\n",
      "HasCrCard          0.000856\n"
     ]
    }
   ],
   "source": [
    "if (run_rand_for or run_all):\n",
    "    rfc = RandomForestClassifier(criterion='entropy', n_estimators=100, max_depth=5)\n",
    "    rfc.fit(X, Y)\n",
    "    df_feat_imp_rf = pd.DataFrame(data=rfc.feature_importances_, index=X.columns.values)\n",
    "    print(df_feat_imp_rf.sort_values(by=[0], ascending=False))"
   ]
  },
  {
   "cell_type": "markdown",
   "metadata": {
    "slideshow": {
     "slide_type": "fragment"
    }
   },
   "source": [
    "Similarly to logistic regression, it is observed that characteristics associated with the 'Age_Inv', 'NumOfProducts', and 'IsActiveMember' variables are important in the construction of the decision tree."
   ]
  },
  {
   "cell_type": "markdown",
   "metadata": {
    "slideshow": {
     "slide_type": "slide"
    }
   },
   "source": [
    "## Support Vector Classifier"
   ]
  },
  {
   "cell_type": "markdown",
   "metadata": {
    "slideshow": {
     "slide_type": "fragment"
    }
   },
   "source": [
    "A support vector classifier is implemented with the entire feature set.  There are not so many features that it is computationally-prohibitive so they are all retained."
   ]
  },
  {
   "cell_type": "code",
   "execution_count": 72,
   "metadata": {
    "slideshow": {
     "slide_type": "subslide"
    }
   },
   "outputs": [
    {
     "name": "stdout",
     "output_type": "stream",
     "text": [
      "Model Average Accuracy:  81.96996927996928%.\n",
      "Model Accuracy St Dev:  0.4277511689224928%.\n"
     ]
    }
   ],
   "source": [
    "from sklearn.svm import SVC\n",
    "\n",
    "if (run_svc or run_all):\n",
    "    svc_model = SVC(gamma='auto')\n",
    "\n",
    "    cv_score = cross_val_score(estimator=svc_model, X=X, y=Y, cv=10)\n",
    "    svc_accuracy = np.mean(cv_score)*100\n",
    "    svc_accuracy_std = np.std(cv_score)*100\n",
    "\n",
    "    print('Model Average Accuracy:  ' + str(svc_accuracy) + '%.')\n",
    "    print('Model Accuracy St Dev:  ' + str(svc_accuracy_std) + '%.')"
   ]
  },
  {
   "cell_type": "markdown",
   "metadata": {
    "slideshow": {
     "slide_type": "slide"
    }
   },
   "source": [
    "## Gradient Boosting Classifier"
   ]
  },
  {
   "cell_type": "code",
   "execution_count": 73,
   "metadata": {
    "slideshow": {
     "slide_type": "skip"
    }
   },
   "outputs": [
    {
     "name": "stdout",
     "output_type": "stream",
     "text": [
      "Number of estimators:  10\n",
      "Learning rate:  0.1\n",
      "Learning rate:  0.2\n",
      "Learning rate:  0.3\n",
      "Learning rate:  0.4\n",
      "Learning rate:  0.5\n",
      "Number of estimators:  100\n",
      "Learning rate:  0.1\n",
      "Learning rate:  0.2\n",
      "Learning rate:  0.3\n",
      "Learning rate:  0.4\n",
      "Learning rate:  0.5\n",
      "Number of estimators:  200\n",
      "Learning rate:  0.1\n",
      "Learning rate:  0.2\n",
      "Learning rate:  0.3\n",
      "Learning rate:  0.4\n",
      "Learning rate:  0.5\n",
      "Number of estimators:  500\n",
      "Learning rate:  0.1\n",
      "Learning rate:  0.2\n",
      "Learning rate:  0.3\n",
      "Learning rate:  0.4\n",
      "Learning rate:  0.5\n"
     ]
    }
   ],
   "source": [
    "from sklearn.ensemble import GradientBoostingClassifier\n",
    "\n",
    "if (run_grad_boost or run_all):\n",
    "    gb_num_estimators_list = []\n",
    "    gb_learn_rate_list = []\n",
    "    gb_accuracy_list = []\n",
    "    gb_accuracy_std_list = []\n",
    "\n",
    "    for num_estimators in [10, 100, 200, 500]:\n",
    "        # included for progress tracking during extended runtime of cell\n",
    "        print('Number of estimators:  ' + str(num_estimators))\n",
    "\n",
    "        for learn_rate in [0.1, 0.2, 0.3, 0.4, 0.5]:\n",
    "            # included for progress tracking during extended runtime of cell\n",
    "            print('Learning rate:  ' + str(learn_rate))\n",
    "\n",
    "            gbc = GradientBoostingClassifier(n_estimators=num_estimators, learning_rate=learn_rate)\n",
    "\n",
    "            # fit model and evaluate performance through cross-validation\n",
    "            cv_score = cross_val_score(estimator=gbc, X=X, y=Y, cv=10)\n",
    "            model_avg_score = np.mean(cv_score)*100\n",
    "            model_std = np.std(cv_score)*100\n",
    "\n",
    "            # save model's number of estimators, learning rate, average accuracy, and st dev of accuracy\n",
    "            gb_num_estimators_list.append(num_estimators)\n",
    "            gb_learn_rate_list.append(learn_rate)\n",
    "            gb_accuracy_list.append(model_avg_score)\n",
    "            gb_accuracy_std_list.append(model_std)"
   ]
  },
  {
   "cell_type": "code",
   "execution_count": 74,
   "metadata": {
    "slideshow": {
     "slide_type": "skip"
    }
   },
   "outputs": [],
   "source": [
    "if (run_grad_boost or run_all):\n",
    "    df_data = np.vstack((np.array(gb_num_estimators_list), np.array(gb_learn_rate_list), \n",
    "           np.array(gb_accuracy_list), np.array(gb_accuracy_std_list))).T\n",
    "    df_results_gb = pd.DataFrame(data=df_data, columns=['Number of Estimators', 'Learning Rate', \n",
    "                                                        'Model Average Accuracy', 'Model Accuracy St Dev'])\n",
    "    df_results_gb"
   ]
  },
  {
   "cell_type": "markdown",
   "metadata": {
    "slideshow": {
     "slide_type": "subslide"
    }
   },
   "source": [
    "The average accuracy and standard deviation of the accuracies (obtained through 10-fold cross-validation) of the model for each combination of number of estimators and learning rate are plotted."
   ]
  },
  {
   "cell_type": "code",
   "execution_count": 86,
   "metadata": {
    "slideshow": {
     "slide_type": "subslide"
    }
   },
   "outputs": [
    {
     "data": {
      "image/png": "[encoded data removed]",
      "text/plain": [
       "<Figure size 1080x360 with 2 Axes>"
      ]
     },
     "metadata": {
      "needs_background": "light"
     },
     "output_type": "display_data"
    }
   ],
   "source": [
    "if (run_grad_boost or run_all):\n",
    "    legend_list = []\n",
    "    plt.figure(figsize=(15, 5)), plt.subplot(1, 2, 1)\n",
    "    for num_est in df_results_gb['Number of Estimators'].unique():\n",
    "        df_select = df_results_gb[df_results_gb['Number of Estimators'] == num_est]\n",
    "        plt.scatter(df_select['Learning Rate'], df_select['Model Average Accuracy'])\n",
    "        legend_list.append(num_est)\n",
    "    plt.legend(legend_list, title='# Estimators'), plt.xlabel('Learning Rate'), plt.ylabel('Model Average Accuracy')    \n",
    "    plt.subplot(1, 2, 2)\n",
    "    for num_est in df_results_gb['Number of Estimators'].unique():\n",
    "        df_select = df_results_gb[df_results_gb['Number of Estimators'] == num_est]\n",
    "        plt.scatter(df_select['Learning Rate'], df_select['Model Accuracy St Dev'])\n",
    "        legend_list.append(num_est)\n",
    "    plt.legend(legend_list, title='# Estimators'), plt.xlabel('Learning Rate'), plt.ylabel('Model Accuracy St Dev'), plt.show()"
   ]
  },
  {
   "cell_type": "markdown",
   "metadata": {
    "slideshow": {
     "slide_type": "subslide"
    }
   },
   "source": [
    "It is observed that the best accuracies are obtained at a learning rate of 0.1.  The number of estimators has a small impact on the accuracy for numbers of estimators of 100, 200, and 500 at this learning rate.  The model with 200 estimators demonstrates the best accuracy at this learning rate and is closely followed by the model with 100 estimators.  The differences between the average accuracies and accuracy standard deviations are compared."
   ]
  },
  {
   "cell_type": "code",
   "execution_count": 76,
   "metadata": {
    "slideshow": {
     "slide_type": "subslide"
    }
   },
   "outputs": [
    {
     "name": "stdout",
     "output_type": "stream",
     "text": [
      "Difference between accuracies:  0.01996003996003992\n",
      "Difference between accuracy standard deviations:  0.06465289848289957\n"
     ]
    }
   ],
   "source": [
    "if (run_grad_boost or run_all):\n",
    "    accuracy_diff_gb = df_results_gb.iloc[10]['Model Average Accuracy'] - df_results_gb.iloc[5]['Model Average Accuracy']\n",
    "    accuracy_diff_std_gb = df_results_gb.iloc[10]['Model Accuracy St Dev'] - df_results_gb.iloc[5]['Model Accuracy St Dev']\n",
    "\n",
    "    print('Difference between accuracies:  ' + str(accuracy_diff_gb))\n",
    "    print('Difference between accuracy standard deviations:  ' + str(accuracy_diff_std_gb))"
   ]
  },
  {
   "cell_type": "markdown",
   "metadata": {
    "slideshow": {
     "slide_type": "fragment"
    }
   },
   "source": [
    "With the difference between the accuracy standard deviations being a few times the size of the difference between the average accuracies, the model with 100 estimators and a learning rate of 0.1 is chosen since it will provide a more consistent prediction with almost the same accuracy as the model with 200 estimators."
   ]
  },
  {
   "cell_type": "markdown",
   "metadata": {
    "slideshow": {
     "slide_type": "slide"
    }
   },
   "source": [
    "## Model performance"
   ]
  },
  {
   "cell_type": "markdown",
   "metadata": {
    "slideshow": {
     "slide_type": "fragment"
    }
   },
   "source": [
    "After optimal model parameters have been selected for each model, the data set is split into train and test groups so that models of each type with the optimal parameters can be fitted and tested."
   ]
  },
  {
   "cell_type": "code",
   "execution_count": 77,
   "metadata": {
    "slideshow": {
     "slide_type": "skip"
    }
   },
   "outputs": [],
   "source": [
    "from sklearn.model_selection import train_test_split\n",
    "from sklearn.metrics import confusion_matrix\n",
    "\n",
    "log_reg_cfm_list = [0, 0, 0, 0]\n",
    "knn_cfm_list = log_reg_cfm_list.copy()\n",
    "dt_cfm_list = log_reg_cfm_list.copy()\n",
    "rf_cfm_list = log_reg_cfm_list.copy()\n",
    "svc_cfm_list = log_reg_cfm_list.copy()\n",
    "gb_cfm_list = log_reg_cfm_list.copy()\n",
    "\n",
    "for rand_state in [256, 205, 504, 281, 865]:\n",
    "    \n",
    "    # split data into test and training sets\n",
    "    X_train, X_test, Y_train, Y_test = train_test_split(X, Y, test_size = 0.2, random_state=rand_state + 303)\n",
    "\n",
    "    # create logistic regression model\n",
    "    log_reg_eval = LogisticRegression(random_state=20, solver='lbfgs')\n",
    "    X_train_log_reg_eval = X_train[['Age_Inv', 'IsActiveMember', 'NumOfProducts_2', 'NumOfProducts_3', 'NumOfProducts_4', \n",
    "                                   'EstimatedSalary']]\n",
    "    X_test_log_reg_eval = X_test[['Age_Inv', 'IsActiveMember', 'NumOfProducts_2', 'NumOfProducts_3', 'NumOfProducts_4', \n",
    "                                   'EstimatedSalary']]\n",
    "    log_reg_eval.fit(X_train_log_reg_eval, Y_train)\n",
    "    \n",
    "    # create confusion matrix and save entries\n",
    "    cfm = confusion_matrix(Y_test, log_reg_eval.predict(X_test_log_reg_eval))\n",
    "    log_reg_cfm_list[0] += cfm[0, 0]\n",
    "    log_reg_cfm_list[1] += cfm[0, 1]\n",
    "    log_reg_cfm_list[2] += cfm[1, 0]\n",
    "    log_reg_cfm_list[3] += cfm[1, 1]\n",
    "\n",
    "    # create KNN model\n",
    "    knn_eval = KNeighborsClassifier(n_neighbors=10, weights='distance')\n",
    "    knn_eval.fit(X_train, Y_train)\n",
    "    \n",
    "    # create confusion matrix and save entries\n",
    "    cfm = confusion_matrix(Y_test, knn_eval.predict(X_test))\n",
    "    knn_cfm_list[0] += cfm[0, 0]\n",
    "    knn_cfm_list[1] += cfm[0, 1]\n",
    "    knn_cfm_list[2] += cfm[1, 0]\n",
    "    knn_cfm_list[3] += cfm[1, 1]\n",
    "\n",
    "    # create decision tree model\n",
    "    dt_eval = DecisionTreeClassifier(criterion='entropy', max_depth=7)\n",
    "    dt_eval.fit(X_train, Y_train)\n",
    "    \n",
    "    # create confusion matrix and save entries\n",
    "    cfm = confusion_matrix(Y_test, dt_eval.predict(X_test))\n",
    "    dt_cfm_list[0] += cfm[0, 0]\n",
    "    dt_cfm_list[1] += cfm[0, 1]\n",
    "    dt_cfm_list[2] += cfm[1, 0]\n",
    "    dt_cfm_list[3] += cfm[1, 1]\n",
    "\n",
    "    # create random forest model\n",
    "    rf_eval = RandomForestClassifier(criterion='entropy', n_estimators=100, max_depth=5)\n",
    "    rf_eval.fit(X_train, Y_train)\n",
    "    \n",
    "    # create confusion matrix and save entries\n",
    "    cfm = confusion_matrix(Y_test, rf_eval.predict(X_test))\n",
    "    rf_cfm_list[0] += cfm[0, 0]\n",
    "    rf_cfm_list[1] += cfm[0, 1]\n",
    "    rf_cfm_list[2] += cfm[1, 0]\n",
    "    rf_cfm_list[3] += cfm[1, 1]\n",
    "\n",
    "    # create SVC model\n",
    "    svc_eval = SVC(gamma='auto')\n",
    "    svc_eval.fit(X_train, Y_train)\n",
    "    \n",
    "    # create confusion matrix and save entries\n",
    "    cfm = confusion_matrix(Y_test, svc_eval.predict(X_test))\n",
    "    svc_cfm_list[0] += cfm[0, 0]\n",
    "    svc_cfm_list[1] += cfm[0, 1]\n",
    "    svc_cfm_list[2] += cfm[1, 0]\n",
    "    svc_cfm_list[3] += cfm[1, 1]\n",
    "\n",
    "    # create gradient boosting model\n",
    "    gb_eval = GradientBoostingClassifier(n_estimators=100, learning_rate=0.1)\n",
    "    gb_eval.fit(X_train, Y_train)\n",
    "    \n",
    "    # create confusion matrix and save entries\n",
    "    cfm = confusion_matrix(Y_test, gb_eval.predict(X_test))\n",
    "    gb_cfm_list[0] += cfm[0, 0]\n",
    "    gb_cfm_list[1] += cfm[0, 1]\n",
    "    gb_cfm_list[2] += cfm[1, 0]\n",
    "    gb_cfm_list[3] += cfm[1, 1]"
   ]
  },
  {
   "cell_type": "code",
   "execution_count": 78,
   "metadata": {
    "slideshow": {
     "slide_type": "fragment"
    }
   },
   "outputs": [
    {
     "data": {
      "text/html": [
       "<div>\n",
       "<style scoped>\n",
       "    .dataframe tbody tr th:only-of-type {\n",
       "        vertical-align: middle;\n",
       "    }\n",
       "\n",
       "    .dataframe tbody tr th {\n",
       "        vertical-align: top;\n",
       "    }\n",
       "\n",
       "    .dataframe thead th {\n",
       "        text-align: right;\n",
       "    }\n",
       "</style>\n",
       "<table border=\"1\" class=\"dataframe\">\n",
       "  <thead>\n",
       "    <tr style=\"text-align: right;\">\n",
       "      <th></th>\n",
       "      <th>Both 0</th>\n",
       "      <th>True 0, Pred 1</th>\n",
       "      <th>True 1, Pred 0</th>\n",
       "      <th>Both 1</th>\n",
       "    </tr>\n",
       "  </thead>\n",
       "  <tbody>\n",
       "    <tr>\n",
       "      <th>Log Reg</th>\n",
       "      <td>78.08</td>\n",
       "      <td>1.67</td>\n",
       "      <td>13.28</td>\n",
       "      <td>6.97</td>\n",
       "    </tr>\n",
       "    <tr>\n",
       "      <th>KNN</th>\n",
       "      <td>75.67</td>\n",
       "      <td>4.08</td>\n",
       "      <td>12.75</td>\n",
       "      <td>7.50</td>\n",
       "    </tr>\n",
       "    <tr>\n",
       "      <th>Decision Tree</th>\n",
       "      <td>76.35</td>\n",
       "      <td>3.40</td>\n",
       "      <td>11.01</td>\n",
       "      <td>9.24</td>\n",
       "    </tr>\n",
       "    <tr>\n",
       "      <th>Random Forest</th>\n",
       "      <td>78.97</td>\n",
       "      <td>0.78</td>\n",
       "      <td>14.12</td>\n",
       "      <td>6.13</td>\n",
       "    </tr>\n",
       "    <tr>\n",
       "      <th>SVC</th>\n",
       "      <td>79.36</td>\n",
       "      <td>0.39</td>\n",
       "      <td>17.53</td>\n",
       "      <td>2.72</td>\n",
       "    </tr>\n",
       "    <tr>\n",
       "      <th>Grad. Boost</th>\n",
       "      <td>77.09</td>\n",
       "      <td>2.66</td>\n",
       "      <td>10.55</td>\n",
       "      <td>9.70</td>\n",
       "    </tr>\n",
       "  </tbody>\n",
       "</table>\n",
       "</div>"
      ],
      "text/plain": [
       "               Both 0  True 0, Pred 1  True 1, Pred 0  Both 1\n",
       "Log Reg         78.08            1.67           13.28    6.97\n",
       "KNN             75.67            4.08           12.75    7.50\n",
       "Decision Tree   76.35            3.40           11.01    9.24\n",
       "Random Forest   78.97            0.78           14.12    6.13\n",
       "SVC             79.36            0.39           17.53    2.72\n",
       "Grad. Boost     77.09            2.66           10.55    9.70"
      ]
     },
     "execution_count": 78,
     "metadata": {},
     "output_type": "execute_result"
    }
   ],
   "source": [
    "total_preds = sum(log_reg_cfm_list)\n",
    "\n",
    "model_perf_df = pd.DataFrame(data=np.vstack((log_reg_cfm_list, knn_cfm_list, dt_cfm_list, rf_cfm_list, \n",
    "                                             svc_cfm_list, gb_cfm_list))/total_preds*100, \n",
    "                             columns=['Both 0', 'True 0, Pred 1', 'True 1, Pred 0', 'Both 1'], \n",
    "                            index=['Log Reg', 'KNN', 'Decision Tree', 'Random Forest', 'SVC', 'Grad. Boost'])\n",
    "model_perf_df"
   ]
  },
  {
   "cell_type": "markdown",
   "metadata": {
    "slideshow": {
     "slide_type": "subslide"
    }
   },
   "source": [
    "Performance characteristics for a classifier such as accuracy, sensitivity, and specificity are calculated."
   ]
  },
  {
   "cell_type": "code",
   "execution_count": 79,
   "metadata": {
    "slideshow": {
     "slide_type": "fragment"
    }
   },
   "outputs": [
    {
     "data": {
      "text/html": [
       "<div>\n",
       "<style scoped>\n",
       "    .dataframe tbody tr th:only-of-type {\n",
       "        vertical-align: middle;\n",
       "    }\n",
       "\n",
       "    .dataframe tbody tr th {\n",
       "        vertical-align: top;\n",
       "    }\n",
       "\n",
       "    .dataframe thead th {\n",
       "        text-align: right;\n",
       "    }\n",
       "</style>\n",
       "<table border=\"1\" class=\"dataframe\">\n",
       "  <thead>\n",
       "    <tr style=\"text-align: right;\">\n",
       "      <th></th>\n",
       "      <th>Both 0</th>\n",
       "      <th>True 0, Pred 1</th>\n",
       "      <th>True 1, Pred 0</th>\n",
       "      <th>Both 1</th>\n",
       "      <th>Accuracy</th>\n",
       "      <th>Sensitivity</th>\n",
       "      <th>Specificity</th>\n",
       "    </tr>\n",
       "  </thead>\n",
       "  <tbody>\n",
       "    <tr>\n",
       "      <th>Log Reg</th>\n",
       "      <td>78.08</td>\n",
       "      <td>1.67</td>\n",
       "      <td>13.28</td>\n",
       "      <td>6.97</td>\n",
       "      <td>85.05</td>\n",
       "      <td>34.419753</td>\n",
       "      <td>97.905956</td>\n",
       "    </tr>\n",
       "    <tr>\n",
       "      <th>KNN</th>\n",
       "      <td>75.67</td>\n",
       "      <td>4.08</td>\n",
       "      <td>12.75</td>\n",
       "      <td>7.50</td>\n",
       "      <td>83.17</td>\n",
       "      <td>37.037037</td>\n",
       "      <td>94.884013</td>\n",
       "    </tr>\n",
       "    <tr>\n",
       "      <th>Decision Tree</th>\n",
       "      <td>76.35</td>\n",
       "      <td>3.40</td>\n",
       "      <td>11.01</td>\n",
       "      <td>9.24</td>\n",
       "      <td>85.59</td>\n",
       "      <td>45.629630</td>\n",
       "      <td>95.736677</td>\n",
       "    </tr>\n",
       "    <tr>\n",
       "      <th>Random Forest</th>\n",
       "      <td>78.97</td>\n",
       "      <td>0.78</td>\n",
       "      <td>14.12</td>\n",
       "      <td>6.13</td>\n",
       "      <td>85.10</td>\n",
       "      <td>30.271605</td>\n",
       "      <td>99.021944</td>\n",
       "    </tr>\n",
       "    <tr>\n",
       "      <th>SVC</th>\n",
       "      <td>79.36</td>\n",
       "      <td>0.39</td>\n",
       "      <td>17.53</td>\n",
       "      <td>2.72</td>\n",
       "      <td>82.08</td>\n",
       "      <td>13.432099</td>\n",
       "      <td>99.510972</td>\n",
       "    </tr>\n",
       "    <tr>\n",
       "      <th>Grad. Boost</th>\n",
       "      <td>77.09</td>\n",
       "      <td>2.66</td>\n",
       "      <td>10.55</td>\n",
       "      <td>9.70</td>\n",
       "      <td>86.79</td>\n",
       "      <td>47.901235</td>\n",
       "      <td>96.664577</td>\n",
       "    </tr>\n",
       "  </tbody>\n",
       "</table>\n",
       "</div>"
      ],
      "text/plain": [
       "               Both 0  True 0, Pred 1  True 1, Pred 0  Both 1  Accuracy  \\\n",
       "Log Reg         78.08            1.67           13.28    6.97     85.05   \n",
       "KNN             75.67            4.08           12.75    7.50     83.17   \n",
       "Decision Tree   76.35            3.40           11.01    9.24     85.59   \n",
       "Random Forest   78.97            0.78           14.12    6.13     85.10   \n",
       "SVC             79.36            0.39           17.53    2.72     82.08   \n",
       "Grad. Boost     77.09            2.66           10.55    9.70     86.79   \n",
       "\n",
       "               Sensitivity  Specificity  \n",
       "Log Reg          34.419753    97.905956  \n",
       "KNN              37.037037    94.884013  \n",
       "Decision Tree    45.629630    95.736677  \n",
       "Random Forest    30.271605    99.021944  \n",
       "SVC              13.432099    99.510972  \n",
       "Grad. Boost      47.901235    96.664577  "
      ]
     },
     "execution_count": 79,
     "metadata": {},
     "output_type": "execute_result"
    }
   ],
   "source": [
    "model_perf_df['Accuracy'] = model_perf_df['Both 0'] + model_perf_df['Both 1']\n",
    "model_perf_df['Sensitivity'] = model_perf_df['Both 1']/(model_perf_df['Both 1'] + model_perf_df['True 1, Pred 0'])*100\n",
    "model_perf_df['Specificity'] = model_perf_df['Both 0']/(model_perf_df['Both 0'] + model_perf_df['True 0, Pred 1'])*100\n",
    "model_perf_df"
   ]
  },
  {
   "cell_type": "code",
   "execution_count": 80,
   "metadata": {
    "slideshow": {
     "slide_type": "subslide"
    }
   },
   "outputs": [
    {
     "name": "stdout",
     "output_type": "stream",
     "text": [
      "The models in order of accuracy are:\n",
      "Grad. Boost      86.79\n",
      "Decision Tree    85.59\n",
      "Random Forest    85.10\n",
      "Log Reg          85.05\n",
      "KNN              83.17\n",
      "SVC              82.08\n",
      "Name: Accuracy, dtype: float64\n"
     ]
    }
   ],
   "source": [
    "print('The models in order of accuracy are:')\n",
    "print(model_perf_df['Accuracy'].sort_values(ascending=False))"
   ]
  },
  {
   "cell_type": "code",
   "execution_count": 81,
   "metadata": {
    "slideshow": {
     "slide_type": "subslide"
    }
   },
   "outputs": [
    {
     "name": "stdout",
     "output_type": "stream",
     "text": [
      "The models in order of sensitivity are:\n",
      "Grad. Boost      47.901235\n",
      "Decision Tree    45.629630\n",
      "KNN              37.037037\n",
      "Log Reg          34.419753\n",
      "Random Forest    30.271605\n",
      "SVC              13.432099\n",
      "Name: Sensitivity, dtype: float64\n"
     ]
    }
   ],
   "source": [
    "print('The models in order of sensitivity are:')\n",
    "print(model_perf_df['Sensitivity'].sort_values(ascending=False))"
   ]
  },
  {
   "cell_type": "code",
   "execution_count": 82,
   "metadata": {
    "slideshow": {
     "slide_type": "subslide"
    }
   },
   "outputs": [
    {
     "name": "stdout",
     "output_type": "stream",
     "text": [
      "The models in order of specificity are:\n",
      "SVC              99.510972\n",
      "Random Forest    99.021944\n",
      "Log Reg          97.905956\n",
      "Grad. Boost      96.664577\n",
      "Decision Tree    95.736677\n",
      "KNN              94.884013\n",
      "Name: Specificity, dtype: float64\n"
     ]
    }
   ],
   "source": [
    "print('The models in order of specificity are:')\n",
    "print(model_perf_df['Specificity'].sort_values(ascending=False))"
   ]
  },
  {
   "cell_type": "markdown",
   "metadata": {
    "slideshow": {
     "slide_type": "subslide"
    }
   },
   "source": [
    "For the purpose of identifying which customers are likely to close their accounts, the accuracy and sensitivity are the most important measures of a model's performance.  Specificity is not as important in this case because a lack of it might lead the company to engage a customer that was not likely to leave anyway.  The potential lack of efficiency of resource utilization in engaging with a customer unnecessarily is not necessarily a bad outcome when compared to not engaging with a customer that is susceptible to close their account.  The specificity is additionally diminished in importance due to the imbalance of the original dataset where 79.63% of customers did not close their accounts.  The gradient boosting and decision tree models perform the best in the areas of accuracy and sensitivity.  The accuracy of the various models is much more closely grouped on account of their collective ability to identify customers that do not close their accounts well, but the gradient boosting and decision tree models perform much better than the rest in identifying customers who do close their accounts.  Despite being the best models, the gradient boosting and decision tree models still identify fewer than 50% of customers who close their accounts correctly.  This is likely related to the lack of strong correlation between any of the explanatory variables and the target variable of whether the customer closed their account.  In a theoretical situation where more data could be obtained, it could be worthwhile to collect data on more factors associated with the customers and their experience with the bank in order to create a better model with increased ability to predict whether a customer will close their account."
   ]
  }
 ],
 "metadata": {
  "celltoolbar": "Slideshow",
  "kernelspec": {
   "display_name": "Python 3",
   "language": "python",
   "name": "python3"
  },
  "language_info": {
   "codemirror_mode": {
    "name": "ipython",
    "version": 3
   },
   "file_extension": ".py",
   "mimetype": "text/x-python",
   "name": "python",
   "nbconvert_exporter": "python",
   "pygments_lexer": "ipython3",
   "version": "3.7.3"
  }
 },
 "nbformat": 4,
 "nbformat_minor": 2
}
